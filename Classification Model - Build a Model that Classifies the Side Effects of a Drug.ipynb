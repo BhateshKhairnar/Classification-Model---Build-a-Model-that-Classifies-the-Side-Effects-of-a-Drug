{
 "cells": [
  {
   "cell_type": "code",
   "execution_count": 1,
   "id": "b1dccf9e",
   "metadata": {},
   "outputs": [
    {
     "name": "stdout",
     "output_type": "stream",
     "text": [
      "Requirement already satisfied: faker in c:\\users\\bhate\\anaconda3\\lib\\site-packages (35.2.0)\n",
      "Requirement already satisfied: python-dateutil>=2.4 in c:\\users\\bhate\\anaconda3\\lib\\site-packages (from faker) (2.9.0.post0)\n",
      "Requirement already satisfied: typing-extensions in c:\\users\\bhate\\anaconda3\\lib\\site-packages (from faker) (4.12.2)\n",
      "Requirement already satisfied: six>=1.5 in c:\\users\\bhate\\anaconda3\\lib\\site-packages (from python-dateutil>=2.4->faker) (1.16.0)\n",
      "Note: you may need to restart the kernel to use updated packages.\n"
     ]
    }
   ],
   "source": [
    "pip install faker"
   ]
  },
  {
   "cell_type": "markdown",
   "id": "70b103ef",
   "metadata": {},
   "source": [
    "# Importing standard libraries"
   ]
  },
  {
   "cell_type": "code",
   "execution_count": 3,
   "id": "a933930c",
   "metadata": {},
   "outputs": [],
   "source": [
    "from faker import Faker\n",
    "import numpy as np\n",
    "import pandas as pd\n",
    "from random import choice, sample\n",
    "import matplotlib.pyplot as plt\n",
    "import seaborn as sns\n",
    "%matplotlib inline\n",
    "\n",
    "import warnings\n",
    "warnings.filterwarnings('ignore')"
   ]
  },
  {
   "cell_type": "code",
   "execution_count": 4,
   "id": "88625d89",
   "metadata": {},
   "outputs": [],
   "source": [
    "df1 = Faker()"
   ]
  },
  {
   "cell_type": "markdown",
   "id": "3a1bcf97",
   "metadata": {},
   "source": [
    "### Creating name column with Faker"
   ]
  },
  {
   "cell_type": "code",
   "execution_count": 6,
   "id": "ec0e3a3b",
   "metadata": {},
   "outputs": [],
   "source": [
    "def create_names(n):\n",
    "   name = []\n",
    "   for _ in range(0, n):\n",
    "        name.append(df1.name())\n",
    "   return name"
   ]
  },
  {
   "cell_type": "code",
   "execution_count": 7,
   "id": "cac28c8e",
   "metadata": {},
   "outputs": [],
   "source": [
    "name = create_names(362806)"
   ]
  },
  {
   "cell_type": "code",
   "execution_count": 8,
   "id": "eb488510",
   "metadata": {},
   "outputs": [],
   "source": [
    "df_name = pd.DataFrame(list(zip(name)),columns = ['Name'])"
   ]
  },
  {
   "cell_type": "code",
   "execution_count": 9,
   "id": "af443417",
   "metadata": {},
   "outputs": [
    {
     "data": {
      "text/html": [
       "<div>\n",
       "<style scoped>\n",
       "    .dataframe tbody tr th:only-of-type {\n",
       "        vertical-align: middle;\n",
       "    }\n",
       "\n",
       "    .dataframe tbody tr th {\n",
       "        vertical-align: top;\n",
       "    }\n",
       "\n",
       "    .dataframe thead th {\n",
       "        text-align: right;\n",
       "    }\n",
       "</style>\n",
       "<table border=\"1\" class=\"dataframe\">\n",
       "  <thead>\n",
       "    <tr style=\"text-align: right;\">\n",
       "      <th></th>\n",
       "      <th>Name</th>\n",
       "    </tr>\n",
       "  </thead>\n",
       "  <tbody>\n",
       "    <tr>\n",
       "      <th>0</th>\n",
       "      <td>Cameron Martin</td>\n",
       "    </tr>\n",
       "    <tr>\n",
       "      <th>1</th>\n",
       "      <td>Whitney Parker</td>\n",
       "    </tr>\n",
       "    <tr>\n",
       "      <th>2</th>\n",
       "      <td>Brittany Green</td>\n",
       "    </tr>\n",
       "    <tr>\n",
       "      <th>3</th>\n",
       "      <td>Willie Munoz</td>\n",
       "    </tr>\n",
       "    <tr>\n",
       "      <th>4</th>\n",
       "      <td>Krystal Barrett DVM</td>\n",
       "    </tr>\n",
       "  </tbody>\n",
       "</table>\n",
       "</div>"
      ],
      "text/plain": [
       "                  Name\n",
       "0       Cameron Martin\n",
       "1       Whitney Parker\n",
       "2       Brittany Green\n",
       "3         Willie Munoz\n",
       "4  Krystal Barrett DVM"
      ]
     },
     "execution_count": 9,
     "metadata": {},
     "output_type": "execute_result"
    }
   ],
   "source": [
    "df_name.head()"
   ]
  },
  {
   "cell_type": "code",
   "execution_count": 10,
   "id": "03494876",
   "metadata": {},
   "outputs": [
    {
     "data": {
      "text/plain": [
       "(362806, 1)"
      ]
     },
     "execution_count": 10,
     "metadata": {},
     "output_type": "execute_result"
    }
   ],
   "source": [
    "df_name.shape"
   ]
  },
  {
   "cell_type": "markdown",
   "id": "82808710",
   "metadata": {},
   "source": [
    "### Creating race column"
   ]
  },
  {
   "cell_type": "code",
   "execution_count": 12,
   "id": "82414bf9",
   "metadata": {},
   "outputs": [],
   "source": [
    "def weighted_cartesian_choice(*iterables):\n",
    "    # An arbitrary number of tuple or lists,each consisting of population and weights.weighted_cartesian_choice returns a list \n",
    "    #with a chocie from each population\n",
    "    \n",
    "    res = []\n",
    "    for population, weights in iterables:\n",
    "     #normalize weight:\n",
    "        weights = np.array(weights) / sum(weights)\n",
    "        lst = np.random.choice(population, p=weights)\n",
    "        res.append(lst)\n",
    "    return res\n",
    "race = (['White','Hispanic', 'Black','Asian'], \n",
    "        [.32,.28,.22,.18])\n",
    "\n",
    "list=[]\n",
    "for i in range(362806):\n",
    "    res = weighted_cartesian_choice(race)\n",
    "    list.append(res)"
   ]
  },
  {
   "cell_type": "code",
   "execution_count": 13,
   "id": "222d1c5d",
   "metadata": {},
   "outputs": [],
   "source": [
    "df_race=pd.DataFrame(list, columns = ['Race'])"
   ]
  },
  {
   "cell_type": "code",
   "execution_count": 14,
   "id": "0236d3c1",
   "metadata": {},
   "outputs": [
    {
     "data": {
      "text/html": [
       "<div>\n",
       "<style scoped>\n",
       "    .dataframe tbody tr th:only-of-type {\n",
       "        vertical-align: middle;\n",
       "    }\n",
       "\n",
       "    .dataframe tbody tr th {\n",
       "        vertical-align: top;\n",
       "    }\n",
       "\n",
       "    .dataframe thead th {\n",
       "        text-align: right;\n",
       "    }\n",
       "</style>\n",
       "<table border=\"1\" class=\"dataframe\">\n",
       "  <thead>\n",
       "    <tr style=\"text-align: right;\">\n",
       "      <th></th>\n",
       "      <th>Race</th>\n",
       "    </tr>\n",
       "  </thead>\n",
       "  <tbody>\n",
       "    <tr>\n",
       "      <th>0</th>\n",
       "      <td>Asian</td>\n",
       "    </tr>\n",
       "    <tr>\n",
       "      <th>1</th>\n",
       "      <td>White</td>\n",
       "    </tr>\n",
       "    <tr>\n",
       "      <th>2</th>\n",
       "      <td>Hispanic</td>\n",
       "    </tr>\n",
       "    <tr>\n",
       "      <th>3</th>\n",
       "      <td>Asian</td>\n",
       "    </tr>\n",
       "    <tr>\n",
       "      <th>4</th>\n",
       "      <td>Asian</td>\n",
       "    </tr>\n",
       "  </tbody>\n",
       "</table>\n",
       "</div>"
      ],
      "text/plain": [
       "       Race\n",
       "0     Asian\n",
       "1     White\n",
       "2  Hispanic\n",
       "3     Asian\n",
       "4     Asian"
      ]
     },
     "execution_count": 14,
     "metadata": {},
     "output_type": "execute_result"
    }
   ],
   "source": [
    "df_race.head()"
   ]
  },
  {
   "cell_type": "markdown",
   "id": "bed690c1",
   "metadata": {},
   "source": [
    "### Concatenating name and race columns"
   ]
  },
  {
   "cell_type": "code",
   "execution_count": 16,
   "id": "ebd44e34",
   "metadata": {},
   "outputs": [],
   "source": [
    "df_nr = pd.concat([df_name, df_race], axis=1).reindex(df_race.index)"
   ]
  },
  {
   "cell_type": "code",
   "execution_count": 17,
   "id": "7bd8d153",
   "metadata": {},
   "outputs": [],
   "source": [
    "df_drugs = pd.read_csv('webmd.csv')"
   ]
  },
  {
   "cell_type": "markdown",
   "id": "d8d27c79",
   "metadata": {},
   "source": [
    "### Creating the final dataset "
   ]
  },
  {
   "cell_type": "code",
   "execution_count": 20,
   "id": "7fb6add1",
   "metadata": {},
   "outputs": [],
   "source": [
    "data_drugs = pd.concat([df_nr, df_drugs], axis=1).reindex(df_drugs.index)"
   ]
  },
  {
   "cell_type": "code",
   "execution_count": 21,
   "id": "9a1d7f3f",
   "metadata": {},
   "outputs": [
    {
     "data": {
      "text/html": [
       "<div>\n",
       "<style scoped>\n",
       "    .dataframe tbody tr th:only-of-type {\n",
       "        vertical-align: middle;\n",
       "    }\n",
       "\n",
       "    .dataframe tbody tr th {\n",
       "        vertical-align: top;\n",
       "    }\n",
       "\n",
       "    .dataframe thead th {\n",
       "        text-align: right;\n",
       "    }\n",
       "</style>\n",
       "<table border=\"1\" class=\"dataframe\">\n",
       "  <thead>\n",
       "    <tr style=\"text-align: right;\">\n",
       "      <th></th>\n",
       "      <th>Name</th>\n",
       "      <th>Race</th>\n",
       "      <th>Age</th>\n",
       "      <th>Condition</th>\n",
       "      <th>Date</th>\n",
       "      <th>Drug</th>\n",
       "      <th>DrugId</th>\n",
       "      <th>EaseofUse</th>\n",
       "      <th>Effectiveness</th>\n",
       "      <th>Reviews</th>\n",
       "      <th>Satisfaction</th>\n",
       "      <th>Sex</th>\n",
       "      <th>Sides</th>\n",
       "      <th>UsefulCount</th>\n",
       "    </tr>\n",
       "  </thead>\n",
       "  <tbody>\n",
       "    <tr>\n",
       "      <th>0</th>\n",
       "      <td>Cameron Martin</td>\n",
       "      <td>Asian</td>\n",
       "      <td>75 or over</td>\n",
       "      <td>Stuffy Nose</td>\n",
       "      <td>9/21/2014</td>\n",
       "      <td>25dph-7.5peh</td>\n",
       "      <td>146724</td>\n",
       "      <td>5</td>\n",
       "      <td>5</td>\n",
       "      <td>I'm a retired physician and of all the meds I ...</td>\n",
       "      <td>5</td>\n",
       "      <td>Male</td>\n",
       "      <td>Drowsiness,  dizziness ,  dry mouth /nose/thro...</td>\n",
       "      <td>0</td>\n",
       "    </tr>\n",
       "    <tr>\n",
       "      <th>1</th>\n",
       "      <td>Whitney Parker</td>\n",
       "      <td>White</td>\n",
       "      <td>25-34</td>\n",
       "      <td>Cold Symptoms</td>\n",
       "      <td>1/13/2011</td>\n",
       "      <td>25dph-7.5peh</td>\n",
       "      <td>146724</td>\n",
       "      <td>5</td>\n",
       "      <td>5</td>\n",
       "      <td>cleared me right up even with my throat hurtin...</td>\n",
       "      <td>5</td>\n",
       "      <td>Female</td>\n",
       "      <td>Drowsiness,  dizziness ,  dry mouth /nose/thro...</td>\n",
       "      <td>1</td>\n",
       "    </tr>\n",
       "    <tr>\n",
       "      <th>2</th>\n",
       "      <td>Brittany Green</td>\n",
       "      <td>Hispanic</td>\n",
       "      <td>65-74</td>\n",
       "      <td>Other</td>\n",
       "      <td>7/16/2012</td>\n",
       "      <td>warfarin (bulk) 100 % powder</td>\n",
       "      <td>144731</td>\n",
       "      <td>2</td>\n",
       "      <td>3</td>\n",
       "      <td>why did my PTINR go from a normal of 2.5 to ov...</td>\n",
       "      <td>3</td>\n",
       "      <td>Female</td>\n",
       "      <td></td>\n",
       "      <td>0</td>\n",
       "    </tr>\n",
       "    <tr>\n",
       "      <th>3</th>\n",
       "      <td>Willie Munoz</td>\n",
       "      <td>Asian</td>\n",
       "      <td>75 or over</td>\n",
       "      <td>Other</td>\n",
       "      <td>9/23/2010</td>\n",
       "      <td>warfarin (bulk) 100 % powder</td>\n",
       "      <td>144731</td>\n",
       "      <td>2</td>\n",
       "      <td>2</td>\n",
       "      <td>FALLING AND DON'T REALISE IT</td>\n",
       "      <td>1</td>\n",
       "      <td>Female</td>\n",
       "      <td></td>\n",
       "      <td>0</td>\n",
       "    </tr>\n",
       "    <tr>\n",
       "      <th>4</th>\n",
       "      <td>Krystal Barrett DVM</td>\n",
       "      <td>Asian</td>\n",
       "      <td>35-44</td>\n",
       "      <td>Other</td>\n",
       "      <td>1/6/2009</td>\n",
       "      <td>warfarin (bulk) 100 % powder</td>\n",
       "      <td>144731</td>\n",
       "      <td>1</td>\n",
       "      <td>1</td>\n",
       "      <td>My grandfather was prescribed this medication ...</td>\n",
       "      <td>1</td>\n",
       "      <td>Male</td>\n",
       "      <td></td>\n",
       "      <td>1</td>\n",
       "    </tr>\n",
       "  </tbody>\n",
       "</table>\n",
       "</div>"
      ],
      "text/plain": [
       "                  Name      Race         Age      Condition       Date  \\\n",
       "0       Cameron Martin     Asian  75 or over    Stuffy Nose  9/21/2014   \n",
       "1       Whitney Parker     White       25-34  Cold Symptoms  1/13/2011   \n",
       "2       Brittany Green  Hispanic       65-74          Other  7/16/2012   \n",
       "3         Willie Munoz     Asian  75 or over          Other  9/23/2010   \n",
       "4  Krystal Barrett DVM     Asian       35-44          Other   1/6/2009   \n",
       "\n",
       "                           Drug  DrugId  EaseofUse  Effectiveness  \\\n",
       "0                  25dph-7.5peh  146724          5              5   \n",
       "1                  25dph-7.5peh  146724          5              5   \n",
       "2  warfarin (bulk) 100 % powder  144731          2              3   \n",
       "3  warfarin (bulk) 100 % powder  144731          2              2   \n",
       "4  warfarin (bulk) 100 % powder  144731          1              1   \n",
       "\n",
       "                                             Reviews  Satisfaction     Sex  \\\n",
       "0  I'm a retired physician and of all the meds I ...             5    Male   \n",
       "1  cleared me right up even with my throat hurtin...             5  Female   \n",
       "2  why did my PTINR go from a normal of 2.5 to ov...             3  Female   \n",
       "3                       FALLING AND DON'T REALISE IT             1  Female   \n",
       "4  My grandfather was prescribed this medication ...             1    Male   \n",
       "\n",
       "                                               Sides  UsefulCount  \n",
       "0  Drowsiness,  dizziness ,  dry mouth /nose/thro...            0  \n",
       "1  Drowsiness,  dizziness ,  dry mouth /nose/thro...            1  \n",
       "2                                                               0  \n",
       "3                                                               0  \n",
       "4                                                               1  "
      ]
     },
     "execution_count": 21,
     "metadata": {},
     "output_type": "execute_result"
    }
   ],
   "source": [
    "data_drugs.head()"
   ]
  },
  {
   "cell_type": "markdown",
   "id": "107db737",
   "metadata": {},
   "source": [
    "### Converting the dataframe to csv file"
   ]
  },
  {
   "cell_type": "code",
   "execution_count": 23,
   "id": "e972736f",
   "metadata": {},
   "outputs": [],
   "source": [
    "data_drugs = data_drugs.to_csv('dataset_drugs.csv', index=False)"
   ]
  },
  {
   "cell_type": "markdown",
   "id": "e0b1c6c8",
   "metadata": {},
   "source": [
    "### Loading the dataset"
   ]
  },
  {
   "cell_type": "code",
   "execution_count": 25,
   "id": "40f2d381",
   "metadata": {},
   "outputs": [],
   "source": [
    "data = pd.read_csv('dataset_drugs.csv')"
   ]
  },
  {
   "cell_type": "code",
   "execution_count": 26,
   "id": "cb2b759b",
   "metadata": {},
   "outputs": [
    {
     "data": {
      "text/html": [
       "<div>\n",
       "<style scoped>\n",
       "    .dataframe tbody tr th:only-of-type {\n",
       "        vertical-align: middle;\n",
       "    }\n",
       "\n",
       "    .dataframe tbody tr th {\n",
       "        vertical-align: top;\n",
       "    }\n",
       "\n",
       "    .dataframe thead th {\n",
       "        text-align: right;\n",
       "    }\n",
       "</style>\n",
       "<table border=\"1\" class=\"dataframe\">\n",
       "  <thead>\n",
       "    <tr style=\"text-align: right;\">\n",
       "      <th></th>\n",
       "      <th>Name</th>\n",
       "      <th>Race</th>\n",
       "      <th>Age</th>\n",
       "      <th>Condition</th>\n",
       "      <th>Date</th>\n",
       "      <th>Drug</th>\n",
       "      <th>DrugId</th>\n",
       "      <th>EaseofUse</th>\n",
       "      <th>Effectiveness</th>\n",
       "      <th>Reviews</th>\n",
       "      <th>Satisfaction</th>\n",
       "      <th>Sex</th>\n",
       "      <th>Sides</th>\n",
       "      <th>UsefulCount</th>\n",
       "    </tr>\n",
       "  </thead>\n",
       "  <tbody>\n",
       "    <tr>\n",
       "      <th>0</th>\n",
       "      <td>Cameron Martin</td>\n",
       "      <td>Asian</td>\n",
       "      <td>75 or over</td>\n",
       "      <td>Stuffy Nose</td>\n",
       "      <td>9/21/2014</td>\n",
       "      <td>25dph-7.5peh</td>\n",
       "      <td>146724</td>\n",
       "      <td>5</td>\n",
       "      <td>5</td>\n",
       "      <td>I'm a retired physician and of all the meds I ...</td>\n",
       "      <td>5</td>\n",
       "      <td>Male</td>\n",
       "      <td>Drowsiness,  dizziness ,  dry mouth /nose/thro...</td>\n",
       "      <td>0</td>\n",
       "    </tr>\n",
       "    <tr>\n",
       "      <th>1</th>\n",
       "      <td>Whitney Parker</td>\n",
       "      <td>White</td>\n",
       "      <td>25-34</td>\n",
       "      <td>Cold Symptoms</td>\n",
       "      <td>1/13/2011</td>\n",
       "      <td>25dph-7.5peh</td>\n",
       "      <td>146724</td>\n",
       "      <td>5</td>\n",
       "      <td>5</td>\n",
       "      <td>cleared me right up even with my throat hurtin...</td>\n",
       "      <td>5</td>\n",
       "      <td>Female</td>\n",
       "      <td>Drowsiness,  dizziness ,  dry mouth /nose/thro...</td>\n",
       "      <td>1</td>\n",
       "    </tr>\n",
       "    <tr>\n",
       "      <th>2</th>\n",
       "      <td>Brittany Green</td>\n",
       "      <td>Hispanic</td>\n",
       "      <td>65-74</td>\n",
       "      <td>Other</td>\n",
       "      <td>7/16/2012</td>\n",
       "      <td>warfarin (bulk) 100 % powder</td>\n",
       "      <td>144731</td>\n",
       "      <td>2</td>\n",
       "      <td>3</td>\n",
       "      <td>why did my PTINR go from a normal of 2.5 to ov...</td>\n",
       "      <td>3</td>\n",
       "      <td>Female</td>\n",
       "      <td></td>\n",
       "      <td>0</td>\n",
       "    </tr>\n",
       "    <tr>\n",
       "      <th>3</th>\n",
       "      <td>Willie Munoz</td>\n",
       "      <td>Asian</td>\n",
       "      <td>75 or over</td>\n",
       "      <td>Other</td>\n",
       "      <td>9/23/2010</td>\n",
       "      <td>warfarin (bulk) 100 % powder</td>\n",
       "      <td>144731</td>\n",
       "      <td>2</td>\n",
       "      <td>2</td>\n",
       "      <td>FALLING AND DON'T REALISE IT</td>\n",
       "      <td>1</td>\n",
       "      <td>Female</td>\n",
       "      <td></td>\n",
       "      <td>0</td>\n",
       "    </tr>\n",
       "    <tr>\n",
       "      <th>4</th>\n",
       "      <td>Krystal Barrett DVM</td>\n",
       "      <td>Asian</td>\n",
       "      <td>35-44</td>\n",
       "      <td>Other</td>\n",
       "      <td>1/6/2009</td>\n",
       "      <td>warfarin (bulk) 100 % powder</td>\n",
       "      <td>144731</td>\n",
       "      <td>1</td>\n",
       "      <td>1</td>\n",
       "      <td>My grandfather was prescribed this medication ...</td>\n",
       "      <td>1</td>\n",
       "      <td>Male</td>\n",
       "      <td></td>\n",
       "      <td>1</td>\n",
       "    </tr>\n",
       "  </tbody>\n",
       "</table>\n",
       "</div>"
      ],
      "text/plain": [
       "                  Name      Race         Age      Condition       Date  \\\n",
       "0       Cameron Martin     Asian  75 or over    Stuffy Nose  9/21/2014   \n",
       "1       Whitney Parker     White       25-34  Cold Symptoms  1/13/2011   \n",
       "2       Brittany Green  Hispanic       65-74          Other  7/16/2012   \n",
       "3         Willie Munoz     Asian  75 or over          Other  9/23/2010   \n",
       "4  Krystal Barrett DVM     Asian       35-44          Other   1/6/2009   \n",
       "\n",
       "                           Drug  DrugId  EaseofUse  Effectiveness  \\\n",
       "0                  25dph-7.5peh  146724          5              5   \n",
       "1                  25dph-7.5peh  146724          5              5   \n",
       "2  warfarin (bulk) 100 % powder  144731          2              3   \n",
       "3  warfarin (bulk) 100 % powder  144731          2              2   \n",
       "4  warfarin (bulk) 100 % powder  144731          1              1   \n",
       "\n",
       "                                             Reviews  Satisfaction     Sex  \\\n",
       "0  I'm a retired physician and of all the meds I ...             5    Male   \n",
       "1  cleared me right up even with my throat hurtin...             5  Female   \n",
       "2  why did my PTINR go from a normal of 2.5 to ov...             3  Female   \n",
       "3                       FALLING AND DON'T REALISE IT             1  Female   \n",
       "4  My grandfather was prescribed this medication ...             1    Male   \n",
       "\n",
       "                                               Sides  UsefulCount  \n",
       "0  Drowsiness,  dizziness ,  dry mouth /nose/thro...            0  \n",
       "1  Drowsiness,  dizziness ,  dry mouth /nose/thro...            1  \n",
       "2                                                               0  \n",
       "3                                                               0  \n",
       "4                                                               1  "
      ]
     },
     "execution_count": 26,
     "metadata": {},
     "output_type": "execute_result"
    }
   ],
   "source": [
    "data.head()"
   ]
  },
  {
   "cell_type": "markdown",
   "id": "98c6ca53",
   "metadata": {},
   "source": [
    "## Description of the dataset\n",
    "\n",
    "Name : Name of the patient\n",
    "    \n",
    "Race : Race of the patient\n",
    "    \n",
    "Age : Age of the patient\n",
    "\n",
    "Condition : Condition/symptom from which the patient is suffering\n",
    "\n",
    "Date : Date of usage\n",
    "\n",
    "Drug : Name of the drug\n",
    "\n",
    "DrugId : Identity/code of drug\n",
    "\n",
    "EaseofUse : Patient's 10-Star rating on the ease of use of drug\n",
    "\n",
    "Effectiveness : Patient's 10-Star rating on the effectiveness of drug\n",
    "\n",
    "Reviews : Patient's review\n",
    "\n",
    "Satisfaction : Patient's 10-Star rating on satisfaction\n",
    "\n",
    "Sex : Gender of the patient\n",
    "\n",
    "Sides : Side effects of the drug\n",
    "\n",
    "UsefulCount : Number of users who found the review useful"
   ]
  },
  {
   "cell_type": "markdown",
   "id": "5800c2f6",
   "metadata": {},
   "source": [
    "# Data exploration"
   ]
  },
  {
   "cell_type": "code",
   "execution_count": 29,
   "id": "201c3485",
   "metadata": {},
   "outputs": [
    {
     "data": {
      "text/plain": [
       "<bound method NDFrame.head of                        Name      Race         Age      Condition        Date  \\\n",
       "0            Cameron Martin     Asian  75 or over    Stuffy Nose   9/21/2014   \n",
       "1            Whitney Parker     White       25-34  Cold Symptoms   1/13/2011   \n",
       "2            Brittany Green  Hispanic       65-74          Other   7/16/2012   \n",
       "3              Willie Munoz     Asian  75 or over          Other   9/23/2010   \n",
       "4       Krystal Barrett DVM     Asian       35-44          Other    1/6/2009   \n",
       "...                     ...       ...         ...            ...         ...   \n",
       "362801       Robert Burnett     White       55-64   Stop Smoking  11/14/2008   \n",
       "362802           Erik Floyd     Black                      Other  11/14/2008   \n",
       "362803        Jasmine White     White       25-34   Stop Smoking  11/13/2008   \n",
       "362804       Michael Howard     Asian       55-64   Stop Smoking  11/13/2008   \n",
       "362805          John Mosley  Hispanic       45-54   Stop Smoking  11/12/2008   \n",
       "\n",
       "                                Drug  DrugId  EaseofUse  Effectiveness  \\\n",
       "0                       25dph-7.5peh  146724          5              5   \n",
       "1                       25dph-7.5peh  146724          5              5   \n",
       "2       warfarin (bulk) 100 % powder  144731          2              3   \n",
       "3       warfarin (bulk) 100 % powder  144731          2              2   \n",
       "4       warfarin (bulk) 100 % powder  144731          1              1   \n",
       "...                              ...     ...        ...            ...   \n",
       "362801                       chantix  144470          5              5   \n",
       "362802                       chantix  144470          2              3   \n",
       "362803                       chantix  144470          2              4   \n",
       "362804                       chantix  144470          5              5   \n",
       "362805                       chantix  144470          4              5   \n",
       "\n",
       "                                                  Reviews  Satisfaction  \\\n",
       "0       I'm a retired physician and of all the meds I ...             5   \n",
       "1       cleared me right up even with my throat hurtin...             5   \n",
       "2       why did my PTINR go from a normal of 2.5 to ov...             3   \n",
       "3                            FALLING AND DON'T REALISE IT             1   \n",
       "4       My grandfather was prescribed this medication ...             1   \n",
       "...                                                   ...           ...   \n",
       "362801  I took the whole 12 weeks.I could have stopped...             5   \n",
       "362802  My dad strated taking Chantix about 1 month ag...             1   \n",
       "362803  As long as I was on chantix, I didn't smoke.  ...             2   \n",
       "362804  Started this medication Oct 5th 2008. Haven't ...             5   \n",
       "362805  One year ago, I tried Chantix and had to stop ...             5   \n",
       "\n",
       "           Sex                                              Sides  UsefulCount  \n",
       "0         Male  Drowsiness,  dizziness ,  dry mouth /nose/thro...            0  \n",
       "1       Female  Drowsiness,  dizziness ,  dry mouth /nose/thro...            1  \n",
       "2       Female                                                               0  \n",
       "3       Female                                                               0  \n",
       "4         Male                                                               1  \n",
       "...        ...                                                ...          ...  \n",
       "362801  Female  Nausea ,  headache ,  vomiting , drowsiness, g...            2  \n",
       "362802          Nausea ,  headache ,  vomiting , drowsiness, g...           16  \n",
       "362803  Female  Nausea ,  headache ,  vomiting , drowsiness, g...            3  \n",
       "362804    Male  Nausea ,  headache ,  vomiting , drowsiness, g...            1  \n",
       "362805  Female  Nausea ,  headache ,  vomiting , drowsiness, g...            3  \n",
       "\n",
       "[362806 rows x 14 columns]>"
      ]
     },
     "execution_count": 29,
     "metadata": {},
     "output_type": "execute_result"
    }
   ],
   "source": [
    "data.head"
   ]
  },
  {
   "cell_type": "code",
   "execution_count": 30,
   "id": "1166ef6e",
   "metadata": {},
   "outputs": [
    {
     "name": "stdout",
     "output_type": "stream",
     "text": [
      "<class 'pandas.core.frame.DataFrame'>\n",
      "RangeIndex: 362806 entries, 0 to 362805\n",
      "Data columns (total 14 columns):\n",
      " #   Column         Non-Null Count   Dtype \n",
      "---  ------         --------------   ----- \n",
      " 0   Name           362806 non-null  object\n",
      " 1   Race           362806 non-null  object\n",
      " 2   Age            362806 non-null  object\n",
      " 3   Condition      362806 non-null  object\n",
      " 4   Date           362806 non-null  object\n",
      " 5   Drug           362806 non-null  object\n",
      " 6   DrugId         362806 non-null  int64 \n",
      " 7   EaseofUse      362806 non-null  int64 \n",
      " 8   Effectiveness  362806 non-null  int64 \n",
      " 9   Reviews        362763 non-null  object\n",
      " 10  Satisfaction   362806 non-null  int64 \n",
      " 11  Sex            362806 non-null  object\n",
      " 12  Sides          362806 non-null  object\n",
      " 13  UsefulCount    362806 non-null  int64 \n",
      "dtypes: int64(5), object(9)\n",
      "memory usage: 38.8+ MB\n"
     ]
    }
   ],
   "source": [
    "data.info()"
   ]
  },
  {
   "cell_type": "code",
   "execution_count": 34,
   "id": "95a80b54",
   "metadata": {},
   "outputs": [
    {
     "data": {
      "text/plain": [
       "(362806, 14)"
      ]
     },
     "execution_count": 34,
     "metadata": {},
     "output_type": "execute_result"
    }
   ],
   "source": [
    "data.shape"
   ]
  },
  {
   "cell_type": "code",
   "execution_count": 52,
   "id": "9f1def41",
   "metadata": {},
   "outputs": [
    {
     "data": {
      "text/plain": [
       "Name             False\n",
       "Race             False\n",
       "Age              False\n",
       "Condition        False\n",
       "Date             False\n",
       "Drug             False\n",
       "DrugId           False\n",
       "EaseofUse        False\n",
       "Effectiveness    False\n",
       "Reviews           True\n",
       "Satisfaction     False\n",
       "Sex              False\n",
       "Sides            False\n",
       "UsefulCount      False\n",
       "dtype: bool"
      ]
     },
     "execution_count": 52,
     "metadata": {},
     "output_type": "execute_result"
    }
   ],
   "source": [
    "data.isnull().any()"
   ]
  },
  {
   "cell_type": "code",
   "execution_count": 53,
   "id": "4f2cc00c",
   "metadata": {},
   "outputs": [
    {
     "data": {
      "text/plain": [
       "Name              0\n",
       "Race              0\n",
       "Age               0\n",
       "Condition         0\n",
       "Date              0\n",
       "Drug              0\n",
       "DrugId            0\n",
       "EaseofUse         0\n",
       "Effectiveness     0\n",
       "Reviews          43\n",
       "Satisfaction      0\n",
       "Sex               0\n",
       "Sides             0\n",
       "UsefulCount       0\n",
       "dtype: int64"
      ]
     },
     "execution_count": 53,
     "metadata": {},
     "output_type": "execute_result"
    }
   ],
   "source": [
    "data.isna().sum()"
   ]
  },
  {
   "cell_type": "code",
   "execution_count": 55,
   "id": "db2eeb8d",
   "metadata": {},
   "outputs": [
    {
     "data": {
      "text/plain": [
       "Name             object\n",
       "Race             object\n",
       "Age              object\n",
       "Condition        object\n",
       "Date             object\n",
       "Drug             object\n",
       "DrugId            int64\n",
       "EaseofUse         int64\n",
       "Effectiveness     int64\n",
       "Reviews          object\n",
       "Satisfaction      int64\n",
       "Sex              object\n",
       "Sides            object\n",
       "UsefulCount       int64\n",
       "dtype: object"
      ]
     },
     "execution_count": 55,
     "metadata": {},
     "output_type": "execute_result"
    }
   ],
   "source": [
    "data.dtypes"
   ]
  },
  {
   "cell_type": "markdown",
   "id": "a87d1f02",
   "metadata": {},
   "source": [
    "### Descriptive statistics"
   ]
  },
  {
   "cell_type": "code",
   "execution_count": 59,
   "id": "c26c5404",
   "metadata": {},
   "outputs": [
    {
     "data": {
      "text/html": [
       "<div>\n",
       "<style scoped>\n",
       "    .dataframe tbody tr th:only-of-type {\n",
       "        vertical-align: middle;\n",
       "    }\n",
       "\n",
       "    .dataframe tbody tr th {\n",
       "        vertical-align: top;\n",
       "    }\n",
       "\n",
       "    .dataframe thead th {\n",
       "        text-align: right;\n",
       "    }\n",
       "</style>\n",
       "<table border=\"1\" class=\"dataframe\">\n",
       "  <thead>\n",
       "    <tr style=\"text-align: right;\">\n",
       "      <th></th>\n",
       "      <th>DrugId</th>\n",
       "      <th>EaseofUse</th>\n",
       "      <th>Effectiveness</th>\n",
       "      <th>Satisfaction</th>\n",
       "      <th>UsefulCount</th>\n",
       "    </tr>\n",
       "  </thead>\n",
       "  <tbody>\n",
       "    <tr>\n",
       "      <th>count</th>\n",
       "      <td>362806.000000</td>\n",
       "      <td>362806.000000</td>\n",
       "      <td>362806.000000</td>\n",
       "      <td>362806.000000</td>\n",
       "      <td>362806.000000</td>\n",
       "    </tr>\n",
       "    <tr>\n",
       "      <th>mean</th>\n",
       "      <td>36879.370774</td>\n",
       "      <td>4.019829</td>\n",
       "      <td>3.532061</td>\n",
       "      <td>3.135408</td>\n",
       "      <td>6.744916</td>\n",
       "    </tr>\n",
       "    <tr>\n",
       "      <th>std</th>\n",
       "      <td>52624.412971</td>\n",
       "      <td>1.317711</td>\n",
       "      <td>1.455961</td>\n",
       "      <td>1.611106</td>\n",
       "      <td>9.324240</td>\n",
       "    </tr>\n",
       "    <tr>\n",
       "      <th>min</th>\n",
       "      <td>1.000000</td>\n",
       "      <td>1.000000</td>\n",
       "      <td>1.000000</td>\n",
       "      <td>1.000000</td>\n",
       "      <td>0.000000</td>\n",
       "    </tr>\n",
       "    <tr>\n",
       "      <th>25%</th>\n",
       "      <td>4896.000000</td>\n",
       "      <td>3.000000</td>\n",
       "      <td>3.000000</td>\n",
       "      <td>1.000000</td>\n",
       "      <td>1.000000</td>\n",
       "    </tr>\n",
       "    <tr>\n",
       "      <th>50%</th>\n",
       "      <td>9548.000000</td>\n",
       "      <td>5.000000</td>\n",
       "      <td>4.000000</td>\n",
       "      <td>3.000000</td>\n",
       "      <td>4.000000</td>\n",
       "    </tr>\n",
       "    <tr>\n",
       "      <th>75%</th>\n",
       "      <td>63522.000000</td>\n",
       "      <td>5.000000</td>\n",
       "      <td>5.000000</td>\n",
       "      <td>5.000000</td>\n",
       "      <td>9.000000</td>\n",
       "    </tr>\n",
       "    <tr>\n",
       "      <th>max</th>\n",
       "      <td>178546.000000</td>\n",
       "      <td>10.000000</td>\n",
       "      <td>10.000000</td>\n",
       "      <td>10.000000</td>\n",
       "      <td>255.000000</td>\n",
       "    </tr>\n",
       "  </tbody>\n",
       "</table>\n",
       "</div>"
      ],
      "text/plain": [
       "              DrugId      EaseofUse  Effectiveness   Satisfaction  \\\n",
       "count  362806.000000  362806.000000  362806.000000  362806.000000   \n",
       "mean    36879.370774       4.019829       3.532061       3.135408   \n",
       "std     52624.412971       1.317711       1.455961       1.611106   \n",
       "min         1.000000       1.000000       1.000000       1.000000   \n",
       "25%      4896.000000       3.000000       3.000000       1.000000   \n",
       "50%      9548.000000       5.000000       4.000000       3.000000   \n",
       "75%     63522.000000       5.000000       5.000000       5.000000   \n",
       "max    178546.000000      10.000000      10.000000      10.000000   \n",
       "\n",
       "         UsefulCount  \n",
       "count  362806.000000  \n",
       "mean        6.744916  \n",
       "std         9.324240  \n",
       "min         0.000000  \n",
       "25%         1.000000  \n",
       "50%         4.000000  \n",
       "75%         9.000000  \n",
       "max       255.000000  "
      ]
     },
     "execution_count": 59,
     "metadata": {},
     "output_type": "execute_result"
    }
   ],
   "source": [
    "data.describe()"
   ]
  },
  {
   "cell_type": "code",
   "execution_count": 61,
   "id": "1ef66d5e",
   "metadata": {},
   "outputs": [
    {
     "data": {
      "text/html": [
       "<div>\n",
       "<style scoped>\n",
       "    .dataframe tbody tr th:only-of-type {\n",
       "        vertical-align: middle;\n",
       "    }\n",
       "\n",
       "    .dataframe tbody tr th {\n",
       "        vertical-align: top;\n",
       "    }\n",
       "\n",
       "    .dataframe thead th {\n",
       "        text-align: right;\n",
       "    }\n",
       "</style>\n",
       "<table border=\"1\" class=\"dataframe\">\n",
       "  <thead>\n",
       "    <tr style=\"text-align: right;\">\n",
       "      <th></th>\n",
       "      <th>count</th>\n",
       "      <th>mean</th>\n",
       "      <th>std</th>\n",
       "      <th>min</th>\n",
       "      <th>25%</th>\n",
       "      <th>50%</th>\n",
       "      <th>75%</th>\n",
       "      <th>max</th>\n",
       "    </tr>\n",
       "  </thead>\n",
       "  <tbody>\n",
       "    <tr>\n",
       "      <th>DrugId</th>\n",
       "      <td>362806.0</td>\n",
       "      <td>36879.370774</td>\n",
       "      <td>52624.412971</td>\n",
       "      <td>1.0</td>\n",
       "      <td>4896.0</td>\n",
       "      <td>9548.0</td>\n",
       "      <td>63522.0</td>\n",
       "      <td>178546.0</td>\n",
       "    </tr>\n",
       "    <tr>\n",
       "      <th>EaseofUse</th>\n",
       "      <td>362806.0</td>\n",
       "      <td>4.019829</td>\n",
       "      <td>1.317711</td>\n",
       "      <td>1.0</td>\n",
       "      <td>3.0</td>\n",
       "      <td>5.0</td>\n",
       "      <td>5.0</td>\n",
       "      <td>10.0</td>\n",
       "    </tr>\n",
       "    <tr>\n",
       "      <th>Effectiveness</th>\n",
       "      <td>362806.0</td>\n",
       "      <td>3.532061</td>\n",
       "      <td>1.455961</td>\n",
       "      <td>1.0</td>\n",
       "      <td>3.0</td>\n",
       "      <td>4.0</td>\n",
       "      <td>5.0</td>\n",
       "      <td>10.0</td>\n",
       "    </tr>\n",
       "    <tr>\n",
       "      <th>Satisfaction</th>\n",
       "      <td>362806.0</td>\n",
       "      <td>3.135408</td>\n",
       "      <td>1.611106</td>\n",
       "      <td>1.0</td>\n",
       "      <td>1.0</td>\n",
       "      <td>3.0</td>\n",
       "      <td>5.0</td>\n",
       "      <td>10.0</td>\n",
       "    </tr>\n",
       "    <tr>\n",
       "      <th>UsefulCount</th>\n",
       "      <td>362806.0</td>\n",
       "      <td>6.744916</td>\n",
       "      <td>9.324240</td>\n",
       "      <td>0.0</td>\n",
       "      <td>1.0</td>\n",
       "      <td>4.0</td>\n",
       "      <td>9.0</td>\n",
       "      <td>255.0</td>\n",
       "    </tr>\n",
       "  </tbody>\n",
       "</table>\n",
       "</div>"
      ],
      "text/plain": [
       "                  count          mean           std  min     25%     50%  \\\n",
       "DrugId         362806.0  36879.370774  52624.412971  1.0  4896.0  9548.0   \n",
       "EaseofUse      362806.0      4.019829      1.317711  1.0     3.0     5.0   \n",
       "Effectiveness  362806.0      3.532061      1.455961  1.0     3.0     4.0   \n",
       "Satisfaction   362806.0      3.135408      1.611106  1.0     1.0     3.0   \n",
       "UsefulCount    362806.0      6.744916      9.324240  0.0     1.0     4.0   \n",
       "\n",
       "                   75%       max  \n",
       "DrugId         63522.0  178546.0  \n",
       "EaseofUse          5.0      10.0  \n",
       "Effectiveness      5.0      10.0  \n",
       "Satisfaction       5.0      10.0  \n",
       "UsefulCount        9.0     255.0  "
      ]
     },
     "execution_count": 61,
     "metadata": {},
     "output_type": "execute_result"
    }
   ],
   "source": [
    "data.describe().T"
   ]
  },
  {
   "cell_type": "markdown",
   "id": "2d6ffdc0",
   "metadata": {},
   "source": [
    "### Summary statistics - object datatype"
   ]
  },
  {
   "cell_type": "code",
   "execution_count": 64,
   "id": "0bdf414a",
   "metadata": {},
   "outputs": [
    {
     "data": {
      "text/html": [
       "<div>\n",
       "<style scoped>\n",
       "    .dataframe tbody tr th:only-of-type {\n",
       "        vertical-align: middle;\n",
       "    }\n",
       "\n",
       "    .dataframe tbody tr th {\n",
       "        vertical-align: top;\n",
       "    }\n",
       "\n",
       "    .dataframe thead th {\n",
       "        text-align: right;\n",
       "    }\n",
       "</style>\n",
       "<table border=\"1\" class=\"dataframe\">\n",
       "  <thead>\n",
       "    <tr style=\"text-align: right;\">\n",
       "      <th></th>\n",
       "      <th>count</th>\n",
       "      <th>unique</th>\n",
       "      <th>top</th>\n",
       "      <th>freq</th>\n",
       "    </tr>\n",
       "  </thead>\n",
       "  <tbody>\n",
       "    <tr>\n",
       "      <th>Name</th>\n",
       "      <td>362806</td>\n",
       "      <td>180994</td>\n",
       "      <td>Michael Smith</td>\n",
       "      <td>181</td>\n",
       "    </tr>\n",
       "    <tr>\n",
       "      <th>Race</th>\n",
       "      <td>362806</td>\n",
       "      <td>4</td>\n",
       "      <td>White</td>\n",
       "      <td>116003</td>\n",
       "    </tr>\n",
       "    <tr>\n",
       "      <th>Age</th>\n",
       "      <td>362806</td>\n",
       "      <td>12</td>\n",
       "      <td>45-54</td>\n",
       "      <td>80043</td>\n",
       "    </tr>\n",
       "    <tr>\n",
       "      <th>Condition</th>\n",
       "      <td>362806</td>\n",
       "      <td>1806</td>\n",
       "      <td>Other</td>\n",
       "      <td>49765</td>\n",
       "    </tr>\n",
       "    <tr>\n",
       "      <th>Date</th>\n",
       "      <td>362806</td>\n",
       "      <td>4524</td>\n",
       "      <td>10/29/2007</td>\n",
       "      <td>404</td>\n",
       "    </tr>\n",
       "    <tr>\n",
       "      <th>Drug</th>\n",
       "      <td>362806</td>\n",
       "      <td>7093</td>\n",
       "      <td>cymbalta</td>\n",
       "      <td>4648</td>\n",
       "    </tr>\n",
       "    <tr>\n",
       "      <th>Reviews</th>\n",
       "      <td>362763</td>\n",
       "      <td>250166</td>\n",
       "      <td></td>\n",
       "      <td>41824</td>\n",
       "    </tr>\n",
       "    <tr>\n",
       "      <th>Sex</th>\n",
       "      <td>362806</td>\n",
       "      <td>3</td>\n",
       "      <td>Female</td>\n",
       "      <td>238226</td>\n",
       "    </tr>\n",
       "    <tr>\n",
       "      <th>Sides</th>\n",
       "      <td>362806</td>\n",
       "      <td>1651</td>\n",
       "      <td></td>\n",
       "      <td>17460</td>\n",
       "    </tr>\n",
       "  </tbody>\n",
       "</table>\n",
       "</div>"
      ],
      "text/plain": [
       "            count  unique            top    freq\n",
       "Name       362806  180994  Michael Smith     181\n",
       "Race       362806       4          White  116003\n",
       "Age        362806      12          45-54   80043\n",
       "Condition  362806    1806          Other   49765\n",
       "Date       362806    4524     10/29/2007     404\n",
       "Drug       362806    7093       cymbalta    4648\n",
       "Reviews    362763  250166                  41824\n",
       "Sex        362806       3         Female  238226\n",
       "Sides      362806    1651                  17460"
      ]
     },
     "execution_count": 64,
     "metadata": {},
     "output_type": "execute_result"
    }
   ],
   "source": [
    "data.describe(include='object').T"
   ]
  },
  {
   "cell_type": "markdown",
   "id": "6886f9bb",
   "metadata": {},
   "source": [
    "### Checking for duplicate values"
   ]
  },
  {
   "cell_type": "code",
   "execution_count": 66,
   "id": "7b6e4256",
   "metadata": {},
   "outputs": [
    {
     "data": {
      "text/plain": [
       "0"
      ]
     },
     "execution_count": 66,
     "metadata": {},
     "output_type": "execute_result"
    }
   ],
   "source": [
    "data.duplicated().sum()"
   ]
  },
  {
   "cell_type": "markdown",
   "id": "2dc1c8ee",
   "metadata": {},
   "source": [
    "### Exploring the column names"
   ]
  },
  {
   "cell_type": "code",
   "execution_count": 68,
   "id": "40dedf3b",
   "metadata": {},
   "outputs": [
    {
     "data": {
      "text/plain": [
       "Index(['Name', 'Race', 'Age', 'Condition', 'Date', 'Drug', 'DrugId',\n",
       "       'EaseofUse', 'Effectiveness', 'Reviews', 'Satisfaction', 'Sex', 'Sides',\n",
       "       'UsefulCount'],\n",
       "      dtype='object')"
      ]
     },
     "execution_count": 68,
     "metadata": {},
     "output_type": "execute_result"
    }
   ],
   "source": [
    "data.columns"
   ]
  },
  {
   "cell_type": "markdown",
   "id": "7aada32e",
   "metadata": {},
   "source": [
    "### Unique occurrences of each variable"
   ]
  },
  {
   "cell_type": "code",
   "execution_count": 70,
   "id": "75a53b1e",
   "metadata": {},
   "outputs": [
    {
     "name": "stdout",
     "output_type": "stream",
     "text": [
      "Name : 180994 \n",
      "\n",
      "Race : 4 \n",
      "\n",
      "Age : 12 \n",
      "\n",
      "Condition : 1806 \n",
      "\n",
      "Date : 4524 \n",
      "\n",
      "Drug : 7093 \n",
      "\n",
      "DrugId : 6572 \n",
      "\n",
      "EaseofUse : 7 \n",
      "\n",
      "Effectiveness : 7 \n",
      "\n",
      "Reviews : 250166 \n",
      "\n",
      "Satisfaction : 7 \n",
      "\n",
      "Sex : 3 \n",
      "\n",
      "Sides : 1651 \n",
      "\n",
      "UsefulCount : 148 \n",
      "\n"
     ]
    }
   ],
   "source": [
    "for i in data.columns:\n",
    "    print(i,':',data[i].nunique(),'\\n')"
   ]
  },
  {
   "cell_type": "markdown",
   "id": "49e6b0d6",
   "metadata": {},
   "source": [
    "### Creating the list of categorical variables"
   ]
  },
  {
   "cell_type": "code",
   "execution_count": 73,
   "id": "aefc0ed3",
   "metadata": {},
   "outputs": [
    {
     "data": {
      "text/plain": [
       "['Name', 'Race', 'Age', 'Condition', 'Date', 'Drug', 'Reviews', 'Sex', 'Sides']"
      ]
     },
     "execution_count": 73,
     "metadata": {},
     "output_type": "execute_result"
    }
   ],
   "source": [
    "cat_var = []\n",
    "\n",
    "for column in data:\n",
    "    if data[column].dtype == 'O':\n",
    "        cat_var.append(column)\n",
    "cat_var"
   ]
  },
  {
   "cell_type": "code",
   "execution_count": 74,
   "id": "5c8da72f",
   "metadata": {},
   "outputs": [
    {
     "name": "stdout",
     "output_type": "stream",
     "text": [
      "\n",
      " Name \n",
      " ['Cameron Martin' 'Whitney Parker' 'Brittany Green' ... 'Keith Adkins'\n",
      " 'Kristen Barnes DDS' 'Erik Floyd'] \n",
      " ________________________________________________________________________________\n",
      "\n",
      " Race \n",
      " ['Asian' 'White' 'Hispanic' 'Black'] \n",
      " ________________________________________________________________________________\n",
      "\n",
      " Age \n",
      " ['75 or over' '25-34' '65-74' '35-44' '55-64' '45-54' '19-24' ' ' '13-18'\n",
      " '7-12' '0-2' '3-6'] \n",
      " ________________________________________________________________________________\n",
      "\n",
      " Condition \n",
      " ['Stuffy Nose' 'Cold Symptoms' 'Other' ...\n",
      " 'Combative and Explosive Behavior' 'Lead Poisoning'\n",
      " 'Poisoning from Swallowed Unknown Substance'] \n",
      " ________________________________________________________________________________\n",
      "\n",
      " Date \n",
      " ['9/21/2014' '1/13/2011' '7/16/2012' ... '10/25/2019' '6/22/2019'\n",
      " '10/19/2019'] \n",
      " ________________________________________________________________________________\n",
      "\n",
      " Drug \n",
      " ['25dph-7.5peh' 'warfarin (bulk) 100 % powder' 'wymzya fe' ...\n",
      " 'chest congestion relief dm' 'chantix' 'chateal'] \n",
      " ________________________________________________________________________________\n",
      "\n",
      " Reviews \n",
      " [\"I'm a retired physician and of all the meds I have tried for my allergies (seasonal and not) - this one is the most effective for me.  When I first began using this drug some years ago - tiredness as a problem but is not currently.\"\n",
      " 'cleared me right up even with my throat hurting it went away after taking the medicine'\n",
      " 'why did my PTINR go from a normal of 2.5 to over \\n100?' ...\n",
      " \"As long as I was on chantix, I didn't smoke.  Terrible stomach upset after each dose, constipation, headaches constantly, crazy dreams and mood swings.  I have had to stop taking it and have found other ways to stop smoking.\"\n",
      " \"Started this medication Oct 5th 2008. Haven't smoked for 6 weeks and planning on the full 12 weeks program.  I have had some problems like getting sick after the meds but accually it helps because everytime I see a smoker or smell smoke I get sick, still want one but it offsets it.\"\n",
      " \"One year ago, I tried Chantix and had to stop taking it because I was so nauseous in the morning.  Three weeks ago I started it again and found that if I eat 10 minutes before taking the pill, I don't get nauseous at all.  I have been smoke free for two weeks and will never smoke again.  \"] \n",
      " ________________________________________________________________________________\n",
      "\n",
      " Sex \n",
      " ['Male' 'Female' ' '] \n",
      " ________________________________________________________________________________\n",
      "\n",
      " Sides \n",
      " ['Drowsiness,  dizziness ,  dry mouth /nose/throat,  headache ,  upset stomach ,  constipation , or  trouble sleeping  may occur.'\n",
      " ' '\n",
      " 'Nausea ,  vomiting ,  headache ,  bloating ,  breast  tenderness, swelling of the  ankles /feet (fluid retention), or  weight  change may occur.'\n",
      " ...\n",
      " 'Drowsiness,  dizziness ,  nausea ,  constipation ,  blurred vision , or  headache  may occur.'\n",
      " 'Drowsiness,  dizziness ,  dry mouth ,  blurred vision ,  constipation ,  bloating , trouble urinating, and  weight  gain may occur.'\n",
      " 'Diarrhea ,  nausea , or  heartburn  may occur.'] \n",
      " ________________________________________________________________________________\n"
     ]
    }
   ],
   "source": [
    "# finding the unique values in each categorical variables\n",
    "for col in cat_var:\n",
    "    print('\\n', col, '\\n', data[col].unique(), '\\n', '_' * 80)"
   ]
  },
  {
   "cell_type": "code",
   "execution_count": 75,
   "id": "3fbb4840",
   "metadata": {},
   "outputs": [
    {
     "data": {
      "text/plain": [
       "Name\n",
       "Michael Smith      181\n",
       "David Smith        119\n",
       "Michael Johnson    118\n",
       "John Smith         116\n",
       "James Smith        115\n",
       "                  ... \n",
       "Brett Clay           1\n",
       "Robert Booth         1\n",
       "Theodore Bright      1\n",
       "Erika Hardy          1\n",
       "Erik Floyd           1\n",
       "Name: count, Length: 180994, dtype: int64"
      ]
     },
     "execution_count": 75,
     "metadata": {},
     "output_type": "execute_result"
    }
   ],
   "source": [
    "data.Name.value_counts()"
   ]
  },
  {
   "cell_type": "code",
   "execution_count": 76,
   "id": "e10f63c9",
   "metadata": {},
   "outputs": [
    {
     "data": {
      "text/plain": [
       "Race\n",
       "White       116003\n",
       "Hispanic    101457\n",
       "Black        79906\n",
       "Asian        65440\n",
       "Name: count, dtype: int64"
      ]
     },
     "execution_count": 76,
     "metadata": {},
     "output_type": "execute_result"
    }
   ],
   "source": [
    "data.Race.value_counts()"
   ]
  },
  {
   "cell_type": "code",
   "execution_count": 77,
   "id": "2c3e49ea",
   "metadata": {},
   "outputs": [
    {
     "data": {
      "text/plain": [
       "Age\n",
       "45-54         80043\n",
       "55-64         75136\n",
       "35-44         55011\n",
       "25-34         49718\n",
       "65-74         41216\n",
       "19-24         24230\n",
       "75 or over    15226\n",
       "              12202\n",
       "13-18          7045\n",
       "7-12           1644\n",
       "3-6             838\n",
       "0-2             497\n",
       "Name: count, dtype: int64"
      ]
     },
     "execution_count": 77,
     "metadata": {},
     "output_type": "execute_result"
    }
   ],
   "source": [
    "data.Age.value_counts()"
   ]
  },
  {
   "cell_type": "code",
   "execution_count": 79,
   "id": "ce868062",
   "metadata": {},
   "outputs": [
    {
     "data": {
      "text/plain": [
       "Date\n",
       "10/29/2007    404\n",
       "10/30/2007    316\n",
       "10/28/2007    315\n",
       "3/15/2010     308\n",
       "3/16/2010     295\n",
       "             ... \n",
       "10/19/2019      2\n",
       "10/27/2019      1\n",
       "10/20/2019      1\n",
       "6/28/2019       1\n",
       "6/22/2019       1\n",
       "Name: count, Length: 4524, dtype: int64"
      ]
     },
     "execution_count": 79,
     "metadata": {},
     "output_type": "execute_result"
    }
   ],
   "source": [
    "data.Date.value_counts()"
   ]
  },
  {
   "cell_type": "code",
   "execution_count": 81,
   "id": "ede280eb",
   "metadata": {},
   "outputs": [
    {
     "data": {
      "text/plain": [
       "Drug\n",
       "cymbalta                               4648\n",
       "lisinopril                             4269\n",
       "lisinopril solution                    4269\n",
       "lexapro                                4134\n",
       "hydrocodone-acetaminophen              3944\n",
       "                                       ... \n",
       "sorbsan bandage                           1\n",
       "sorbsan topical wound dressing 3\" x       1\n",
       "q-pap extra strength                      1\n",
       "symax                                     1\n",
       "vanadium granules                         1\n",
       "Name: count, Length: 7093, dtype: int64"
      ]
     },
     "execution_count": 81,
     "metadata": {},
     "output_type": "execute_result"
    }
   ],
   "source": [
    "data.Drug.value_counts()"
   ]
  },
  {
   "cell_type": "code",
   "execution_count": 82,
   "id": "1fb1a871",
   "metadata": {},
   "outputs": [
    {
     "data": {
      "text/plain": [
       "DrugId\n",
       "6873      8538\n",
       "1025      7868\n",
       "6007      7728\n",
       "4398      5864\n",
       "14208     5451\n",
       "          ... \n",
       "4118         1\n",
       "165948       1\n",
       "54215        1\n",
       "154021       1\n",
       "149247       1\n",
       "Name: count, Length: 6572, dtype: int64"
      ]
     },
     "execution_count": 82,
     "metadata": {},
     "output_type": "execute_result"
    }
   ],
   "source": [
    "data.DrugId.value_counts()"
   ]
  },
  {
   "cell_type": "code",
   "execution_count": 83,
   "id": "4f6029a8",
   "metadata": {},
   "outputs": [
    {
     "data": {
      "text/plain": [
       "EaseofUse\n",
       "5     192650\n",
       "4      74732\n",
       "3      41303\n",
       "1      35927\n",
       "2      18191\n",
       "6          2\n",
       "10         1\n",
       "Name: count, dtype: int64"
      ]
     },
     "execution_count": 83,
     "metadata": {},
     "output_type": "execute_result"
    }
   ],
   "source": [
    "data.EaseofUse.value_counts()"
   ]
  },
  {
   "cell_type": "code",
   "execution_count": 84,
   "id": "47b9c42c",
   "metadata": {},
   "outputs": [
    {
     "data": {
      "text/plain": [
       "Effectiveness\n",
       "5     130388\n",
       "4      81821\n",
       "3      60406\n",
       "1      59387\n",
       "2      30801\n",
       "6          2\n",
       "10         1\n",
       "Name: count, dtype: int64"
      ]
     },
     "execution_count": 84,
     "metadata": {},
     "output_type": "execute_result"
    }
   ],
   "source": [
    "data.Effectiveness.value_counts()"
   ]
  },
  {
   "cell_type": "code",
   "execution_count": 85,
   "id": "eae25f64",
   "metadata": {},
   "outputs": [
    {
     "data": {
      "text/plain": [
       "Reviews\n",
       "                                                                                                                                                                                                                                                                                                                                                                                                                                                                                                                                                                                                                                                                           41824\n",
       "good                                                                                                                                                                                                                                                                                                                                                                                                                                                                                                                                                                                                                                                                         183\n",
       "this treatment is awsome.  I love drugs.                                                                                                                                                                                                                                                                                                                                                                                                                                                                                                                                                                                                                                     172\n",
       "This drug is awesome.  I love drugs.                                                                                                                                                                                                                                                                                                                                                                                                                                                                                                                                                                                                                                         128\n",
       "No Script or health Insurance needed to place and order with 10% discount for all purchased. It was nice to have some from them, I just hit them at. WhatsApp only:+1(775)7735306,\\nCall/Text:+1(775)7735306,\\nWickr or Kik: peterking2014.\\nEmail: peterkings2014@gmail.com.\\nMessage code: (Med16) Discreet Delivery                                                                                                                                                                                                                                                                                                                                                        90\n",
       "                                                                                                                                                                                                                                                                                                                                                                                                                                                                                                                                                                                                                                                                           ...  \n",
       "OMG!! Is this shot painful or what!! Received Synvisc-one yesterday and almost passed out from the pain. Only one knee was causing me alot of problems and the other one was just starting to. Now, after receiving an injection in both knees, I am having to rely on crutches and pain meds. It feels like someone stuffed a rubber eraser under both my kneecaps. When is this nightmare going to get better? I was optimistic that relief would happen after I left the doctor's office. The only thing lighter was my check book. I think inject 6ml of thick gel is too much to do at one time. I'll have to give it some time before I EVER go thru this again.         1\n",
       "Just take it now for 3 weeks\\nFeel a little better but still had a little weightgain. muscle  hurting.But overall feel better.                                                                                                                                                                                                                                                                                                                                                                                                                                                                                                                                                 1\n",
       "This has been a miracle drug for.  Yes I gained some wieght, but it was well worth it.  For the first time in years, I am not suicidal and I don't have sickening thoughts.  This medication has helped my greatly.                                                                                                                                                                                                                                                                                                                                                                                                                                                            1\n",
       "worked quickly, got out of bed and had energy for first time in months.                                                                                                                                                                                                                                                                                                                                                                                                                                                                                                                                                                                                        1\n",
       "One year ago, I tried Chantix and had to stop taking it because I was so nauseous in the morning.  Three weeks ago I started it again and found that if I eat 10 minutes before taking the pill, I don't get nauseous at all.  I have been smoke free for two weeks and will never smoke again.                                                                                                                                                                                                                                                                                                                                                                                1\n",
       "Name: count, Length: 250166, dtype: int64"
      ]
     },
     "execution_count": 85,
     "metadata": {},
     "output_type": "execute_result"
    }
   ],
   "source": [
    "data.Reviews.value_counts()"
   ]
  },
  {
   "cell_type": "code",
   "execution_count": 87,
   "id": "af92881c",
   "metadata": {},
   "outputs": [
    {
     "data": {
      "text/plain": [
       "Satisfaction\n",
       "5     111550\n",
       "1     100901\n",
       "4      63158\n",
       "3      51852\n",
       "2      35342\n",
       "6          2\n",
       "10         1\n",
       "Name: count, dtype: int64"
      ]
     },
     "execution_count": 87,
     "metadata": {},
     "output_type": "execute_result"
    }
   ],
   "source": [
    "data.Satisfaction.value_counts()"
   ]
  },
  {
   "cell_type": "code",
   "execution_count": 88,
   "id": "1bafaee9",
   "metadata": {},
   "outputs": [
    {
     "data": {
      "text/plain": [
       "Sex\n",
       "Female    238226\n",
       "Male       98043\n",
       "           26537\n",
       "Name: count, dtype: int64"
      ]
     },
     "execution_count": 88,
     "metadata": {},
     "output_type": "execute_result"
    }
   ],
   "source": [
    "data.Sex.value_counts()"
   ]
  },
  {
   "cell_type": "code",
   "execution_count": 90,
   "id": "da552919",
   "metadata": {},
   "outputs": [
    {
     "data": {
      "text/plain": [
       "Sides\n",
       "                                                                                                                                                       17460\n",
       "Nausea ,  vomiting ,  constipation ,  lightheadedness ,  dizziness , or drowsiness may occur.                                                          15563\n",
       "Nausea ,  vomiting ,  headache ,  bloating ,  breast  tenderness, swelling of the  ankles /feet (fluid retention), or  weight  change may occur.       12116\n",
       "Dizziness ,  lightheadedness , tiredness, or  headache  may occur as your body adjusts to the  medication . Dry  cough  may also occur.                 9162\n",
       "Drowsiness,  dizziness , loss of coordination, tiredness, blurred/ double vision , unusual  eye  movements, or shaking (tremor) may occur.              7790\n",
       "                                                                                                                                                       ...  \n",
       "Nausea ,  vomiting ,  stomach / abdominal pain , gas,  diarrhea ,  weight loss ,  headache ,  muscle cramps ,  dizziness , or  weakness  may occur.        1\n",
       "Headache ,  nausea , chills, or fever may occur.                                                                                                           1\n",
       "Nausea ,  vomiting ,  diarrhea , abdominal/ stomach pain ,  cough ,  dizziness ,  headache , flushing, or loss of appetite may occur.                      1\n",
       "Mild  skin  burning, redness, and peeling of the treated area may occur as expected.                                                                       1\n",
       "Diarrhea ,  nausea , or  heartburn  may occur.                                                                                                             1\n",
       "Name: count, Length: 1651, dtype: int64"
      ]
     },
     "execution_count": 90,
     "metadata": {},
     "output_type": "execute_result"
    }
   ],
   "source": [
    "data.Sides.value_counts()"
   ]
  },
  {
   "cell_type": "code",
   "execution_count": 91,
   "id": "e202771c",
   "metadata": {},
   "outputs": [
    {
     "data": {
      "text/plain": [
       "UsefulCount\n",
       "0      71608\n",
       "1      46240\n",
       "2      34701\n",
       "3      27307\n",
       "4      22862\n",
       "       ...  \n",
       "136        1\n",
       "178        1\n",
       "176        1\n",
       "169        1\n",
       "95         1\n",
       "Name: count, Length: 148, dtype: int64"
      ]
     },
     "execution_count": 91,
     "metadata": {},
     "output_type": "execute_result"
    }
   ],
   "source": [
    "data.UsefulCount.value_counts()"
   ]
  },
  {
   "cell_type": "code",
   "execution_count": 92,
   "id": "16b94d2d",
   "metadata": {},
   "outputs": [
    {
     "data": {
      "text/plain": [
       "Condition\n",
       "Other                                                  49765\n",
       "Pain                                                   25232\n",
       "High Blood Pressure                                    23275\n",
       "Depression                                             14509\n",
       "Birth Control                                          12253\n",
       "                                                       ...  \n",
       "Diagnostic Test for Myasthenia Gravis                      1\n",
       "Myelodysplastic Syndrome with 5q Deletion Gene Type        1\n",
       "Hunter Syndrome                                            1\n",
       "Increased Uric Acid due to Cancer Chemotherapy             1\n",
       "Adverse Effect of Benzodiazepine-Based Tranquilizer        1\n",
       "Name: count, Length: 1806, dtype: int64"
      ]
     },
     "execution_count": 92,
     "metadata": {},
     "output_type": "execute_result"
    }
   ],
   "source": [
    "data.Condition.value_counts()"
   ]
  },
  {
   "cell_type": "code",
   "execution_count": 93,
   "id": "3152899e",
   "metadata": {},
   "outputs": [
    {
     "data": {
      "text/plain": [
       "Drug\n",
       "cymbalta                                               4648\n",
       "lisinopril                                             4269\n",
       "lisinopril solution                                    4269\n",
       "lexapro                                                4134\n",
       "hydrocodone-acetaminophen                              3944\n",
       "effexor xr                                             3486\n",
       "lyrica                                                 3069\n",
       "tramadol hcl er                                        2932\n",
       "tramadol hcl                                           2932\n",
       "zoloft                                                 2662\n",
       "prednisone tablet, delayed release (enteric coated)    2576\n",
       "prednisone concentrate                                 2576\n",
       "prednisone                                             2576\n",
       "seroquel                                               2446\n",
       "phentermine hcl                                        2367\n",
       "celexa                                                 2224\n",
       "topamax                                                2148\n",
       "topamax capsule, sprinkle                              2148\n",
       "trazodone hcl                                          2099\n",
       "neurontin capsule                                      2078\n",
       "Name: count, dtype: int64"
      ]
     },
     "execution_count": 93,
     "metadata": {},
     "output_type": "execute_result"
    }
   ],
   "source": [
    "data.Drug.value_counts().head(20)"
   ]
  },
  {
   "cell_type": "markdown",
   "id": "7aab879f",
   "metadata": {},
   "source": [
    "## Selection of drug: A particular drug named Topamax with DrugId 14494 is selected in building a classification model to determine side effects"
   ]
  },
  {
   "cell_type": "code",
   "execution_count": 96,
   "id": "abbf1c09",
   "metadata": {},
   "outputs": [
    {
     "data": {
      "text/html": [
       "<div>\n",
       "<style scoped>\n",
       "    .dataframe tbody tr th:only-of-type {\n",
       "        vertical-align: middle;\n",
       "    }\n",
       "\n",
       "    .dataframe tbody tr th {\n",
       "        vertical-align: top;\n",
       "    }\n",
       "\n",
       "    .dataframe thead th {\n",
       "        text-align: right;\n",
       "    }\n",
       "</style>\n",
       "<table border=\"1\" class=\"dataframe\">\n",
       "  <thead>\n",
       "    <tr style=\"text-align: right;\">\n",
       "      <th></th>\n",
       "      <th>Name</th>\n",
       "      <th>Race</th>\n",
       "      <th>Age</th>\n",
       "      <th>Condition</th>\n",
       "      <th>Date</th>\n",
       "      <th>Drug</th>\n",
       "      <th>DrugId</th>\n",
       "      <th>EaseofUse</th>\n",
       "      <th>Effectiveness</th>\n",
       "      <th>Reviews</th>\n",
       "      <th>Satisfaction</th>\n",
       "      <th>Sex</th>\n",
       "      <th>Sides</th>\n",
       "      <th>UsefulCount</th>\n",
       "    </tr>\n",
       "  </thead>\n",
       "  <tbody>\n",
       "    <tr>\n",
       "      <th>191568</th>\n",
       "      <td>Alison Turner</td>\n",
       "      <td>Hispanic</td>\n",
       "      <td>45-54</td>\n",
       "      <td>Migraine Prevention</td>\n",
       "      <td>9/22/2019</td>\n",
       "      <td>topamax</td>\n",
       "      <td>14494</td>\n",
       "      <td>4</td>\n",
       "      <td>4</td>\n",
       "      <td>I was on this drug for 5 years, 100mg for the ...</td>\n",
       "      <td>1</td>\n",
       "      <td></td>\n",
       "      <td>Tiredness, drowsiness,  dizziness , loss of co...</td>\n",
       "      <td>5</td>\n",
       "    </tr>\n",
       "    <tr>\n",
       "      <th>191575</th>\n",
       "      <td>Patricia Martin</td>\n",
       "      <td>Asian</td>\n",
       "      <td>35-44</td>\n",
       "      <td>Simple Partial Seizures</td>\n",
       "      <td>9/2/2019</td>\n",
       "      <td>topamax</td>\n",
       "      <td>14494</td>\n",
       "      <td>4</td>\n",
       "      <td>4</td>\n",
       "      <td>I have partial seizures. It didn't help for a ...</td>\n",
       "      <td>4</td>\n",
       "      <td></td>\n",
       "      <td>Tiredness, drowsiness,  dizziness , loss of co...</td>\n",
       "      <td>0</td>\n",
       "    </tr>\n",
       "    <tr>\n",
       "      <th>191582</th>\n",
       "      <td>Heather Medina</td>\n",
       "      <td>Asian</td>\n",
       "      <td>13-18</td>\n",
       "      <td>Migraine Prevention</td>\n",
       "      <td>8/9/2019</td>\n",
       "      <td>topamax</td>\n",
       "      <td>14494</td>\n",
       "      <td>1</td>\n",
       "      <td>1</td>\n",
       "      <td>I have been having migraines and headaches eve...</td>\n",
       "      <td>1</td>\n",
       "      <td></td>\n",
       "      <td>Tiredness, drowsiness,  dizziness , loss of co...</td>\n",
       "      <td>6</td>\n",
       "    </tr>\n",
       "    <tr>\n",
       "      <th>191589</th>\n",
       "      <td>Christopher Branch</td>\n",
       "      <td>White</td>\n",
       "      <td>65-74</td>\n",
       "      <td>Essential Tremor</td>\n",
       "      <td>7/21/2019</td>\n",
       "      <td>topamax</td>\n",
       "      <td>14494</td>\n",
       "      <td>4</td>\n",
       "      <td>4</td>\n",
       "      <td>This is the only medication I have taken for t...</td>\n",
       "      <td>3</td>\n",
       "      <td></td>\n",
       "      <td>Tiredness, drowsiness,  dizziness , loss of co...</td>\n",
       "      <td>0</td>\n",
       "    </tr>\n",
       "    <tr>\n",
       "      <th>191596</th>\n",
       "      <td>John Mullins</td>\n",
       "      <td>White</td>\n",
       "      <td>45-54</td>\n",
       "      <td>Migraine Prevention</td>\n",
       "      <td>4/30/2019</td>\n",
       "      <td>topamax</td>\n",
       "      <td>14494</td>\n",
       "      <td>5</td>\n",
       "      <td>5</td>\n",
       "      <td>I suffered from debilitating Cluster Headaches...</td>\n",
       "      <td>5</td>\n",
       "      <td></td>\n",
       "      <td>Tiredness, drowsiness,  dizziness , loss of co...</td>\n",
       "      <td>2</td>\n",
       "    </tr>\n",
       "  </tbody>\n",
       "</table>\n",
       "</div>"
      ],
      "text/plain": [
       "                      Name      Race    Age                Condition  \\\n",
       "191568       Alison Turner  Hispanic  45-54      Migraine Prevention   \n",
       "191575     Patricia Martin     Asian  35-44  Simple Partial Seizures   \n",
       "191582      Heather Medina     Asian  13-18      Migraine Prevention   \n",
       "191589  Christopher Branch     White  65-74         Essential Tremor   \n",
       "191596        John Mullins     White  45-54      Migraine Prevention   \n",
       "\n",
       "             Date     Drug  DrugId  EaseofUse  Effectiveness  \\\n",
       "191568  9/22/2019  topamax   14494          4              4   \n",
       "191575   9/2/2019  topamax   14494          4              4   \n",
       "191582   8/9/2019  topamax   14494          1              1   \n",
       "191589  7/21/2019  topamax   14494          4              4   \n",
       "191596  4/30/2019  topamax   14494          5              5   \n",
       "\n",
       "                                                  Reviews  Satisfaction Sex  \\\n",
       "191568  I was on this drug for 5 years, 100mg for the ...             1       \n",
       "191575  I have partial seizures. It didn't help for a ...             4       \n",
       "191582  I have been having migraines and headaches eve...             1       \n",
       "191589  This is the only medication I have taken for t...             3       \n",
       "191596  I suffered from debilitating Cluster Headaches...             5       \n",
       "\n",
       "                                                    Sides  UsefulCount  \n",
       "191568  Tiredness, drowsiness,  dizziness , loss of co...            5  \n",
       "191575  Tiredness, drowsiness,  dizziness , loss of co...            0  \n",
       "191582  Tiredness, drowsiness,  dizziness , loss of co...            6  \n",
       "191589  Tiredness, drowsiness,  dizziness , loss of co...            0  \n",
       "191596  Tiredness, drowsiness,  dizziness , loss of co...            2  "
      ]
     },
     "execution_count": 96,
     "metadata": {},
     "output_type": "execute_result"
    }
   ],
   "source": [
    "drug_topamax= data.loc[(data['Drug'] =='topamax')]\n",
    "drug_topamax.head(5)"
   ]
  },
  {
   "cell_type": "code",
   "execution_count": 97,
   "id": "90ac1cbf",
   "metadata": {},
   "outputs": [
    {
     "data": {
      "text/plain": [
       "(2148, 14)"
      ]
     },
     "execution_count": 97,
     "metadata": {},
     "output_type": "execute_result"
    }
   ],
   "source": [
    "drug_topamax.shape"
   ]
  },
  {
   "cell_type": "code",
   "execution_count": 101,
   "id": "d15bfae6",
   "metadata": {},
   "outputs": [
    {
     "data": {
      "text/plain": [
       "Condition\n",
       "Migraine Prevention                                1380\n",
       "Other                                               460\n",
       "Simple Partial Seizures                              68\n",
       "Convulsive Seizures                                  63\n",
       "Tonic-Clonic Epilepsy                                48\n",
       "Additional Medication to Treat Partial Seizures      48\n",
       "Habit of Drinking Too Much Alcohol                   27\n",
       "Essential Tremor                                     24\n",
       "Additional Medication for Tonic-Clonic Epilepsy      15\n",
       "Involuntary Quivering                                10\n",
       "Epilepsy of the Lennox Gastaut Syndrome               4\n",
       "Binge Eating Disorder                                 1\n",
       "Name: count, dtype: int64"
      ]
     },
     "execution_count": 101,
     "metadata": {},
     "output_type": "execute_result"
    }
   ],
   "source": [
    "drug_topamax['Condition'].value_counts()"
   ]
  },
  {
   "cell_type": "code",
   "execution_count": 103,
   "id": "0d042f33",
   "metadata": {},
   "outputs": [
    {
     "data": {
      "text/plain": [
       "2148"
      ]
     },
     "execution_count": 103,
     "metadata": {},
     "output_type": "execute_result"
    }
   ],
   "source": [
    "drug_topamax['Condition'].value_counts().sum()"
   ]
  },
  {
   "cell_type": "code",
   "execution_count": 105,
   "id": "be1dfdf1",
   "metadata": {},
   "outputs": [],
   "source": [
    "data_new = drug_topamax.copy()"
   ]
  },
  {
   "cell_type": "code",
   "execution_count": 109,
   "id": "542f578b",
   "metadata": {},
   "outputs": [],
   "source": [
    "data_copy = data.copy()"
   ]
  },
  {
   "cell_type": "markdown",
   "id": "2dd8e922",
   "metadata": {},
   "source": [
    "# Data pre-processing"
   ]
  },
  {
   "cell_type": "markdown",
   "id": "2c60568d",
   "metadata": {},
   "source": [
    "## 1. Handling whitespaces"
   ]
  },
  {
   "cell_type": "code",
   "execution_count": 114,
   "id": "61928d0e",
   "metadata": {},
   "outputs": [],
   "source": [
    "# Handling instances with whitespaces\n",
    "for i in data_new:\n",
    "    data_new[i]=np.where(data_new[i]==\" \",np.NAN,data_new[i])"
   ]
  },
  {
   "cell_type": "code",
   "execution_count": 116,
   "id": "358a5989",
   "metadata": {},
   "outputs": [
    {
     "data": {
      "text/html": [
       "<div>\n",
       "<style scoped>\n",
       "    .dataframe tbody tr th:only-of-type {\n",
       "        vertical-align: middle;\n",
       "    }\n",
       "\n",
       "    .dataframe tbody tr th {\n",
       "        vertical-align: top;\n",
       "    }\n",
       "\n",
       "    .dataframe thead th {\n",
       "        text-align: right;\n",
       "    }\n",
       "</style>\n",
       "<table border=\"1\" class=\"dataframe\">\n",
       "  <thead>\n",
       "    <tr style=\"text-align: right;\">\n",
       "      <th></th>\n",
       "      <th>Name</th>\n",
       "      <th>Race</th>\n",
       "      <th>Age</th>\n",
       "      <th>Condition</th>\n",
       "      <th>Date</th>\n",
       "      <th>Drug</th>\n",
       "      <th>DrugId</th>\n",
       "      <th>EaseofUse</th>\n",
       "      <th>Effectiveness</th>\n",
       "      <th>Reviews</th>\n",
       "      <th>Satisfaction</th>\n",
       "      <th>Sex</th>\n",
       "      <th>Sides</th>\n",
       "      <th>UsefulCount</th>\n",
       "    </tr>\n",
       "  </thead>\n",
       "  <tbody>\n",
       "    <tr>\n",
       "      <th>191568</th>\n",
       "      <td>Alison Turner</td>\n",
       "      <td>Hispanic</td>\n",
       "      <td>45-54</td>\n",
       "      <td>Migraine Prevention</td>\n",
       "      <td>9/22/2019</td>\n",
       "      <td>topamax</td>\n",
       "      <td>14494.0</td>\n",
       "      <td>4.0</td>\n",
       "      <td>4.0</td>\n",
       "      <td>I was on this drug for 5 years, 100mg for the ...</td>\n",
       "      <td>1.0</td>\n",
       "      <td>NaN</td>\n",
       "      <td>Tiredness, drowsiness,  dizziness , loss of co...</td>\n",
       "      <td>5.0</td>\n",
       "    </tr>\n",
       "    <tr>\n",
       "      <th>191575</th>\n",
       "      <td>Patricia Martin</td>\n",
       "      <td>Asian</td>\n",
       "      <td>35-44</td>\n",
       "      <td>Simple Partial Seizures</td>\n",
       "      <td>9/2/2019</td>\n",
       "      <td>topamax</td>\n",
       "      <td>14494.0</td>\n",
       "      <td>4.0</td>\n",
       "      <td>4.0</td>\n",
       "      <td>I have partial seizures. It didn't help for a ...</td>\n",
       "      <td>4.0</td>\n",
       "      <td>NaN</td>\n",
       "      <td>Tiredness, drowsiness,  dizziness , loss of co...</td>\n",
       "      <td>0.0</td>\n",
       "    </tr>\n",
       "    <tr>\n",
       "      <th>191582</th>\n",
       "      <td>Heather Medina</td>\n",
       "      <td>Asian</td>\n",
       "      <td>13-18</td>\n",
       "      <td>Migraine Prevention</td>\n",
       "      <td>8/9/2019</td>\n",
       "      <td>topamax</td>\n",
       "      <td>14494.0</td>\n",
       "      <td>1.0</td>\n",
       "      <td>1.0</td>\n",
       "      <td>I have been having migraines and headaches eve...</td>\n",
       "      <td>1.0</td>\n",
       "      <td>NaN</td>\n",
       "      <td>Tiredness, drowsiness,  dizziness , loss of co...</td>\n",
       "      <td>6.0</td>\n",
       "    </tr>\n",
       "    <tr>\n",
       "      <th>191589</th>\n",
       "      <td>Christopher Branch</td>\n",
       "      <td>White</td>\n",
       "      <td>65-74</td>\n",
       "      <td>Essential Tremor</td>\n",
       "      <td>7/21/2019</td>\n",
       "      <td>topamax</td>\n",
       "      <td>14494.0</td>\n",
       "      <td>4.0</td>\n",
       "      <td>4.0</td>\n",
       "      <td>This is the only medication I have taken for t...</td>\n",
       "      <td>3.0</td>\n",
       "      <td>NaN</td>\n",
       "      <td>Tiredness, drowsiness,  dizziness , loss of co...</td>\n",
       "      <td>0.0</td>\n",
       "    </tr>\n",
       "    <tr>\n",
       "      <th>191596</th>\n",
       "      <td>John Mullins</td>\n",
       "      <td>White</td>\n",
       "      <td>45-54</td>\n",
       "      <td>Migraine Prevention</td>\n",
       "      <td>4/30/2019</td>\n",
       "      <td>topamax</td>\n",
       "      <td>14494.0</td>\n",
       "      <td>5.0</td>\n",
       "      <td>5.0</td>\n",
       "      <td>I suffered from debilitating Cluster Headaches...</td>\n",
       "      <td>5.0</td>\n",
       "      <td>NaN</td>\n",
       "      <td>Tiredness, drowsiness,  dizziness , loss of co...</td>\n",
       "      <td>2.0</td>\n",
       "    </tr>\n",
       "  </tbody>\n",
       "</table>\n",
       "</div>"
      ],
      "text/plain": [
       "                      Name      Race    Age                Condition  \\\n",
       "191568       Alison Turner  Hispanic  45-54      Migraine Prevention   \n",
       "191575     Patricia Martin     Asian  35-44  Simple Partial Seizures   \n",
       "191582      Heather Medina     Asian  13-18      Migraine Prevention   \n",
       "191589  Christopher Branch     White  65-74         Essential Tremor   \n",
       "191596        John Mullins     White  45-54      Migraine Prevention   \n",
       "\n",
       "             Date     Drug   DrugId  EaseofUse  Effectiveness  \\\n",
       "191568  9/22/2019  topamax  14494.0        4.0            4.0   \n",
       "191575   9/2/2019  topamax  14494.0        4.0            4.0   \n",
       "191582   8/9/2019  topamax  14494.0        1.0            1.0   \n",
       "191589  7/21/2019  topamax  14494.0        4.0            4.0   \n",
       "191596  4/30/2019  topamax  14494.0        5.0            5.0   \n",
       "\n",
       "                                                  Reviews  Satisfaction  Sex  \\\n",
       "191568  I was on this drug for 5 years, 100mg for the ...           1.0  NaN   \n",
       "191575  I have partial seizures. It didn't help for a ...           4.0  NaN   \n",
       "191582  I have been having migraines and headaches eve...           1.0  NaN   \n",
       "191589  This is the only medication I have taken for t...           3.0  NaN   \n",
       "191596  I suffered from debilitating Cluster Headaches...           5.0  NaN   \n",
       "\n",
       "                                                    Sides  UsefulCount  \n",
       "191568  Tiredness, drowsiness,  dizziness , loss of co...          5.0  \n",
       "191575  Tiredness, drowsiness,  dizziness , loss of co...          0.0  \n",
       "191582  Tiredness, drowsiness,  dizziness , loss of co...          6.0  \n",
       "191589  Tiredness, drowsiness,  dizziness , loss of co...          0.0  \n",
       "191596  Tiredness, drowsiness,  dizziness , loss of co...          2.0  "
      ]
     },
     "execution_count": 116,
     "metadata": {},
     "output_type": "execute_result"
    }
   ],
   "source": [
    "data_new.head()"
   ]
  },
  {
   "cell_type": "markdown",
   "id": "134e971f",
   "metadata": {},
   "source": [
    "## 2. Missing values"
   ]
  },
  {
   "cell_type": "code",
   "execution_count": 122,
   "id": "d954bb0c",
   "metadata": {},
   "outputs": [
    {
     "data": {
      "text/plain": [
       "Name               0\n",
       "Race               0\n",
       "Age               75\n",
       "Condition          0\n",
       "Date               0\n",
       "Drug               0\n",
       "DrugId             0\n",
       "EaseofUse          0\n",
       "Effectiveness      0\n",
       "Reviews          200\n",
       "Satisfaction       0\n",
       "Sex              103\n",
       "Sides              0\n",
       "UsefulCount        0\n",
       "dtype: int64"
      ]
     },
     "execution_count": 122,
     "metadata": {},
     "output_type": "execute_result"
    }
   ],
   "source": [
    "#checking missing values\n",
    "data_new.isnull().sum()"
   ]
  },
  {
   "cell_type": "code",
   "execution_count": 125,
   "id": "6d839675",
   "metadata": {},
   "outputs": [
    {
     "data": {
      "text/plain": [
       "(2148, 14)"
      ]
     },
     "execution_count": 125,
     "metadata": {},
     "output_type": "execute_result"
    }
   ],
   "source": [
    "data_new.shape"
   ]
  },
  {
   "cell_type": "markdown",
   "id": "58430609",
   "metadata": {},
   "source": [
    "### Bar plot showing the null value count of each feature"
   ]
  },
  {
   "cell_type": "code",
   "execution_count": 127,
   "id": "c6cd1561",
   "metadata": {},
   "outputs": [
    {
     "data": {
      "text/plain": [
       "Text(0.5, 1.0, 'Total Missing Values')"
      ]
     },
     "execution_count": 127,
     "metadata": {},
     "output_type": "execute_result"
    },
    {
     "data": {
      "image/png": "[encoded data removed]",
      "text/plain": [
       "<Figure size 1200x600 with 1 Axes>"
      ]
     },
     "metadata": {},
     "output_type": "display_data"
    }
   ],
   "source": [
    "missing = (data_new.isnull().sum()).sort_values(ascending=False)\n",
    "missing.plot(kind=\"bar\", figsize = (12,6), fontsize = 10, color='violet')\n",
    "plt.xlabel(\"Columns\", fontsize = 20)\n",
    "plt.ylabel(\"\", fontsize = 20)\n",
    "plt.title(\"Total Missing Values\", fontsize = 20)"
   ]
  },
  {
   "cell_type": "code",
   "execution_count": 130,
   "id": "2608ffdf",
   "metadata": {},
   "outputs": [],
   "source": [
    "# Removing rows with null data\n",
    "data_new=data_new.dropna(axis=0)"
   ]
  },
  {
   "cell_type": "code",
   "execution_count": 132,
   "id": "02e41160",
   "metadata": {},
   "outputs": [
    {
     "data": {
      "text/plain": [
       "Name             0\n",
       "Race             0\n",
       "Age              0\n",
       "Condition        0\n",
       "Date             0\n",
       "Drug             0\n",
       "DrugId           0\n",
       "EaseofUse        0\n",
       "Effectiveness    0\n",
       "Reviews          0\n",
       "Satisfaction     0\n",
       "Sex              0\n",
       "Sides            0\n",
       "UsefulCount      0\n",
       "dtype: int64"
      ]
     },
     "execution_count": 132,
     "metadata": {},
     "output_type": "execute_result"
    }
   ],
   "source": [
    "data_new.isnull().sum()"
   ]
  },
  {
   "cell_type": "code",
   "execution_count": 133,
   "id": "aa648793",
   "metadata": {},
   "outputs": [
    {
     "data": {
      "text/plain": [
       "(1830, 14)"
      ]
     },
     "execution_count": 133,
     "metadata": {},
     "output_type": "execute_result"
    }
   ],
   "source": [
    "data_new.shape"
   ]
  },
  {
   "cell_type": "markdown",
   "id": "667c9452",
   "metadata": {},
   "source": [
    "## 3.Text processing"
   ]
  },
  {
   "cell_type": "code",
   "execution_count": 136,
   "id": "aabaf0ec",
   "metadata": {},
   "outputs": [],
   "source": [
    "# converting rows having data other than string datatype into  string.\n",
    "for i in range(0,len(data_new)-1):\n",
    "    if type(data_new.iloc[i]['Sides']) != str:\n",
    "        data_new.iloc[i]['Sides'] = str(data_new.iloc[i]['Sides'])\n",
    "\n",
    "for i in range(0,len(data_new)-1):\n",
    "    if type(data_new.iloc[i]['Reviews']) != str:\n",
    "        data_new.iloc[i]['Reviews'] = str(data_new.iloc[i]['Reviews'])\n",
    "        \n",
    "for i in range(0,len(data_new)-1):\n",
    "    if type(data_new.iloc[i]['Condition']) != str:\n",
    "        data_new.iloc[i]['Condition'] = str(data_new.iloc[i]['Condition'])"
   ]
  },
  {
   "cell_type": "code",
   "execution_count": 138,
   "id": "4dcc4811",
   "metadata": {},
   "outputs": [],
   "source": [
    "import re\n",
    "def cleaning_text(i):\n",
    "    i = re.sub(\"[^A-Za-z\" \"]+\",\" \",i).lower()\n",
    "    i = re.sub(\"[0-9\" \"]+\",\" \",i)\n",
    "    i= re.sub(\"[\\W+\"\"]\", \" \",i)        \n",
    "    w = []\n",
    "    for word in i.split(\" \"):\n",
    "        if len(word)>3:\n",
    "            w.append(word)\n",
    "    return (\" \".join(w))"
   ]
  },
  {
   "cell_type": "markdown",
   "id": "9f25d8eb",
   "metadata": {},
   "source": [
    "### 3.1 Sides"
   ]
  },
  {
   "cell_type": "code",
   "execution_count": 141,
   "id": "3a2572ab",
   "metadata": {},
   "outputs": [
    {
     "data": {
      "text/plain": [
       "191610    tiredness drowsiness dizziness loss coordinati...\n",
       "191624    tiredness drowsiness dizziness loss coordinati...\n",
       "191631    tiredness drowsiness dizziness loss coordinati...\n",
       "191638    tiredness drowsiness dizziness loss coordinati...\n",
       "191645    tiredness drowsiness dizziness loss coordinati...\n",
       "                                ...                        \n",
       "197200    tiredness drowsiness dizziness loss coordinati...\n",
       "197201    tiredness drowsiness dizziness loss coordinati...\n",
       "197202    tiredness drowsiness dizziness loss coordinati...\n",
       "197203    tiredness drowsiness dizziness loss coordinati...\n",
       "197204    tiredness drowsiness dizziness loss coordinati...\n",
       "Name: Sides, Length: 1830, dtype: object"
      ]
     },
     "execution_count": 141,
     "metadata": {},
     "output_type": "execute_result"
    }
   ],
   "source": [
    "data_new.Sides= data_new.Sides.apply(cleaning_text)\n",
    "data_new.Sides"
   ]
  },
  {
   "cell_type": "code",
   "execution_count": 142,
   "id": "8b8bb551",
   "metadata": {},
   "outputs": [
    {
     "name": "stderr",
     "output_type": "stream",
     "text": [
      "[nltk_data] Downloading package stopwords to\n",
      "[nltk_data]     C:\\Users\\bhate\\AppData\\Roaming\\nltk_data...\n",
      "[nltk_data]   Package stopwords is already up-to-date!\n"
     ]
    }
   ],
   "source": [
    "import nltk\n",
    "nltk.download('stopwords')\n",
    "from nltk.corpus import stopwords\n",
    "\n",
    "stop_words = stopwords.words('english')\n",
    "data_new['Sides'] = data_new['Sides'].apply(lambda x: ' '.join([word for word in x.split() if word not in (stop_words)]))"
   ]
  },
  {
   "cell_type": "code",
   "execution_count": 143,
   "id": "78910362",
   "metadata": {},
   "outputs": [
    {
     "data": {
      "text/plain": [
       "191610    tiredness drowsiness dizziness loss coordinati...\n",
       "191624    tiredness drowsiness dizziness loss coordinati...\n",
       "191631    tiredness drowsiness dizziness loss coordinati...\n",
       "191638    tiredness drowsiness dizziness loss coordinati...\n",
       "191645    tiredness drowsiness dizziness loss coordinati...\n",
       "                                ...                        \n",
       "197200    tiredness drowsiness dizziness loss coordinati...\n",
       "197201    tiredness drowsiness dizziness loss coordinati...\n",
       "197202    tiredness drowsiness dizziness loss coordinati...\n",
       "197203    tiredness drowsiness dizziness loss coordinati...\n",
       "197204    tiredness drowsiness dizziness loss coordinati...\n",
       "Name: Sides, Length: 1830, dtype: object"
      ]
     },
     "execution_count": 143,
     "metadata": {},
     "output_type": "execute_result"
    }
   ],
   "source": [
    "data_new['Sides']"
   ]
  },
  {
   "cell_type": "markdown",
   "id": "60d67fe4",
   "metadata": {},
   "source": [
    "### 3.2 Reviews"
   ]
  },
  {
   "cell_type": "code",
   "execution_count": 146,
   "id": "84c90b9d",
   "metadata": {},
   "outputs": [
    {
     "data": {
      "text/plain": [
       "191610    years when this medication when mild seizure n...\n",
       "191624    topamax chronic vomiting only took weeks befor...\n",
       "191631    taking gabapentin central neuropathy wondering...\n",
       "191638    have been taking topamax exactly four years mi...\n",
       "191645    suffer with spinal degeneration that supposed ...\n",
       "                                ...                        \n",
       "197200    first weeks felt great took ptsd symptoms away...\n",
       "197201    have tried just about everything there help wi...\n",
       "197202    have rash around neck after started taking top...\n",
       "197203    have read some reviews happy realize that goin...\n",
       "197204    topamax worked great until started have short ...\n",
       "Name: Reviews, Length: 1830, dtype: object"
      ]
     },
     "execution_count": 146,
     "metadata": {},
     "output_type": "execute_result"
    }
   ],
   "source": [
    "data_new.review= data_new.Reviews.apply(cleaning_text)\n",
    "data_new.review"
   ]
  },
  {
   "cell_type": "markdown",
   "id": "4e59ff67",
   "metadata": {},
   "source": [
    "### Removing stopwords"
   ]
  },
  {
   "cell_type": "code",
   "execution_count": 149,
   "id": "cb00f160",
   "metadata": {},
   "outputs": [
    {
     "name": "stderr",
     "output_type": "stream",
     "text": [
      "[nltk_data] Downloading package stopwords to\n",
      "[nltk_data]     C:\\Users\\bhate\\AppData\\Roaming\\nltk_data...\n",
      "[nltk_data]   Package stopwords is already up-to-date!\n"
     ]
    }
   ],
   "source": [
    "import nltk\n",
    "nltk.download('stopwords')\n",
    "from nltk.corpus import stopwords\n",
    "\n",
    "stop_words = stopwords.words('english')\n",
    "data_new['Reviews'] = data_new['Reviews'].apply(lambda x: ' '.join([word for word in x.split() if word not in (stop_words)]))"
   ]
  },
  {
   "cell_type": "code",
   "execution_count": 150,
   "id": "2c67059d",
   "metadata": {},
   "outputs": [
    {
     "data": {
      "text/plain": [
       "191610    I'm 30 years old, I 12 I put medication. When ...\n",
       "191624    I put 50mg day topamax chronic vomiting. I too...\n",
       "191631    I'm taking Gabapentin Central Neuropathy!! I w...\n",
       "191638    I taking Topamax exactly four years migraine p...\n",
       "191645    I suffer spinal degeneration I supposed daily ...\n",
       "                                ...                        \n",
       "197200    The first 3 weeks I felt great---it took lot P...\n",
       "197201    I tried everything help migrianes. Nothing wor...\n",
       "197202    I rash around neck I started taking Topamax. I...\n",
       "197203    I read reviews happy realize \"I\" going crazy a...\n",
       "197204    Topamax worked great, I started short term mem...\n",
       "Name: Reviews, Length: 1830, dtype: object"
      ]
     },
     "execution_count": 150,
     "metadata": {},
     "output_type": "execute_result"
    }
   ],
   "source": [
    "data_new['Reviews']"
   ]
  },
  {
   "cell_type": "markdown",
   "id": "3866505b",
   "metadata": {},
   "source": [
    "### 3.3 Condition"
   ]
  },
  {
   "cell_type": "code",
   "execution_count": 152,
   "id": "07622abf",
   "metadata": {},
   "outputs": [
    {
     "data": {
      "text/plain": [
       "191610    simple partial seizures\n",
       "191624                      other\n",
       "191631                      other\n",
       "191638        migraine prevention\n",
       "191645                      other\n",
       "                   ...           \n",
       "197200                      other\n",
       "197201        migraine prevention\n",
       "197202                      other\n",
       "197203    simple partial seizures\n",
       "197204        migraine prevention\n",
       "Name: Condition, Length: 1830, dtype: object"
      ]
     },
     "execution_count": 152,
     "metadata": {},
     "output_type": "execute_result"
    }
   ],
   "source": [
    "data_new.Condition=data_new.Condition.apply(cleaning_text)\n",
    "data_new.Condition"
   ]
  },
  {
   "cell_type": "markdown",
   "id": "1dc69ae7",
   "metadata": {},
   "source": [
    "## 4. Gender"
   ]
  },
  {
   "cell_type": "code",
   "execution_count": 155,
   "id": "f9b7a362",
   "metadata": {},
   "outputs": [
    {
     "data": {
      "text/plain": [
       "Sex\n",
       "Female    1669\n",
       "Male       161\n",
       "Name: count, dtype: int64"
      ]
     },
     "execution_count": 155,
     "metadata": {},
     "output_type": "execute_result"
    }
   ],
   "source": [
    "data_new['Sex'].value_counts()"
   ]
  },
  {
   "cell_type": "markdown",
   "id": "dc8b61ef",
   "metadata": {},
   "source": [
    "## 5.Handling age group"
   ]
  },
  {
   "cell_type": "code",
   "execution_count": 160,
   "id": "69e90bcb",
   "metadata": {},
   "outputs": [
    {
     "data": {
      "text/plain": [
       "Age\n",
       "45-54         463\n",
       "35-44         455\n",
       "25-34         423\n",
       "55-64         196\n",
       "19-24         184\n",
       "13-18          51\n",
       "65-74          37\n",
       "7-12            8\n",
       "75 or over      8\n",
       "3-6             3\n",
       "0-2             2\n",
       "Name: count, dtype: int64"
      ]
     },
     "execution_count": 160,
     "metadata": {},
     "output_type": "execute_result"
    }
   ],
   "source": [
    "data_new['Age'].value_counts()"
   ]
  },
  {
   "cell_type": "code",
   "execution_count": 161,
   "id": "20597db8",
   "metadata": {},
   "outputs": [
    {
     "data": {
      "text/plain": [
       "array(['7-12', '25-34', '45-54', '65-74', '55-64', '35-44', '19-24',\n",
       "       '13-18', '75 or over', '3-6', '0-2'], dtype=object)"
      ]
     },
     "execution_count": 161,
     "metadata": {},
     "output_type": "execute_result"
    }
   ],
   "source": [
    "data_new['Age'].unique()"
   ]
  },
  {
   "cell_type": "code",
   "execution_count": 162,
   "id": "15e6090b",
   "metadata": {},
   "outputs": [],
   "source": [
    "data_new['Age']=data_new['Age'].str.replace('75 or over','75-100')"
   ]
  },
  {
   "cell_type": "code",
   "execution_count": 163,
   "id": "523dab32",
   "metadata": {},
   "outputs": [
    {
     "data": {
      "text/plain": [
       "Age\n",
       "45-54     463\n",
       "35-44     455\n",
       "25-34     423\n",
       "55-64     196\n",
       "19-24     184\n",
       "13-18      51\n",
       "65-74      37\n",
       "7-12        8\n",
       "75-100      8\n",
       "3-6         3\n",
       "0-2         2\n",
       "Name: count, dtype: int64"
      ]
     },
     "execution_count": 163,
     "metadata": {},
     "output_type": "execute_result"
    }
   ],
   "source": [
    "data_new['Age'].value_counts()"
   ]
  },
  {
   "cell_type": "markdown",
   "id": "1d6b955a",
   "metadata": {},
   "source": [
    "## 6.Outliers detection"
   ]
  },
  {
   "cell_type": "code",
   "execution_count": 165,
   "id": "28ed88e8",
   "metadata": {},
   "outputs": [
    {
     "data": {
      "image/png": "[encoded data removed]",
      "text/plain": [
       "<Figure size 1000x600 with 4 Axes>"
      ]
     },
     "metadata": {},
     "output_type": "display_data"
    }
   ],
   "source": [
    "plt.figure(figsize=(10,6))\n",
    "\n",
    "plt.subplot(2,2,1)\n",
    "plt.boxplot(data_new[\"EaseofUse\"])\n",
    "plt.title(\" Ease Of Use\")\n",
    "\n",
    "plt.subplot(2,2,2)\n",
    "plt.boxplot(data_new[\"Effectiveness\"])\n",
    "plt.title(\" Effectiveness\")\n",
    "\n",
    "plt.subplot(2,2,3)\n",
    "plt.boxplot(data_new[\"Satisfaction\"])\n",
    "plt.title(\" Satisfaction\")\n",
    "\n",
    "plt.subplot(2,2,4)\n",
    "plt.boxplot(data_new[\"UsefulCount\"])\n",
    "plt.title(\" Useful Count\")\n",
    "plt.show()"
   ]
  },
  {
   "cell_type": "markdown",
   "id": "efc549b6",
   "metadata": {},
   "source": [
    "## Removing outliers"
   ]
  },
  {
   "cell_type": "code",
   "execution_count": 169,
   "id": "95d698ad",
   "metadata": {},
   "outputs": [],
   "source": [
    "# define a function called 'outliers' which returns a list of outliers\n",
    "def outliers(df,ft):\n",
    "    Q1=df[ft].quantile(0.25)\n",
    "    Q3=df[ft].quantile(0.75)\n",
    "    IQR=Q3-Q1\n",
    "    lower=Q1-1.5*IQR\n",
    "    upper=Q3+1.5*IQR\n",
    "#create list to store indexes of outliers\n",
    "    ls= df.index[(df[ft]<lower) | (df[ft]>upper)]\n",
    "    return ls"
   ]
  },
  {
   "cell_type": "code",
   "execution_count": 170,
   "id": "5e05b73c",
   "metadata": {},
   "outputs": [
    {
     "data": {
      "text/plain": [
       "[191785,\n",
       " 191911,\n",
       " 191925,\n",
       " 191939,\n",
       " 192009,\n",
       " 192016,\n",
       " 192023,\n",
       " 192030,\n",
       " 192058,\n",
       " 192275,\n",
       " 192317,\n",
       " 192492,\n",
       " 192888,\n",
       " 193037,\n",
       " 193082,\n",
       " 193286,\n",
       " 193316,\n",
       " 193319,\n",
       " 193337,\n",
       " 193340,\n",
       " 193472,\n",
       " 193502,\n",
       " 193505,\n",
       " 193508,\n",
       " 193520,\n",
       " 193535,\n",
       " 193571,\n",
       " 194130,\n",
       " 194146,\n",
       " 194264,\n",
       " 194282,\n",
       " 194300,\n",
       " 194336,\n",
       " 194344,\n",
       " 194390,\n",
       " 194496,\n",
       " 194740,\n",
       " 194818,\n",
       " 194890,\n",
       " 194914,\n",
       " 194946,\n",
       " 195358,\n",
       " 195382,\n",
       " 195420,\n",
       " 195448,\n",
       " 195494,\n",
       " 195526,\n",
       " 195940,\n",
       " 195988,\n",
       " 196040,\n",
       " 196076,\n",
       " 196134,\n",
       " 196162,\n",
       " 196340,\n",
       " 196400,\n",
       " 196410,\n",
       " 196510,\n",
       " 196756,\n",
       " 196774,\n",
       " 197000,\n",
       " 197184,\n",
       " 197188,\n",
       " 197198,\n",
       " 191624,\n",
       " 191631,\n",
       " 191757,\n",
       " 191862,\n",
       " 191911,\n",
       " 191939,\n",
       " 192128,\n",
       " 192135,\n",
       " 192142,\n",
       " 192163,\n",
       " 192219,\n",
       " 192226,\n",
       " 192289,\n",
       " 192303,\n",
       " 192317,\n",
       " 192324,\n",
       " 192457,\n",
       " 192485,\n",
       " 192499,\n",
       " 192527,\n",
       " 192548,\n",
       " 192674,\n",
       " 192737,\n",
       " 192779,\n",
       " 192800,\n",
       " 192929,\n",
       " 192959,\n",
       " 192965,\n",
       " 193022,\n",
       " 193025,\n",
       " 193031,\n",
       " 193055,\n",
       " 193085,\n",
       " 193118,\n",
       " 193124,\n",
       " 193151,\n",
       " 193178,\n",
       " 193274,\n",
       " 193331,\n",
       " 193352,\n",
       " 193394,\n",
       " 193436,\n",
       " 193445,\n",
       " 193514,\n",
       " 193517,\n",
       " 193586,\n",
       " 193607,\n",
       " 193616,\n",
       " 193628,\n",
       " 193631,\n",
       " 193649,\n",
       " 193661,\n",
       " 193667,\n",
       " 193679,\n",
       " 193700,\n",
       " 193703,\n",
       " 193730,\n",
       " 193787,\n",
       " 193838,\n",
       " 193907,\n",
       " 193919,\n",
       " 193922,\n",
       " 193925,\n",
       " 194063,\n",
       " 194084,\n",
       " 194110,\n",
       " 194126,\n",
       " 194156,\n",
       " 194178,\n",
       " 194190,\n",
       " 194192,\n",
       " 194202,\n",
       " 194210,\n",
       " 194212,\n",
       " 194234,\n",
       " 194274,\n",
       " 194292,\n",
       " 194314,\n",
       " 194334,\n",
       " 194338,\n",
       " 194350,\n",
       " 194374,\n",
       " 194378,\n",
       " 194412,\n",
       " 194426,\n",
       " 194482,\n",
       " 194492,\n",
       " 194508,\n",
       " 194558,\n",
       " 194576,\n",
       " 194592,\n",
       " 194658,\n",
       " 194662,\n",
       " 194672,\n",
       " 194684,\n",
       " 194692,\n",
       " 194698,\n",
       " 194718,\n",
       " 194720,\n",
       " 194786,\n",
       " 194832,\n",
       " 194834,\n",
       " 194844,\n",
       " 194882,\n",
       " 194898,\n",
       " 194910,\n",
       " 194912,\n",
       " 194926,\n",
       " 194950,\n",
       " 194954,\n",
       " 194974,\n",
       " 195030,\n",
       " 195032,\n",
       " 195050,\n",
       " 195054,\n",
       " 195066,\n",
       " 195078,\n",
       " 195092,\n",
       " 195096,\n",
       " 195122,\n",
       " 195126,\n",
       " 195138,\n",
       " 195156,\n",
       " 195158,\n",
       " 195166,\n",
       " 195212,\n",
       " 195276,\n",
       " 195286,\n",
       " 195312,\n",
       " 195354,\n",
       " 195370,\n",
       " 195378,\n",
       " 195402,\n",
       " 195406,\n",
       " 195460,\n",
       " 195462,\n",
       " 195464,\n",
       " 195548,\n",
       " 195552,\n",
       " 195584,\n",
       " 195602,\n",
       " 195606,\n",
       " 195610,\n",
       " 195652,\n",
       " 195666,\n",
       " 195668,\n",
       " 195670,\n",
       " 195682,\n",
       " 195690,\n",
       " 195722,\n",
       " 195734,\n",
       " 195770,\n",
       " 195776,\n",
       " 195796,\n",
       " 195802,\n",
       " 195828,\n",
       " 195848,\n",
       " 195852,\n",
       " 195886,\n",
       " 195892,\n",
       " 195926,\n",
       " 195954,\n",
       " 195964,\n",
       " 195970,\n",
       " 195984,\n",
       " 195994,\n",
       " 196000,\n",
       " 196010,\n",
       " 196020,\n",
       " 196038,\n",
       " 196044,\n",
       " 196046,\n",
       " 196088,\n",
       " 196106,\n",
       " 196108,\n",
       " 196150,\n",
       " 196172,\n",
       " 196230,\n",
       " 196236,\n",
       " 196240,\n",
       " 196336,\n",
       " 196352,\n",
       " 196364,\n",
       " 196380,\n",
       " 196404,\n",
       " 196420,\n",
       " 196424,\n",
       " 196428,\n",
       " 196460,\n",
       " 196504,\n",
       " 196556,\n",
       " 196602,\n",
       " 196620,\n",
       " 196662,\n",
       " 196678,\n",
       " 196682,\n",
       " 196700,\n",
       " 196706,\n",
       " 196766,\n",
       " 196778,\n",
       " 196820,\n",
       " 196834,\n",
       " 196856,\n",
       " 196872,\n",
       " 196878,\n",
       " 196884,\n",
       " 196896,\n",
       " 196914,\n",
       " 196926,\n",
       " 196928,\n",
       " 196986,\n",
       " 197008,\n",
       " 197010,\n",
       " 197016,\n",
       " 197048,\n",
       " 197070,\n",
       " 197076,\n",
       " 197086,\n",
       " 197152,\n",
       " 197154,\n",
       " 197164,\n",
       " 197195]"
      ]
     },
     "execution_count": 170,
     "metadata": {},
     "output_type": "execute_result"
    }
   ],
   "source": [
    "#create an empty list to store indexes from multiple columns\n",
    "index_list=[]\n",
    "for feature in ['UsefulCount', 'EaseofUse']:\n",
    "    index_list.extend(outliers(data_new,feature))\n",
    "index_list"
   ]
  },
  {
   "cell_type": "code",
   "execution_count": 171,
   "id": "aee997d9",
   "metadata": {},
   "outputs": [],
   "source": [
    "#define a function called 'remove' which returns a cleaned data without outliers\n",
    "def remove(df,ls):\n",
    "    ls=sorted(set(ls)) #to sort and remove multiple copies(to get unique)\n",
    "    df=df.drop(ls)\n",
    "    return df"
   ]
  },
  {
   "cell_type": "code",
   "execution_count": 172,
   "id": "fd63703b",
   "metadata": {},
   "outputs": [
    {
     "data": {
      "text/plain": [
       "(1830, 14)"
      ]
     },
     "execution_count": 172,
     "metadata": {},
     "output_type": "execute_result"
    }
   ],
   "source": [
    "data_new.shape"
   ]
  },
  {
   "cell_type": "code",
   "execution_count": 174,
   "id": "7597ca9e",
   "metadata": {},
   "outputs": [],
   "source": [
    "data_new=remove(data_new,index_list)"
   ]
  },
  {
   "cell_type": "code",
   "execution_count": 175,
   "id": "a342bdf5",
   "metadata": {},
   "outputs": [
    {
     "data": {
      "text/plain": [
       "(1548, 14)"
      ]
     },
     "execution_count": 175,
     "metadata": {},
     "output_type": "execute_result"
    }
   ],
   "source": [
    "data_new.shape"
   ]
  },
  {
   "cell_type": "markdown",
   "id": "12e3d64e",
   "metadata": {},
   "source": [
    "## UsefulCount and EasofUse columns post outliers removal"
   ]
  },
  {
   "cell_type": "code",
   "execution_count": 177,
   "id": "6c49b8ae",
   "metadata": {},
   "outputs": [
    {
     "data": {
      "text/plain": [
       "Text(0.5, 1.0, 'Box plot of Useful Count')"
      ]
     },
     "execution_count": 177,
     "metadata": {},
     "output_type": "execute_result"
    },
    {
     "data": {
      "image/png": "[encoded data removed]",
      "text/plain": [
       "<Figure size 640x480 with 1 Axes>"
      ]
     },
     "metadata": {},
     "output_type": "display_data"
    }
   ],
   "source": [
    "plt.boxplot(data_new[\"UsefulCount\"])\n",
    "plt.title('Box plot of Useful Count')"
   ]
  },
  {
   "cell_type": "code",
   "execution_count": 178,
   "id": "551eef89",
   "metadata": {},
   "outputs": [
    {
     "data": {
      "text/plain": [
       "Text(0.5, 1.0, 'Box plot of Ease Of Use')"
      ]
     },
     "execution_count": 178,
     "metadata": {},
     "output_type": "execute_result"
    },
    {
     "data": {
      "image/png": "[encoded data removed]",
      "text/plain": [
       "<Figure size 640x480 with 1 Axes>"
      ]
     },
     "metadata": {},
     "output_type": "display_data"
    }
   ],
   "source": [
    "plt.boxplot(data_new[\"EaseofUse\"])\n",
    "plt.title('Box plot of Ease Of Use')"
   ]
  },
  {
   "cell_type": "markdown",
   "id": "b225670e",
   "metadata": {},
   "source": [
    "### Satisfaction column"
   ]
  },
  {
   "cell_type": "code",
   "execution_count": 180,
   "id": "a497827b",
   "metadata": {},
   "outputs": [
    {
     "data": {
      "text/plain": [
       "Satisfaction\n",
       "5.0    545\n",
       "4.0    334\n",
       "1.0    309\n",
       "3.0    229\n",
       "2.0    130\n",
       "6.0      1\n",
       "Name: count, dtype: int64"
      ]
     },
     "execution_count": 180,
     "metadata": {},
     "output_type": "execute_result"
    }
   ],
   "source": [
    "data_new['Satisfaction'].value_counts()"
   ]
  },
  {
   "cell_type": "code",
   "execution_count": 181,
   "id": "94f14fc7",
   "metadata": {},
   "outputs": [
    {
     "data": {
      "text/html": [
       "<div>\n",
       "<style scoped>\n",
       "    .dataframe tbody tr th:only-of-type {\n",
       "        vertical-align: middle;\n",
       "    }\n",
       "\n",
       "    .dataframe tbody tr th {\n",
       "        vertical-align: top;\n",
       "    }\n",
       "\n",
       "    .dataframe thead th {\n",
       "        text-align: right;\n",
       "    }\n",
       "</style>\n",
       "<table border=\"1\" class=\"dataframe\">\n",
       "  <thead>\n",
       "    <tr style=\"text-align: right;\">\n",
       "      <th></th>\n",
       "      <th>Name</th>\n",
       "      <th>Race</th>\n",
       "      <th>Age</th>\n",
       "      <th>Condition</th>\n",
       "      <th>Date</th>\n",
       "      <th>Drug</th>\n",
       "      <th>DrugId</th>\n",
       "      <th>EaseofUse</th>\n",
       "      <th>Effectiveness</th>\n",
       "      <th>Reviews</th>\n",
       "      <th>Satisfaction</th>\n",
       "      <th>Sex</th>\n",
       "      <th>Sides</th>\n",
       "      <th>UsefulCount</th>\n",
       "    </tr>\n",
       "  </thead>\n",
       "  <tbody>\n",
       "    <tr>\n",
       "      <th>195282</th>\n",
       "      <td>John Hart</td>\n",
       "      <td>White</td>\n",
       "      <td>35-44</td>\n",
       "      <td>migraine prevention</td>\n",
       "      <td>5/18/2009</td>\n",
       "      <td>topamax</td>\n",
       "      <td>14494.0</td>\n",
       "      <td>6.0</td>\n",
       "      <td>6.0</td>\n",
       "      <td>ahoj som zo slovenska dlhe roky mam migreny tu...</td>\n",
       "      <td>6.0</td>\n",
       "      <td>Female</td>\n",
       "      <td>tiredness drowsiness dizziness loss coordinati...</td>\n",
       "      <td>0.0</td>\n",
       "    </tr>\n",
       "  </tbody>\n",
       "</table>\n",
       "</div>"
      ],
      "text/plain": [
       "             Name   Race    Age            Condition       Date     Drug  \\\n",
       "195282  John Hart  White  35-44  migraine prevention  5/18/2009  topamax   \n",
       "\n",
       "         DrugId  EaseofUse  Effectiveness  \\\n",
       "195282  14494.0        6.0            6.0   \n",
       "\n",
       "                                                  Reviews  Satisfaction  \\\n",
       "195282  ahoj som zo slovenska dlhe roky mam migreny tu...           6.0   \n",
       "\n",
       "           Sex                                              Sides  UsefulCount  \n",
       "195282  Female  tiredness drowsiness dizziness loss coordinati...          0.0  "
      ]
     },
     "execution_count": 181,
     "metadata": {},
     "output_type": "execute_result"
    }
   ],
   "source": [
    "data_new[data_new['Satisfaction'] > 5]"
   ]
  },
  {
   "cell_type": "markdown",
   "id": "5542532d",
   "metadata": {},
   "source": [
    "### Deleting values greater than 5 from Satisfaction column"
   ]
  },
  {
   "cell_type": "code",
   "execution_count": 183,
   "id": "69a290c6",
   "metadata": {},
   "outputs": [
    {
     "data": {
      "text/html": [
       "<div>\n",
       "<style scoped>\n",
       "    .dataframe tbody tr th:only-of-type {\n",
       "        vertical-align: middle;\n",
       "    }\n",
       "\n",
       "    .dataframe tbody tr th {\n",
       "        vertical-align: top;\n",
       "    }\n",
       "\n",
       "    .dataframe thead th {\n",
       "        text-align: right;\n",
       "    }\n",
       "</style>\n",
       "<table border=\"1\" class=\"dataframe\">\n",
       "  <thead>\n",
       "    <tr style=\"text-align: right;\">\n",
       "      <th></th>\n",
       "      <th>Name</th>\n",
       "      <th>Race</th>\n",
       "      <th>Age</th>\n",
       "      <th>Condition</th>\n",
       "      <th>Date</th>\n",
       "      <th>Drug</th>\n",
       "      <th>DrugId</th>\n",
       "      <th>EaseofUse</th>\n",
       "      <th>Effectiveness</th>\n",
       "      <th>Reviews</th>\n",
       "      <th>Satisfaction</th>\n",
       "      <th>Sex</th>\n",
       "      <th>Sides</th>\n",
       "      <th>UsefulCount</th>\n",
       "    </tr>\n",
       "  </thead>\n",
       "  <tbody>\n",
       "  </tbody>\n",
       "</table>\n",
       "</div>"
      ],
      "text/plain": [
       "Empty DataFrame\n",
       "Columns: [Name, Race, Age, Condition, Date, Drug, DrugId, EaseofUse, Effectiveness, Reviews, Satisfaction, Sex, Sides, UsefulCount]\n",
       "Index: []"
      ]
     },
     "execution_count": 183,
     "metadata": {},
     "output_type": "execute_result"
    }
   ],
   "source": [
    "data_new.drop(labels = data_new[data_new['Satisfaction'] == 6].index, axis = 0, inplace = True)\n",
    "data_new[data_new['Satisfaction'] == 6]"
   ]
  },
  {
   "cell_type": "markdown",
   "id": "7644bfb6",
   "metadata": {},
   "source": [
    "## 7. Feature engineering"
   ]
  },
  {
   "cell_type": "markdown",
   "id": "6ee2c1e4",
   "metadata": {},
   "source": [
    "### Creation of a new SideEffects column"
   ]
  },
  {
   "cell_type": "code",
   "execution_count": 186,
   "id": "e562c6fe",
   "metadata": {},
   "outputs": [],
   "source": [
    "data1=np.where(data_new['Satisfaction'] == 1.0, \"Nil\", data_new['Satisfaction'])\n",
    "data1=np.where(data_new['Satisfaction'] == 2.0, \"Mild\",data1)\n",
    "data1=np.where(data_new['Satisfaction'] == 3.0, \"Moderate\", data1)\n",
    "data1=np.where(data_new['Satisfaction'] == 4.0, \"Severe\", data1)\n",
    "data1=np.where(data_new['Satisfaction'] == 5.0, \"Extreme\",data1)"
   ]
  },
  {
   "cell_type": "code",
   "execution_count": 187,
   "id": "454a92c6",
   "metadata": {},
   "outputs": [],
   "source": [
    "data_new['SideEffects']=data1"
   ]
  },
  {
   "cell_type": "markdown",
   "id": "9a71b9da",
   "metadata": {},
   "source": [
    "### Since DrugId is the same, dropping the column"
   ]
  },
  {
   "cell_type": "code",
   "execution_count": 189,
   "id": "91c85ead",
   "metadata": {},
   "outputs": [],
   "source": [
    "data_new.drop(['Satisfaction','DrugId'], inplace=True, axis=1)"
   ]
  },
  {
   "cell_type": "code",
   "execution_count": 190,
   "id": "b88c661c",
   "metadata": {},
   "outputs": [
    {
     "data": {
      "text/html": [
       "<div>\n",
       "<style scoped>\n",
       "    .dataframe tbody tr th:only-of-type {\n",
       "        vertical-align: middle;\n",
       "    }\n",
       "\n",
       "    .dataframe tbody tr th {\n",
       "        vertical-align: top;\n",
       "    }\n",
       "\n",
       "    .dataframe thead th {\n",
       "        text-align: right;\n",
       "    }\n",
       "</style>\n",
       "<table border=\"1\" class=\"dataframe\">\n",
       "  <thead>\n",
       "    <tr style=\"text-align: right;\">\n",
       "      <th></th>\n",
       "      <th>Name</th>\n",
       "      <th>Race</th>\n",
       "      <th>Age</th>\n",
       "      <th>Condition</th>\n",
       "      <th>Date</th>\n",
       "      <th>Drug</th>\n",
       "      <th>EaseofUse</th>\n",
       "      <th>Effectiveness</th>\n",
       "      <th>Reviews</th>\n",
       "      <th>Sex</th>\n",
       "      <th>Sides</th>\n",
       "      <th>UsefulCount</th>\n",
       "      <th>SideEffects</th>\n",
       "    </tr>\n",
       "  </thead>\n",
       "  <tbody>\n",
       "    <tr>\n",
       "      <th>191610</th>\n",
       "      <td>Clarence Ortega</td>\n",
       "      <td>Hispanic</td>\n",
       "      <td>7-12</td>\n",
       "      <td>simple partial seizures</td>\n",
       "      <td>2/26/2019</td>\n",
       "      <td>topamax</td>\n",
       "      <td>4.0</td>\n",
       "      <td>5.0</td>\n",
       "      <td>I'm 30 years old, I 12 I put medication. When ...</td>\n",
       "      <td>Male</td>\n",
       "      <td>tiredness drowsiness dizziness loss coordinati...</td>\n",
       "      <td>0.0</td>\n",
       "      <td>Extreme</td>\n",
       "    </tr>\n",
       "    <tr>\n",
       "      <th>191638</th>\n",
       "      <td>Cynthia Freeman</td>\n",
       "      <td>White</td>\n",
       "      <td>65-74</td>\n",
       "      <td>migraine prevention</td>\n",
       "      <td>6/22/2014</td>\n",
       "      <td>topamax</td>\n",
       "      <td>5.0</td>\n",
       "      <td>5.0</td>\n",
       "      <td>I taking Topamax exactly four years migraine p...</td>\n",
       "      <td>Female</td>\n",
       "      <td>tiredness drowsiness dizziness loss coordinati...</td>\n",
       "      <td>9.0</td>\n",
       "      <td>Extreme</td>\n",
       "    </tr>\n",
       "    <tr>\n",
       "      <th>191645</th>\n",
       "      <td>Duane Diaz</td>\n",
       "      <td>Black</td>\n",
       "      <td>55-64</td>\n",
       "      <td>other</td>\n",
       "      <td>12/27/2018</td>\n",
       "      <td>topamax</td>\n",
       "      <td>5.0</td>\n",
       "      <td>5.0</td>\n",
       "      <td>I suffer spinal degeneration I supposed daily ...</td>\n",
       "      <td>Female</td>\n",
       "      <td>tiredness drowsiness dizziness loss coordinati...</td>\n",
       "      <td>0.0</td>\n",
       "      <td>Extreme</td>\n",
       "    </tr>\n",
       "    <tr>\n",
       "      <th>191652</th>\n",
       "      <td>Matthew Morgan</td>\n",
       "      <td>Hispanic</td>\n",
       "      <td>45-54</td>\n",
       "      <td>migraine prevention</td>\n",
       "      <td>12/17/2018</td>\n",
       "      <td>topamax</td>\n",
       "      <td>5.0</td>\n",
       "      <td>3.0</td>\n",
       "      <td>I taking 50 mg 2x day since 11/30/18. The firs...</td>\n",
       "      <td>Female</td>\n",
       "      <td>tiredness drowsiness dizziness loss coordinati...</td>\n",
       "      <td>7.0</td>\n",
       "      <td>Mild</td>\n",
       "    </tr>\n",
       "    <tr>\n",
       "      <th>191659</th>\n",
       "      <td>Margaret Higgins</td>\n",
       "      <td>White</td>\n",
       "      <td>25-34</td>\n",
       "      <td>tonic clonic epilepsy</td>\n",
       "      <td>10/18/2018</td>\n",
       "      <td>topamax</td>\n",
       "      <td>5.0</td>\n",
       "      <td>5.0</td>\n",
       "      <td>The important thin I want say Topamax medicine...</td>\n",
       "      <td>Male</td>\n",
       "      <td>tiredness drowsiness dizziness loss coordinati...</td>\n",
       "      <td>1.0</td>\n",
       "      <td>Extreme</td>\n",
       "    </tr>\n",
       "  </tbody>\n",
       "</table>\n",
       "</div>"
      ],
      "text/plain": [
       "                    Name      Race    Age                Condition  \\\n",
       "191610   Clarence Ortega  Hispanic   7-12  simple partial seizures   \n",
       "191638   Cynthia Freeman     White  65-74      migraine prevention   \n",
       "191645        Duane Diaz     Black  55-64                    other   \n",
       "191652    Matthew Morgan  Hispanic  45-54      migraine prevention   \n",
       "191659  Margaret Higgins     White  25-34    tonic clonic epilepsy   \n",
       "\n",
       "              Date     Drug  EaseofUse  Effectiveness  \\\n",
       "191610   2/26/2019  topamax        4.0            5.0   \n",
       "191638   6/22/2014  topamax        5.0            5.0   \n",
       "191645  12/27/2018  topamax        5.0            5.0   \n",
       "191652  12/17/2018  topamax        5.0            3.0   \n",
       "191659  10/18/2018  topamax        5.0            5.0   \n",
       "\n",
       "                                                  Reviews     Sex  \\\n",
       "191610  I'm 30 years old, I 12 I put medication. When ...    Male   \n",
       "191638  I taking Topamax exactly four years migraine p...  Female   \n",
       "191645  I suffer spinal degeneration I supposed daily ...  Female   \n",
       "191652  I taking 50 mg 2x day since 11/30/18. The firs...  Female   \n",
       "191659  The important thin I want say Topamax medicine...    Male   \n",
       "\n",
       "                                                    Sides  UsefulCount  \\\n",
       "191610  tiredness drowsiness dizziness loss coordinati...          0.0   \n",
       "191638  tiredness drowsiness dizziness loss coordinati...          9.0   \n",
       "191645  tiredness drowsiness dizziness loss coordinati...          0.0   \n",
       "191652  tiredness drowsiness dizziness loss coordinati...          7.0   \n",
       "191659  tiredness drowsiness dizziness loss coordinati...          1.0   \n",
       "\n",
       "       SideEffects  \n",
       "191610     Extreme  \n",
       "191638     Extreme  \n",
       "191645     Extreme  \n",
       "191652        Mild  \n",
       "191659     Extreme  "
      ]
     },
     "execution_count": 190,
     "metadata": {},
     "output_type": "execute_result"
    }
   ],
   "source": [
    "data_new.head()"
   ]
  },
  {
   "cell_type": "code",
   "execution_count": 191,
   "id": "df8deda9",
   "metadata": {},
   "outputs": [],
   "source": [
    "#data_new.to_csv('drug_topamax_eda.csv', index=False)"
   ]
  },
  {
   "cell_type": "code",
   "execution_count": 192,
   "id": "2ba2d512",
   "metadata": {},
   "outputs": [],
   "source": [
    "data_copy = data_new.copy()"
   ]
  },
  {
   "cell_type": "markdown",
   "id": "864127bf",
   "metadata": {},
   "source": [
    "## 8. Feature reduction"
   ]
  },
  {
   "cell_type": "markdown",
   "id": "2a543e18",
   "metadata": {},
   "source": [
    "### Correlation analysis"
   ]
  },
  {
   "cell_type": "markdown",
   "id": "41c5bcae",
   "metadata": {},
   "source": [
    "#### Correlation matrix is plotted to check the relationship between variables"
   ]
  },
  {
   "cell_type": "code",
   "execution_count": 198,
   "id": "3aa6eff4",
   "metadata": {},
   "outputs": [
    {
     "data": {
      "text/plain": [
       "<Axes: >"
      ]
     },
     "execution_count": 198,
     "metadata": {},
     "output_type": "execute_result"
    },
    {
     "data": {
      "image/png": "[encoded data removed]",
      "text/plain": [
       "<Figure size 1000x800 with 2 Axes>"
      ]
     },
     "metadata": {},
     "output_type": "display_data"
    }
   ],
   "source": [
    "corrmatrix = data_new.select_dtypes(include=['number']).corr()\n",
    "plt.figure(figsize=(10,8))\n",
    "sns.heatmap(corrmatrix,vmin=-0.4 , vmax=0.9, annot=True, cmap='YlGnBu' , linewidth=0.2)"
   ]
  },
  {
   "cell_type": "markdown",
   "id": "b5efaf55",
   "metadata": {},
   "source": [
    "## Here, being common, dropped the Drug, Sides columns. The other columns such as Date, Name, Reviews and UsefulCount are also dropped since these doesn't deal with side effects of the drug."
   ]
  },
  {
   "cell_type": "code",
   "execution_count": 200,
   "id": "b42c8921",
   "metadata": {},
   "outputs": [
    {
     "data": {
      "text/html": [
       "<div>\n",
       "<style scoped>\n",
       "    .dataframe tbody tr th:only-of-type {\n",
       "        vertical-align: middle;\n",
       "    }\n",
       "\n",
       "    .dataframe tbody tr th {\n",
       "        vertical-align: top;\n",
       "    }\n",
       "\n",
       "    .dataframe thead th {\n",
       "        text-align: right;\n",
       "    }\n",
       "</style>\n",
       "<table border=\"1\" class=\"dataframe\">\n",
       "  <thead>\n",
       "    <tr style=\"text-align: right;\">\n",
       "      <th></th>\n",
       "      <th>Race</th>\n",
       "      <th>Age</th>\n",
       "      <th>Condition</th>\n",
       "      <th>EaseofUse</th>\n",
       "      <th>Effectiveness</th>\n",
       "      <th>Sex</th>\n",
       "      <th>SideEffects</th>\n",
       "    </tr>\n",
       "  </thead>\n",
       "  <tbody>\n",
       "    <tr>\n",
       "      <th>0</th>\n",
       "      <td>Hispanic</td>\n",
       "      <td>7-12</td>\n",
       "      <td>simple partial seizures</td>\n",
       "      <td>4.0</td>\n",
       "      <td>5.0</td>\n",
       "      <td>Male</td>\n",
       "      <td>Extreme</td>\n",
       "    </tr>\n",
       "    <tr>\n",
       "      <th>1</th>\n",
       "      <td>White</td>\n",
       "      <td>65-74</td>\n",
       "      <td>migraine prevention</td>\n",
       "      <td>5.0</td>\n",
       "      <td>5.0</td>\n",
       "      <td>Female</td>\n",
       "      <td>Extreme</td>\n",
       "    </tr>\n",
       "    <tr>\n",
       "      <th>2</th>\n",
       "      <td>Black</td>\n",
       "      <td>55-64</td>\n",
       "      <td>other</td>\n",
       "      <td>5.0</td>\n",
       "      <td>5.0</td>\n",
       "      <td>Female</td>\n",
       "      <td>Extreme</td>\n",
       "    </tr>\n",
       "    <tr>\n",
       "      <th>3</th>\n",
       "      <td>Hispanic</td>\n",
       "      <td>45-54</td>\n",
       "      <td>migraine prevention</td>\n",
       "      <td>5.0</td>\n",
       "      <td>3.0</td>\n",
       "      <td>Female</td>\n",
       "      <td>Mild</td>\n",
       "    </tr>\n",
       "    <tr>\n",
       "      <th>4</th>\n",
       "      <td>White</td>\n",
       "      <td>25-34</td>\n",
       "      <td>tonic clonic epilepsy</td>\n",
       "      <td>5.0</td>\n",
       "      <td>5.0</td>\n",
       "      <td>Male</td>\n",
       "      <td>Extreme</td>\n",
       "    </tr>\n",
       "  </tbody>\n",
       "</table>\n",
       "</div>"
      ],
      "text/plain": [
       "       Race    Age                Condition  EaseofUse  Effectiveness     Sex  \\\n",
       "0  Hispanic   7-12  simple partial seizures        4.0            5.0    Male   \n",
       "1     White  65-74      migraine prevention        5.0            5.0  Female   \n",
       "2     Black  55-64                    other        5.0            5.0  Female   \n",
       "3  Hispanic  45-54      migraine prevention        5.0            3.0  Female   \n",
       "4     White  25-34    tonic clonic epilepsy        5.0            5.0    Male   \n",
       "\n",
       "  SideEffects  \n",
       "0     Extreme  \n",
       "1     Extreme  \n",
       "2     Extreme  \n",
       "3        Mild  \n",
       "4     Extreme  "
      ]
     },
     "execution_count": 200,
     "metadata": {},
     "output_type": "execute_result"
    }
   ],
   "source": [
    "data_new=data_new.drop(columns = ['Name','Drug','Date','Sides','Reviews','UsefulCount'],axis=1)\n",
    "data_new=data_new.reset_index(drop=True)\n",
    "data_new.head()"
   ]
  },
  {
   "cell_type": "code",
   "execution_count": 201,
   "id": "30cf8b62",
   "metadata": {},
   "outputs": [
    {
     "data": {
      "text/plain": [
       "(1547, 7)"
      ]
     },
     "execution_count": 201,
     "metadata": {},
     "output_type": "execute_result"
    }
   ],
   "source": [
    "data_new.shape"
   ]
  },
  {
   "cell_type": "markdown",
   "id": "74624e8c",
   "metadata": {},
   "source": [
    "## 9. Encoding"
   ]
  },
  {
   "cell_type": "code",
   "execution_count": 204,
   "id": "2676e98d",
   "metadata": {},
   "outputs": [
    {
     "name": "stdout",
     "output_type": "stream",
     "text": [
      "<class 'pandas.core.frame.DataFrame'>\n",
      "RangeIndex: 1547 entries, 0 to 1546\n",
      "Data columns (total 7 columns):\n",
      " #   Column         Non-Null Count  Dtype   \n",
      "---  ------         --------------  -----   \n",
      " 0   Race           1547 non-null   category\n",
      " 1   Age            1547 non-null   category\n",
      " 2   Condition      1547 non-null   category\n",
      " 3   EaseofUse      1547 non-null   float64 \n",
      " 4   Effectiveness  1547 non-null   float64 \n",
      " 5   Sex            1547 non-null   category\n",
      " 6   SideEffects    1547 non-null   category\n",
      "dtypes: category(5), float64(2)\n",
      "memory usage: 33.1 KB\n"
     ]
    }
   ],
   "source": [
    "#Finding categorical columns and chnaging datatype\n",
    "for cl in data_new.select_dtypes(include = ['object']):\n",
    "    data_new[cl]=data_new[cl].astype('category')\n",
    "data_new.info()"
   ]
  },
  {
   "cell_type": "code",
   "execution_count": 205,
   "id": "d013ea32",
   "metadata": {},
   "outputs": [],
   "source": [
    "from sklearn.preprocessing import LabelEncoder\n",
    "label=LabelEncoder()"
   ]
  },
  {
   "cell_type": "code",
   "execution_count": 206,
   "id": "17e73f5c",
   "metadata": {},
   "outputs": [
    {
     "name": "stdout",
     "output_type": "stream",
     "text": [
      "<class 'pandas.core.frame.DataFrame'>\n",
      "RangeIndex: 1547 entries, 0 to 1546\n",
      "Data columns (total 7 columns):\n",
      " #   Column         Non-Null Count  Dtype   \n",
      "---  ------         --------------  -----   \n",
      " 0   Race           1547 non-null   category\n",
      " 1   Age            1547 non-null   category\n",
      " 2   Condition      1547 non-null   category\n",
      " 3   EaseofUse      1547 non-null   float64 \n",
      " 4   Effectiveness  1547 non-null   float64 \n",
      " 5   Sex            1547 non-null   category\n",
      " 6   SideEffects    1547 non-null   category\n",
      "dtypes: category(5), float64(2)\n",
      "memory usage: 33.1 KB\n"
     ]
    }
   ],
   "source": [
    "data_new.info()"
   ]
  },
  {
   "cell_type": "code",
   "execution_count": 207,
   "id": "521f091d",
   "metadata": {},
   "outputs": [
    {
     "data": {
      "text/plain": [
       "Index(['Race', 'Age', 'Condition', 'EaseofUse', 'Effectiveness', 'Sex',\n",
       "       'SideEffects'],\n",
       "      dtype='object')"
      ]
     },
     "execution_count": 207,
     "metadata": {},
     "output_type": "execute_result"
    }
   ],
   "source": [
    "data_new.columns"
   ]
  },
  {
   "cell_type": "code",
   "execution_count": 209,
   "id": "313ac0d7",
   "metadata": {},
   "outputs": [
    {
     "data": {
      "text/html": [
       "<div>\n",
       "<style scoped>\n",
       "    .dataframe tbody tr th:only-of-type {\n",
       "        vertical-align: middle;\n",
       "    }\n",
       "\n",
       "    .dataframe tbody tr th {\n",
       "        vertical-align: top;\n",
       "    }\n",
       "\n",
       "    .dataframe thead th {\n",
       "        text-align: right;\n",
       "    }\n",
       "</style>\n",
       "<table border=\"1\" class=\"dataframe\">\n",
       "  <thead>\n",
       "    <tr style=\"text-align: right;\">\n",
       "      <th></th>\n",
       "      <th>Race</th>\n",
       "      <th>Age</th>\n",
       "      <th>Condition</th>\n",
       "      <th>EaseofUse</th>\n",
       "      <th>Effectiveness</th>\n",
       "      <th>Sex</th>\n",
       "      <th>SideEffects</th>\n",
       "    </tr>\n",
       "  </thead>\n",
       "  <tbody>\n",
       "    <tr>\n",
       "      <th>0</th>\n",
       "      <td>Hispanic</td>\n",
       "      <td>7-12</td>\n",
       "      <td>simple partial seizures</td>\n",
       "      <td>4.0</td>\n",
       "      <td>5.0</td>\n",
       "      <td>Male</td>\n",
       "      <td>Extreme</td>\n",
       "    </tr>\n",
       "    <tr>\n",
       "      <th>1</th>\n",
       "      <td>White</td>\n",
       "      <td>65-74</td>\n",
       "      <td>migraine prevention</td>\n",
       "      <td>5.0</td>\n",
       "      <td>5.0</td>\n",
       "      <td>Female</td>\n",
       "      <td>Extreme</td>\n",
       "    </tr>\n",
       "    <tr>\n",
       "      <th>2</th>\n",
       "      <td>Black</td>\n",
       "      <td>55-64</td>\n",
       "      <td>other</td>\n",
       "      <td>5.0</td>\n",
       "      <td>5.0</td>\n",
       "      <td>Female</td>\n",
       "      <td>Extreme</td>\n",
       "    </tr>\n",
       "    <tr>\n",
       "      <th>3</th>\n",
       "      <td>Hispanic</td>\n",
       "      <td>45-54</td>\n",
       "      <td>migraine prevention</td>\n",
       "      <td>5.0</td>\n",
       "      <td>3.0</td>\n",
       "      <td>Female</td>\n",
       "      <td>Mild</td>\n",
       "    </tr>\n",
       "    <tr>\n",
       "      <th>4</th>\n",
       "      <td>White</td>\n",
       "      <td>25-34</td>\n",
       "      <td>tonic clonic epilepsy</td>\n",
       "      <td>5.0</td>\n",
       "      <td>5.0</td>\n",
       "      <td>Male</td>\n",
       "      <td>Extreme</td>\n",
       "    </tr>\n",
       "  </tbody>\n",
       "</table>\n",
       "</div>"
      ],
      "text/plain": [
       "       Race    Age                Condition  EaseofUse  Effectiveness     Sex  \\\n",
       "0  Hispanic   7-12  simple partial seizures        4.0            5.0    Male   \n",
       "1     White  65-74      migraine prevention        5.0            5.0  Female   \n",
       "2     Black  55-64                    other        5.0            5.0  Female   \n",
       "3  Hispanic  45-54      migraine prevention        5.0            3.0  Female   \n",
       "4     White  25-34    tonic clonic epilepsy        5.0            5.0    Male   \n",
       "\n",
       "  SideEffects  \n",
       "0     Extreme  \n",
       "1     Extreme  \n",
       "2     Extreme  \n",
       "3        Mild  \n",
       "4     Extreme  "
      ]
     },
     "execution_count": 209,
     "metadata": {},
     "output_type": "execute_result"
    }
   ],
   "source": [
    "data_new.head()"
   ]
  },
  {
   "cell_type": "code",
   "execution_count": 212,
   "id": "b8cf88ee",
   "metadata": {},
   "outputs": [],
   "source": [
    "from sklearn.preprocessing import LabelEncoder\n",
    "label=LabelEncoder()\n",
    "#for col in ['SideEffects', 'Drug','Age','Sex']:\n",
    "for col in ['Race','Age','Sex','Condition','SideEffects']:   \n",
    "    data_new[col]=label.fit_transform((data_new[col]).astype(str))\n",
    "    \n",
    "data_label=data_new"
   ]
  },
  {
   "cell_type": "code",
   "execution_count": 213,
   "id": "602c240e",
   "metadata": {},
   "outputs": [
    {
     "data": {
      "text/html": [
       "<div>\n",
       "<style scoped>\n",
       "    .dataframe tbody tr th:only-of-type {\n",
       "        vertical-align: middle;\n",
       "    }\n",
       "\n",
       "    .dataframe tbody tr th {\n",
       "        vertical-align: top;\n",
       "    }\n",
       "\n",
       "    .dataframe thead th {\n",
       "        text-align: right;\n",
       "    }\n",
       "</style>\n",
       "<table border=\"1\" class=\"dataframe\">\n",
       "  <thead>\n",
       "    <tr style=\"text-align: right;\">\n",
       "      <th></th>\n",
       "      <th>Race</th>\n",
       "      <th>Age</th>\n",
       "      <th>Condition</th>\n",
       "      <th>EaseofUse</th>\n",
       "      <th>Effectiveness</th>\n",
       "      <th>Sex</th>\n",
       "      <th>SideEffects</th>\n",
       "    </tr>\n",
       "  </thead>\n",
       "  <tbody>\n",
       "    <tr>\n",
       "      <th>0</th>\n",
       "      <td>2</td>\n",
       "      <td>9</td>\n",
       "      <td>10</td>\n",
       "      <td>4.0</td>\n",
       "      <td>5.0</td>\n",
       "      <td>1</td>\n",
       "      <td>0</td>\n",
       "    </tr>\n",
       "    <tr>\n",
       "      <th>1</th>\n",
       "      <td>3</td>\n",
       "      <td>8</td>\n",
       "      <td>8</td>\n",
       "      <td>5.0</td>\n",
       "      <td>5.0</td>\n",
       "      <td>0</td>\n",
       "      <td>0</td>\n",
       "    </tr>\n",
       "    <tr>\n",
       "      <th>2</th>\n",
       "      <td>1</td>\n",
       "      <td>7</td>\n",
       "      <td>9</td>\n",
       "      <td>5.0</td>\n",
       "      <td>5.0</td>\n",
       "      <td>0</td>\n",
       "      <td>0</td>\n",
       "    </tr>\n",
       "    <tr>\n",
       "      <th>3</th>\n",
       "      <td>2</td>\n",
       "      <td>6</td>\n",
       "      <td>8</td>\n",
       "      <td>5.0</td>\n",
       "      <td>3.0</td>\n",
       "      <td>0</td>\n",
       "      <td>1</td>\n",
       "    </tr>\n",
       "    <tr>\n",
       "      <th>4</th>\n",
       "      <td>3</td>\n",
       "      <td>3</td>\n",
       "      <td>11</td>\n",
       "      <td>5.0</td>\n",
       "      <td>5.0</td>\n",
       "      <td>1</td>\n",
       "      <td>0</td>\n",
       "    </tr>\n",
       "  </tbody>\n",
       "</table>\n",
       "</div>"
      ],
      "text/plain": [
       "   Race  Age  Condition  EaseofUse  Effectiveness  Sex  SideEffects\n",
       "0     2    9         10        4.0            5.0    1            0\n",
       "1     3    8          8        5.0            5.0    0            0\n",
       "2     1    7          9        5.0            5.0    0            0\n",
       "3     2    6          8        5.0            3.0    0            1\n",
       "4     3    3         11        5.0            5.0    1            0"
      ]
     },
     "execution_count": 213,
     "metadata": {},
     "output_type": "execute_result"
    }
   ],
   "source": [
    "data_new.head()"
   ]
  },
  {
   "cell_type": "code",
   "execution_count": 215,
   "id": "5a5af79f",
   "metadata": {},
   "outputs": [
    {
     "data": {
      "text/plain": [
       "(1547, 7)"
      ]
     },
     "execution_count": 215,
     "metadata": {},
     "output_type": "execute_result"
    }
   ],
   "source": [
    "data_new.shape"
   ]
  },
  {
   "cell_type": "markdown",
   "id": "dd98fefc",
   "metadata": {},
   "source": [
    "## 10. Scaling"
   ]
  },
  {
   "cell_type": "code",
   "execution_count": 217,
   "id": "950c25bb",
   "metadata": {},
   "outputs": [],
   "source": [
    "from sklearn.preprocessing import StandardScaler\n",
    "ss=StandardScaler()\n",
    "scale=['Effectiveness','EaseofUse']\n",
    "data_new[scale] = ss.fit_transform(data_new[scale])"
   ]
  },
  {
   "cell_type": "code",
   "execution_count": 222,
   "id": "72d46d6e",
   "metadata": {},
   "outputs": [
    {
     "data": {
      "text/plain": [
       "(1547, 7)"
      ]
     },
     "execution_count": 222,
     "metadata": {},
     "output_type": "execute_result"
    }
   ],
   "source": [
    "data_new.shape"
   ]
  },
  {
   "cell_type": "code",
   "execution_count": 223,
   "id": "c584c1cd",
   "metadata": {},
   "outputs": [],
   "source": [
    "#data_new.to_csv('drug_topamax_modelling.csv', index=False)"
   ]
  },
  {
   "cell_type": "code",
   "execution_count": 224,
   "id": "63464a0f",
   "metadata": {},
   "outputs": [],
   "source": [
    "data_model = data_new.copy()"
   ]
  },
  {
   "cell_type": "markdown",
   "id": "823dec30",
   "metadata": {},
   "source": [
    "# Exploratory Data Analysis"
   ]
  },
  {
   "cell_type": "markdown",
   "id": "05c8624a",
   "metadata": {},
   "source": [
    "## 1. Top 20 Drugs"
   ]
  },
  {
   "cell_type": "code",
   "execution_count": 227,
   "id": "055696d5",
   "metadata": {},
   "outputs": [
    {
     "data": {
      "image/png": "[encoded data removed]",
      "text/plain": [
       "<Figure size 640x480 with 1 Axes>"
      ]
     },
     "metadata": {},
     "output_type": "display_data"
    }
   ],
   "source": [
    "data1= data['Drug'].value_counts().head(20).reset_index()\n",
    "data1.columns = ['Drug', 'Users']\n",
    "sns.barplot(data=data1, x = 'Drug', y = 'Users')\n",
    "plt.suptitle(\"Top 20 Drugs\")\n",
    "plt.xticks(rotation=90,fontsize=10)\n",
    "plt.show()"
   ]
  },
  {
   "cell_type": "markdown",
   "id": "bd45529d",
   "metadata": {},
   "source": [
    "### Of over 7000 drugs, twenty features here each with minimum users above 2250. Of all, Cymbalta leads the pack with the maximum number of users. "
   ]
  },
  {
   "cell_type": "markdown",
   "id": "f1672dd7",
   "metadata": {},
   "source": [
    "## 2. Top 20 Conditions"
   ]
  },
  {
   "cell_type": "code",
   "execution_count": 235,
   "id": "f393ee0c",
   "metadata": {},
   "outputs": [
    {
     "data": {
      "text/plain": [
       "Text(0, 0.5, 'Users')"
      ]
     },
     "execution_count": 235,
     "metadata": {},
     "output_type": "execute_result"
    },
    {
     "data": {
      "image/png": "[encoded data removed]",
      "text/plain": [
       "<Figure size 800x800 with 1 Axes>"
      ]
     },
     "metadata": {},
     "output_type": "display_data"
    }
   ],
   "source": [
    "data['Condition'].value_counts().nlargest(20).plot(kind='bar',figsize=(8,8))\n",
    "plt.suptitle(\"Top 20 Conditions\")\n",
    "plt.xlabel('Conditions')\n",
    "plt.ylabel('Users')"
   ]
  },
  {
   "cell_type": "markdown",
   "id": "5464ca73",
   "metadata": {},
   "source": [
    "### Of 1806 Conditions, Other Conditions tops the chart followed respectively by Pain and High Blood Pressure.\n",
    "\n"
   ]
  },
  {
   "cell_type": "markdown",
   "id": "eabf4614",
   "metadata": {},
   "source": [
    "### The above being interpretation of the generic data, in line with the objective of project, will move ahead selecting a particular drug Topamax, one featuring in the top 20.\n"
   ]
  },
  {
   "cell_type": "markdown",
   "id": "5c67af5e",
   "metadata": {},
   "source": [
    "## 3. Conditions - Topamax"
   ]
  },
  {
   "cell_type": "code",
   "execution_count": 242,
   "id": "63dfc805",
   "metadata": {},
   "outputs": [
    {
     "data": {
      "text/plain": [
       "Text(0, 0.5, 'Count')"
      ]
     },
     "execution_count": 242,
     "metadata": {},
     "output_type": "execute_result"
    },
    {
     "data": {
      "image/png": "[encoded data removed]",
      "text/plain": [
       "<Figure size 800x800 with 1 Axes>"
      ]
     },
     "metadata": {},
     "output_type": "display_data"
    }
   ],
   "source": [
    "drug_topamax['Condition'].value_counts().nlargest(12).plot(kind='bar',figsize=(8,8))\n",
    "plt.suptitle(\"Topamax Conditions\")\n",
    "plt.xlabel('Condition')\n",
    "plt.ylabel('Count')\n"
   ]
  },
  {
   "cell_type": "markdown",
   "id": "b71baf30",
   "metadata": {},
   "source": [
    "### Topamax is used in the treatment of 12 conditions. Maximum users consume the drug for migraine prevention."
   ]
  },
  {
   "cell_type": "markdown",
   "id": "7be02144",
   "metadata": {},
   "source": [
    "## 4. Users by Gender - Topamax"
   ]
  },
  {
   "cell_type": "code",
   "execution_count": 249,
   "id": "9c8bc229",
   "metadata": {},
   "outputs": [
    {
     "data": {
      "image/png": "[encoded data removed]",
      "text/plain": [
       "<Figure size 400x400 with 1 Axes>"
      ]
     },
     "metadata": {},
     "output_type": "display_data"
    }
   ],
   "source": [
    "plt.figure(figsize = (4,4))\n",
    "s=sns.countplot(x='Sex', data=data_copy)\n",
    "plt.title('Users by Gender', fontsize=15)\n",
    "plt.xlabel('Sex')\n",
    "plt.ylabel('Count') \n",
    "plt.show()"
   ]
  },
  {
   "cell_type": "markdown",
   "id": "d05e8a45",
   "metadata": {},
   "source": [
    "### Female count stands more than male count."
   ]
  },
  {
   "cell_type": "markdown",
   "id": "a8ff5a68",
   "metadata": {},
   "source": [
    "## 5. Users by Race - Topamax"
   ]
  },
  {
   "cell_type": "code",
   "execution_count": 258,
   "id": "13568787",
   "metadata": {},
   "outputs": [
    {
     "data": {
      "text/plain": [
       "Text(0, 0.5, 'Count')"
      ]
     },
     "execution_count": 258,
     "metadata": {},
     "output_type": "execute_result"
    },
    {
     "data": {
      "image/png": "[encoded data removed]",
      "text/plain": [
       "<Figure size 640x480 with 1 Axes>"
      ]
     },
     "metadata": {},
     "output_type": "display_data"
    }
   ],
   "source": [
    "data_copy['Race'].value_counts().plot(kind='bar')\n",
    "plt.title(\"Race\", fontsize = 10)\n",
    "plt.xlabel(\"Race\", fontsize = 10)\n",
    "plt.ylabel(\"Count\", fontsize = 10)"
   ]
  },
  {
   "cell_type": "markdown",
   "id": "0b291c52",
   "metadata": {},
   "source": [
    "### By race, Whites topped in the usage of drugs."
   ]
  },
  {
   "cell_type": "markdown",
   "id": "d66fb8da",
   "metadata": {},
   "source": [
    "## 6. Users by Race and Gender"
   ]
  },
  {
   "cell_type": "code",
   "execution_count": 261,
   "id": "e9eafbcc",
   "metadata": {},
   "outputs": [
    {
     "data": {
      "text/plain": [
       "Text(0.5, 1.0, 'Users by Race and Gender')"
      ]
     },
     "execution_count": 261,
     "metadata": {},
     "output_type": "execute_result"
    },
    {
     "data": {
      "image/png": "[encoded data removed]",
      "text/plain": [
       "<Figure size 640x480 with 1 Axes>"
      ]
     },
     "metadata": {},
     "output_type": "display_data"
    }
   ],
   "source": [
    "sns.countplot(x='Race',hue='Sex',data=data_copy)\n",
    "plt.title(\"Users by Race and Gender\", fontsize = 10)"
   ]
  },
  {
   "cell_type": "markdown",
   "id": "3575cdb5",
   "metadata": {},
   "source": [
    "### Female users dominated across race, each substantially."
   ]
  },
  {
   "cell_type": "markdown",
   "id": "de204be2",
   "metadata": {},
   "source": [
    "## 7. Users by Age and Gender"
   ]
  },
  {
   "cell_type": "code",
   "execution_count": 265,
   "id": "520ce7fc",
   "metadata": {},
   "outputs": [
    {
     "data": {
      "text/plain": [
       "Text(0.5, 1.0, 'Users by Age and Gender')"
      ]
     },
     "execution_count": 265,
     "metadata": {},
     "output_type": "execute_result"
    },
    {
     "data": {
      "image/png": "[encoded data removed]",
      "text/plain": [
       "<Figure size 1000x600 with 1 Axes>"
      ]
     },
     "metadata": {},
     "output_type": "display_data"
    }
   ],
   "source": [
    "plt.figure(figsize=(10, 6))\n",
    "sns.countplot(x='Age',hue='Sex',data=data_copy)\n",
    "plt.title(\"Users by Age and Gender\", fontsize = 10)"
   ]
  },
  {
   "cell_type": "markdown",
   "id": "815d4497",
   "metadata": {},
   "source": [
    "### Domination of female users consistent across age groups above 12 and below 75 years. Plus, people in the age groups 35 to 44, 45 to 54 and 25 to 34 accounted for maximum usage of Topamax."
   ]
  },
  {
   "cell_type": "markdown",
   "id": "341ecdd1",
   "metadata": {},
   "source": [
    "## 8. Correlation Heatmap"
   ]
  },
  {
   "cell_type": "code",
   "execution_count": 273,
   "id": "22b53c7e",
   "metadata": {},
   "outputs": [
    {
     "data": {
      "text/plain": [
       "<Axes: >"
      ]
     },
     "execution_count": 273,
     "metadata": {},
     "output_type": "execute_result"
    },
    {
     "data": {
      "image/png": "[encoded data removed]",
      "text/plain": [
       "<Figure size 800x600 with 2 Axes>"
      ]
     },
     "metadata": {},
     "output_type": "display_data"
    }
   ],
   "source": [
    "corrmatrix = data_copy.select_dtypes(include=['number']).corr()\n",
    "plt.figure(figsize=(8,6))\n",
    "sns.heatmap(corrmatrix,vmin=-0.4 , vmax=0.9, annot=True, cmap='YlGnBu' , linewidth=0.2)"
   ]
  },
  {
   "cell_type": "markdown",
   "id": "709ca02e",
   "metadata": {},
   "source": [
    "### Correlation is used to find relationship between variables. Here, variables are weakly or moderately correlated to each other. "
   ]
  },
  {
   "cell_type": "markdown",
   "id": "945c70a5",
   "metadata": {},
   "source": [
    "## 9. Yearly Reviews - Topamax"
   ]
  },
  {
   "cell_type": "code",
   "execution_count": 280,
   "id": "638d8115",
   "metadata": {},
   "outputs": [],
   "source": [
    "data_copy['Date'] = pd.to_datetime(data_copy['Date'], errors = 'coerce')"
   ]
  },
  {
   "cell_type": "code",
   "execution_count": 282,
   "id": "255e6f90",
   "metadata": {},
   "outputs": [],
   "source": [
    "# Extract year from the Date column\n",
    "data_copy['Year'] = data_copy['Date'].dt.year\n",
    "\n",
    "# Drop missing years if any\n",
    "data_copy = data_copy.dropna(subset=['Year'])\n",
    "\n",
    "# Ensure Year is integer (avoid float dtype issues)\n",
    "data_copy['Year'] = data_copy['Year'].astype(int)\n"
   ]
  },
  {
   "cell_type": "code",
   "execution_count": 284,
   "id": "5348cbf2",
   "metadata": {},
   "outputs": [
    {
     "data": {
      "image/png": "[encoded data removed]",
      "text/plain": [
       "<Figure size 1000x400 with 1 Axes>"
      ]
     },
     "metadata": {},
     "output_type": "display_data"
    }
   ],
   "source": [
    "# Plot countplot with sorted order\n",
    "plt.figure(figsize=(10,4))\n",
    "sns.countplot(data=data_copy, x='Year', palette='colorblind', order=sorted(data_copy['Year'].unique()))\n",
    "plt.xticks(rotation=45)  # Rotate x-axis labels for better readability\n",
    "plt.title('Number of Yearly Reviews', fontsize=15)\n",
    "plt.xlabel('Year', fontsize=15)\n",
    "plt.ylabel('Count of Reviews', fontsize=15)\n",
    "plt.show()"
   ]
  },
  {
   "cell_type": "markdown",
   "id": "fae7c1e4",
   "metadata": {},
   "source": [
    "### Topamax’s yearly reviews peaked in 2009 and tapered thereafter."
   ]
  },
  {
   "cell_type": "markdown",
   "id": "2bc63ef0",
   "metadata": {},
   "source": [
    "## 10. Effectiveness"
   ]
  },
  {
   "cell_type": "code",
   "execution_count": 290,
   "id": "5306f3c2",
   "metadata": {},
   "outputs": [
    {
     "data": {
      "text/plain": [
       "Text(0, 0.5, 'Count')"
      ]
     },
     "execution_count": 290,
     "metadata": {},
     "output_type": "execute_result"
    },
    {
     "data": {
      "image/png": "[encoded data removed]",
      "text/plain": [
       "<Figure size 640x480 with 1 Axes>"
      ]
     },
     "metadata": {},
     "output_type": "display_data"
    }
   ],
   "source": [
    "data_copy['Effectiveness'].value_counts().plot(kind='bar')\n",
    "plt.title(\"Effectiveness\", fontsize = 10)\n",
    "plt.xlabel(\"Effectiveness\", fontsize = 10)\n",
    "plt.ylabel(\"Count\", fontsize = 10)"
   ]
  },
  {
   "cell_type": "markdown",
   "id": "376af182",
   "metadata": {},
   "source": [
    "### Most users found Topamax as highly effective."
   ]
  },
  {
   "cell_type": "markdown",
   "id": "cf1f2bc1",
   "metadata": {},
   "source": [
    "## 11. Ease of Use"
   ]
  },
  {
   "cell_type": "code",
   "execution_count": 293,
   "id": "b744c5f6",
   "metadata": {},
   "outputs": [
    {
     "data": {
      "text/plain": [
       "Text(0, 0.5, 'Count')"
      ]
     },
     "execution_count": 293,
     "metadata": {},
     "output_type": "execute_result"
    },
    {
     "data": {
      "image/png": "[encoded data removed]",
      "text/plain": [
       "<Figure size 640x480 with 1 Axes>"
      ]
     },
     "metadata": {},
     "output_type": "display_data"
    }
   ],
   "source": [
    "data_copy['EaseofUse'].value_counts().plot(kind='bar')\n",
    "plt.title(\"Ease of use\", fontsize = 10)\n",
    "plt.xlabel(\"EaseofUse\", fontsize = 10)\n",
    "plt.ylabel(\"Count\", fontsize = 10)\n"
   ]
  },
  {
   "cell_type": "markdown",
   "id": "9bb99be4",
   "metadata": {},
   "source": [
    "### Most users rated Topamax highly for its ease of use."
   ]
  },
  {
   "cell_type": "markdown",
   "id": "f95ae082",
   "metadata": {},
   "source": [
    "## 12. Useful Count"
   ]
  },
  {
   "cell_type": "code",
   "execution_count": 297,
   "id": "e41fd8ac",
   "metadata": {},
   "outputs": [
    {
     "data": {
      "text/plain": [
       "Text(0, 0.5, 'Count')"
      ]
     },
     "execution_count": 297,
     "metadata": {},
     "output_type": "execute_result"
    },
    {
     "data": {
      "image/png": "[encoded data removed]",
      "text/plain": [
       "<Figure size 640x480 with 1 Axes>"
      ]
     },
     "metadata": {},
     "output_type": "display_data"
    }
   ],
   "source": [
    "data_copy['UsefulCount'].value_counts().plot(kind='bar')\n",
    "plt.title(\"Useful Count\", fontsize = 15)\n",
    "plt.xlabel(\"UsefulCount\", fontsize = 15)\n",
    "plt.ylabel(\"Count\", fontsize = 15)"
   ]
  },
  {
   "cell_type": "markdown",
   "id": "a5ad50b8",
   "metadata": {},
   "source": [
    "### As with usefulness of reviews, Topamax users throw a mixed bag with most not finding the reviews beneficial."
   ]
  },
  {
   "cell_type": "markdown",
   "id": "4f267bcf",
   "metadata": {},
   "source": [
    "## 13. Users by Effectiveness and Gender"
   ]
  },
  {
   "cell_type": "code",
   "execution_count": 300,
   "id": "c37257b2",
   "metadata": {},
   "outputs": [
    {
     "data": {
      "text/plain": [
       "<Figure size 1000x800 with 0 Axes>"
      ]
     },
     "metadata": {},
     "output_type": "display_data"
    },
    {
     "data": {
      "image/png": "[encoded data removed]",
      "text/plain": [
       "<Figure size 1091.11x600 with 2 Axes>"
      ]
     },
     "metadata": {},
     "output_type": "display_data"
    }
   ],
   "source": [
    "plt.figure(figsize=(10,8))\n",
    "g = sns.catplot(x=\"Effectiveness\",col=\"Sex\",\n",
    "                data=data_copy, kind=\"count\",\n",
    "                height=6,aspect =.9);\n"
   ]
  },
  {
   "cell_type": "markdown",
   "id": "ead19063",
   "metadata": {},
   "source": [
    "### Topamax is found to be highly effective in females. "
   ]
  },
  {
   "cell_type": "markdown",
   "id": "00910fbe",
   "metadata": {},
   "source": [
    "## 14. Side Effects"
   ]
  },
  {
   "cell_type": "code",
   "execution_count": 303,
   "id": "798a243c",
   "metadata": {},
   "outputs": [
    {
     "data": {
      "image/png": "[encoded data removed]",
      "text/plain": [
       "<Figure size 600x600 with 1 Axes>"
      ]
     },
     "metadata": {},
     "output_type": "display_data"
    }
   ],
   "source": [
    "\n",
    "plt.figure(figsize=(6,6))\n",
    "data_copy['SideEffects'].value_counts().plot.pie(autopct='%1.1f%%',shadow=True)\n",
    "plt.show()"
   ]
  },
  {
   "cell_type": "markdown",
   "id": "49339ad9",
   "metadata": {},
   "source": [
    "### Extremely Severe Side Effects accounted for the most closely followed by No Side Effects. Mild symptoms accounted for the least."
   ]
  },
  {
   "cell_type": "markdown",
   "id": "354e30ed",
   "metadata": {},
   "source": [
    "## 15. Side Effects and Age"
   ]
  },
  {
   "cell_type": "code",
   "execution_count": 307,
   "id": "fe3c19dd",
   "metadata": {},
   "outputs": [
    {
     "data": {
      "text/plain": [
       "<Axes: xlabel='Age', ylabel='count'>"
      ]
     },
     "execution_count": 307,
     "metadata": {},
     "output_type": "execute_result"
    },
    {
     "data": {
      "image/png": "[encoded data removed]",
      "text/plain": [
       "<Figure size 1000x600 with 1 Axes>"
      ]
     },
     "metadata": {},
     "output_type": "display_data"
    }
   ],
   "source": [
    "plt.figure(figsize=(10, 6))\n",
    "sns.countplot(x='Age',hue='SideEffects',data=data_copy)"
   ]
  },
  {
   "cell_type": "markdown",
   "id": "8fb74b5f",
   "metadata": {},
   "source": [
    "### No side effects topped in the age groups under 24. Extremely severe side effects topped in the age groups 35-44, 25-34, 45-54, 65-74 and 55-64. "
   ]
  },
  {
   "cell_type": "markdown",
   "id": "5d9639b7",
   "metadata": {},
   "source": [
    "## 16. Side Effects and Gender"
   ]
  },
  {
   "cell_type": "code",
   "execution_count": 310,
   "id": "4e108010",
   "metadata": {},
   "outputs": [
    {
     "data": {
      "text/plain": [
       "<Figure size 2000x1000 with 0 Axes>"
      ]
     },
     "metadata": {},
     "output_type": "display_data"
    },
    {
     "data": {
      "image/png": "[encoded data removed]",
      "text/plain": [
       "<Figure size 1091.11x600 with 2 Axes>"
      ]
     },
     "metadata": {},
     "output_type": "display_data"
    }
   ],
   "source": [
    "plt.figure(figsize=(20,10))\n",
    "\n",
    "g = sns.catplot(x=\"SideEffects\",col=\"Sex\",data=data_copy, kind=\"count\",height=6,aspect =.9);"
   ]
  },
  {
   "cell_type": "markdown",
   "id": "2fa9835b",
   "metadata": {},
   "source": [
    "### Side effects proved extreme in females. No side effects topped amoung men. "
   ]
  },
  {
   "cell_type": "markdown",
   "id": "59172ed8",
   "metadata": {},
   "source": [
    "## 17. Side Effects and Race"
   ]
  },
  {
   "cell_type": "code",
   "execution_count": 313,
   "id": "8c74f185",
   "metadata": {},
   "outputs": [
    {
     "data": {
      "text/plain": [
       "<Axes: xlabel='Race', ylabel='count'>"
      ]
     },
     "execution_count": 313,
     "metadata": {},
     "output_type": "execute_result"
    },
    {
     "data": {
      "image/png": "[encoded data removed]",
      "text/plain": [
       "<Figure size 1000x600 with 1 Axes>"
      ]
     },
     "metadata": {},
     "output_type": "display_data"
    }
   ],
   "source": [
    "plt.figure(figsize=(10, 6))\n",
    "sns.countplot(x='Race',hue='SideEffects',data=data_copy)"
   ]
  },
  {
   "cell_type": "markdown",
   "id": "078cdd62",
   "metadata": {},
   "source": [
    "### Side effects proved race neutral with proportionate results. "
   ]
  },
  {
   "cell_type": "markdown",
   "id": "42d39c6a",
   "metadata": {},
   "source": [
    "# Splitting the data"
   ]
  },
  {
   "cell_type": "code",
   "execution_count": 317,
   "id": "4c4c93a4",
   "metadata": {},
   "outputs": [],
   "source": [
    "#target\n",
    "y = data_new['SideEffects']"
   ]
  },
  {
   "cell_type": "code",
   "execution_count": 318,
   "id": "4a9e91d5",
   "metadata": {},
   "outputs": [],
   "source": [
    "X = data_new.drop(['SideEffects'],axis=1)"
   ]
  },
  {
   "cell_type": "code",
   "execution_count": 319,
   "id": "9d13ca27",
   "metadata": {},
   "outputs": [
    {
     "data": {
      "text/plain": [
       "(1547, 6)"
      ]
     },
     "execution_count": 319,
     "metadata": {},
     "output_type": "execute_result"
    }
   ],
   "source": [
    "X.shape"
   ]
  },
  {
   "cell_type": "markdown",
   "id": "86274604",
   "metadata": {},
   "source": [
    "# Splitting the dataset into train and test sets"
   ]
  },
  {
   "cell_type": "code",
   "execution_count": 322,
   "id": "28525edd",
   "metadata": {},
   "outputs": [],
   "source": [
    "from sklearn.model_selection import train_test_split\n",
    "X_train,X_test,y_train,y_test = train_test_split(X,y, random_state=42,test_size=0.2)#assigninng values"
   ]
  },
  {
   "cell_type": "code",
   "execution_count": 323,
   "id": "8372ab65",
   "metadata": {},
   "outputs": [
    {
     "data": {
      "text/plain": [
       "(1237, 6)"
      ]
     },
     "execution_count": 323,
     "metadata": {},
     "output_type": "execute_result"
    }
   ],
   "source": [
    "X_train.shape"
   ]
  },
  {
   "cell_type": "code",
   "execution_count": 324,
   "id": "d5159eb7",
   "metadata": {},
   "outputs": [
    {
     "data": {
      "text/plain": [
       "(310, 6)"
      ]
     },
     "execution_count": 324,
     "metadata": {},
     "output_type": "execute_result"
    }
   ],
   "source": [
    "X_test.shape"
   ]
  },
  {
   "cell_type": "code",
   "execution_count": 325,
   "id": "70ae33ef",
   "metadata": {},
   "outputs": [
    {
     "data": {
      "text/plain": [
       "(1237,)"
      ]
     },
     "execution_count": 325,
     "metadata": {},
     "output_type": "execute_result"
    }
   ],
   "source": [
    "y_train.shape"
   ]
  },
  {
   "cell_type": "code",
   "execution_count": 326,
   "id": "c4a94068",
   "metadata": {},
   "outputs": [
    {
     "data": {
      "text/plain": [
       "(310,)"
      ]
     },
     "execution_count": 326,
     "metadata": {},
     "output_type": "execute_result"
    }
   ],
   "source": [
    "y_test.shape"
   ]
  },
  {
   "cell_type": "markdown",
   "id": "0013c8d9",
   "metadata": {},
   "source": [
    "# Modelling"
   ]
  },
  {
   "cell_type": "markdown",
   "id": "132e1155",
   "metadata": {},
   "source": [
    "## 1. Logistic Regression Model"
   ]
  },
  {
   "cell_type": "code",
   "execution_count": 329,
   "id": "b5db7fb6",
   "metadata": {},
   "outputs": [],
   "source": [
    "from sklearn.linear_model import LogisticRegression\n",
    "logit_model = LogisticRegression(multi_class='multinomial')\n",
    "logit_model.fit(X_train, y_train)\n",
    "y_pred = logit_model.predict(X_test)"
   ]
  },
  {
   "cell_type": "code",
   "execution_count": 331,
   "id": "4418ea2c",
   "metadata": {},
   "outputs": [],
   "source": [
    "from sklearn.metrics import confusion_matrix, accuracy_score, precision_score,recall_score,f1_score,classification_report"
   ]
  },
  {
   "cell_type": "markdown",
   "id": "57cab6d1",
   "metadata": {},
   "source": [
    "### Performance Evaluation"
   ]
  },
  {
   "cell_type": "code",
   "execution_count": 333,
   "id": "cfa7f1eb",
   "metadata": {},
   "outputs": [
    {
     "name": "stdout",
     "output_type": "stream",
     "text": [
      "Accuracy is :  55.16129032258065\n"
     ]
    }
   ],
   "source": [
    "print(\"Accuracy is : \", accuracy_score(y_test, y_pred)*100)\n"
   ]
  },
  {
   "cell_type": "markdown",
   "id": "11520398",
   "metadata": {},
   "source": [
    "### Confusion Matrix of Logistic Regression Model"
   ]
  },
  {
   "cell_type": "code",
   "execution_count": 336,
   "id": "93920eff",
   "metadata": {},
   "outputs": [
    {
     "data": {
      "text/plain": [
       "array([[90,  0,  0,  1, 17],\n",
       "       [ 1,  0,  3, 17,  5],\n",
       "       [10,  0,  5, 21, 17],\n",
       "       [ 7,  0,  4, 44,  8],\n",
       "       [15,  0,  5,  8, 32]], dtype=int64)"
      ]
     },
     "execution_count": 336,
     "metadata": {},
     "output_type": "execute_result"
    }
   ],
   "source": [
    "confusion_matrix(y_test,y_pred)"
   ]
  },
  {
   "cell_type": "markdown",
   "id": "04f65d9b",
   "metadata": {},
   "source": [
    "## 2. KNN Model"
   ]
  },
  {
   "cell_type": "code",
   "execution_count": 338,
   "id": "7f507087",
   "metadata": {},
   "outputs": [],
   "source": [
    "from sklearn.neighbors import KNeighborsClassifier"
   ]
  },
  {
   "cell_type": "code",
   "execution_count": 339,
   "id": "205a8c56",
   "metadata": {},
   "outputs": [],
   "source": [
    "acc_values = []\n",
    "neighbors = np.arange(3,15)\n",
    "\n",
    "# creating a loop to create KNN model for each K value\n",
    "for k in neighbors:\n",
    "#taking the instance of KNN to a variable.the variable name is classifier.\n",
    "    classifier = KNeighborsClassifier(n_neighbors= k, metric = 'minkowski')    #no: of neighbors n the methode to measure the distance .instance is created\n",
    "#we have to create the model.\n",
    "    classifier = KNeighborsClassifier(n_neighbors= k)\n",
    "    classifier.fit(X_train,y_train)\n",
    "#have to predict output using this model.\n",
    "    y_pred = classifier.predict(X_test)#KNN is created\n",
    "#append the accurcy values to empty list in order to fing out maximum accuracy.\n",
    "    acc = accuracy_score(y_test, y_pred)#taking accuracy values to variable acc \n",
    "#append these accuracy values to our list\n",
    "    acc_values.append(acc)"
   ]
  },
  {
   "cell_type": "code",
   "execution_count": 340,
   "id": "8e42b58c",
   "metadata": {},
   "outputs": [
    {
     "data": {
      "text/plain": [
       "[0.4838709677419355,\n",
       " 0.535483870967742,\n",
       " 0.5064516129032258,\n",
       " 0.5387096774193548,\n",
       " 0.5290322580645161,\n",
       " 0.535483870967742,\n",
       " 0.5387096774193548,\n",
       " 0.5580645161290323,\n",
       " 0.5516129032258065,\n",
       " 0.5645161290322581,\n",
       " 0.5516129032258065,\n",
       " 0.532258064516129]"
      ]
     },
     "execution_count": 340,
     "metadata": {},
     "output_type": "execute_result"
    }
   ],
   "source": [
    "acc_values"
   ]
  },
  {
   "cell_type": "markdown",
   "id": "9a0f82fc",
   "metadata": {},
   "source": [
    "### To find which k value got the highest accuracy,  plotted a graph between neighbor values (i.e. k values) and accuracy values"
   ]
  },
  {
   "cell_type": "code",
   "execution_count": 343,
   "id": "69d16858",
   "metadata": {},
   "outputs": [
    {
     "data": {
      "text/plain": [
       "Text(0, 0.5, 'accuracy')"
      ]
     },
     "execution_count": 343,
     "metadata": {},
     "output_type": "execute_result"
    },
    {
     "data": {
      "image/png": "[encoded data removed]",
      "text/plain": [
       "<Figure size 640x480 with 1 Axes>"
      ]
     },
     "metadata": {},
     "output_type": "display_data"
    }
   ],
   "source": [
    "plt.plot(neighbors,acc_values,'o-')\n",
    "plt.xlabel('k value')\n",
    "plt.ylabel('accuracy')"
   ]
  },
  {
   "cell_type": "markdown",
   "id": "75531ad6",
   "metadata": {},
   "source": [
    "### KNN model with k=14"
   ]
  },
  {
   "cell_type": "code",
   "execution_count": 345,
   "id": "d6ea6251",
   "metadata": {},
   "outputs": [],
   "source": [
    "classifier = KNeighborsClassifier(n_neighbors= 14, metric = 'minkowski')\n",
    "classifier.fit(X_train,y_train)\n",
    "y_pred = classifier.predict(X_test)"
   ]
  },
  {
   "cell_type": "markdown",
   "id": "31e3997e",
   "metadata": {},
   "source": [
    "### Performance Evaluation"
   ]
  },
  {
   "cell_type": "code",
   "execution_count": 347,
   "id": "23e67ba7",
   "metadata": {},
   "outputs": [
    {
     "name": "stdout",
     "output_type": "stream",
     "text": [
      "Accuracy is :  53.2258064516129\n"
     ]
    }
   ],
   "source": [
    "print(\"Accuracy is : \", accuracy_score(y_test, y_pred)*100)"
   ]
  },
  {
   "cell_type": "markdown",
   "id": "cf38643e",
   "metadata": {},
   "source": [
    "### Confusion Matrix for KNN Classifier"
   ]
  },
  {
   "cell_type": "code",
   "execution_count": 349,
   "id": "07eab9dc",
   "metadata": {},
   "outputs": [
    {
     "data": {
      "text/plain": [
       "array([[97,  0,  0,  1, 10],\n",
       "       [ 2,  2,  6, 10,  6],\n",
       "       [10,  0,  8,  8, 27],\n",
       "       [ 9,  4,  5, 30, 15],\n",
       "       [20,  2, 10,  0, 28]], dtype=int64)"
      ]
     },
     "execution_count": 349,
     "metadata": {},
     "output_type": "execute_result"
    }
   ],
   "source": [
    "confusion_matrix(y_test,y_pred)"
   ]
  },
  {
   "cell_type": "markdown",
   "id": "f4034c90",
   "metadata": {},
   "source": [
    "## 3. Decision Tree Classifier"
   ]
  },
  {
   "cell_type": "code",
   "execution_count": 351,
   "id": "b44c9627",
   "metadata": {},
   "outputs": [],
   "source": [
    "from sklearn.tree import DecisionTreeClassifier\n",
    "dt_model = DecisionTreeClassifier()\n",
    "dt_model.fit(X_train,y_train)\n",
    "y_pred = dt_model.predict(X_test)"
   ]
  },
  {
   "cell_type": "markdown",
   "id": "60fb2489",
   "metadata": {},
   "source": [
    "### Performance Evaluation"
   ]
  },
  {
   "cell_type": "code",
   "execution_count": 354,
   "id": "78128464",
   "metadata": {},
   "outputs": [
    {
     "name": "stdout",
     "output_type": "stream",
     "text": [
      "Accuracy is :  54.516129032258064\n"
     ]
    }
   ],
   "source": [
    "print(\"Accuracy is : \", accuracy_score(y_test, y_pred)*100)"
   ]
  },
  {
   "cell_type": "markdown",
   "id": "ebdeb8b0",
   "metadata": {},
   "source": [
    "### Confusion Matrix of Decision Tree Model"
   ]
  },
  {
   "cell_type": "code",
   "execution_count": 356,
   "id": "938461da",
   "metadata": {},
   "outputs": [
    {
     "data": {
      "text/plain": [
       "array([[89,  1,  3,  2, 13],\n",
       "       [ 1,  5,  9,  6,  5],\n",
       "       [12,  6, 15,  8, 12],\n",
       "       [ 6, 10,  7, 33,  7],\n",
       "       [15,  7,  6,  5, 27]], dtype=int64)"
      ]
     },
     "execution_count": 356,
     "metadata": {},
     "output_type": "execute_result"
    }
   ],
   "source": [
    "confusion_matrix(y_test,y_pred)"
   ]
  },
  {
   "cell_type": "markdown",
   "id": "86750f0f",
   "metadata": {},
   "source": [
    "## 4. Support Vector Machine"
   ]
  },
  {
   "cell_type": "markdown",
   "id": "f48bcd04",
   "metadata": {},
   "source": [
    "## a. Linear SVM"
   ]
  },
  {
   "cell_type": "code",
   "execution_count": 361,
   "id": "a4fbc061",
   "metadata": {},
   "outputs": [],
   "source": [
    "from sklearn.svm import SVC\n",
    "svm_linear = SVC(kernel = 'linear')#creating an instance\n",
    "svm_linear.fit(X_train,y_train)\n",
    "y_pred = svm_linear.predict(X_test)"
   ]
  },
  {
   "cell_type": "markdown",
   "id": "3d12ad12",
   "metadata": {},
   "source": [
    "### Performance Evaluation"
   ]
  },
  {
   "cell_type": "code",
   "execution_count": 363,
   "id": "0e5263e2",
   "metadata": {},
   "outputs": [
    {
     "name": "stdout",
     "output_type": "stream",
     "text": [
      "Accuracy is :  59.03225806451613\n"
     ]
    }
   ],
   "source": [
    "print(\"Accuracy is : \", accuracy_score(y_test, y_pred)*100)"
   ]
  },
  {
   "cell_type": "markdown",
   "id": "e21d8c1b",
   "metadata": {},
   "source": [
    "### Confusion Matrix of Linear SVM Model"
   ]
  },
  {
   "cell_type": "code",
   "execution_count": 366,
   "id": "e48c08f6",
   "metadata": {},
   "outputs": [
    {
     "data": {
      "text/plain": [
       "array([[88,  1,  0,  0, 19],\n",
       "       [ 1,  4,  6, 10,  5],\n",
       "       [ 7,  0, 20,  8, 18],\n",
       "       [ 6,  2,  9, 37,  9],\n",
       "       [14,  0, 10,  2, 34]], dtype=int64)"
      ]
     },
     "execution_count": 366,
     "metadata": {},
     "output_type": "execute_result"
    }
   ],
   "source": [
    "confusion_matrix(y_test,y_pred)"
   ]
  },
  {
   "cell_type": "markdown",
   "id": "f729afa1",
   "metadata": {},
   "source": [
    "## b. Polynomial SVM"
   ]
  },
  {
   "cell_type": "code",
   "execution_count": 368,
   "id": "8448984b",
   "metadata": {},
   "outputs": [],
   "source": [
    "svm_poly = SVC(kernel = 'poly', degree=3)\n",
    "svm_poly.fit(X_train,y_train)\n",
    "y_pred = svm_poly.predict(X_test)"
   ]
  },
  {
   "cell_type": "markdown",
   "id": "0a316d18",
   "metadata": {},
   "source": [
    "### Performance Evaluation"
   ]
  },
  {
   "cell_type": "code",
   "execution_count": 371,
   "id": "6f9d5268",
   "metadata": {},
   "outputs": [
    {
     "name": "stdout",
     "output_type": "stream",
     "text": [
      "Accuracy is :  54.516129032258064\n"
     ]
    }
   ],
   "source": [
    "print(\"Accuracy is : \", accuracy_score(y_test, y_pred)*100)"
   ]
  },
  {
   "cell_type": "markdown",
   "id": "c1d2a4ae",
   "metadata": {},
   "source": [
    "### Confusion Matrix of Polynomial SVM"
   ]
  },
  {
   "cell_type": "code",
   "execution_count": 373,
   "id": "e0df345c",
   "metadata": {},
   "outputs": [
    {
     "data": {
      "text/plain": [
       "array([[88,  1,  0,  0, 19],\n",
       "       [ 1,  0,  6, 11,  8],\n",
       "       [ 9,  0, 13, 11, 20],\n",
       "       [ 8,  0,  7, 31, 17],\n",
       "       [16,  0,  4,  3, 37]], dtype=int64)"
      ]
     },
     "execution_count": 373,
     "metadata": {},
     "output_type": "execute_result"
    }
   ],
   "source": [
    "confusion_matrix(y_test,y_pred)"
   ]
  },
  {
   "cell_type": "markdown",
   "id": "c6fc18c8",
   "metadata": {},
   "source": [
    "## c. Radial SVM"
   ]
  },
  {
   "cell_type": "code",
   "execution_count": 376,
   "id": "207ed308",
   "metadata": {},
   "outputs": [],
   "source": [
    "svm_radial = SVC(kernel='rbf')\n",
    "svm_radial.fit(X_train,y_train)\n",
    "y_pred=svm_radial.predict(X_test)"
   ]
  },
  {
   "cell_type": "markdown",
   "id": "b21113b4",
   "metadata": {},
   "source": [
    "### Performance Evaluation"
   ]
  },
  {
   "cell_type": "code",
   "execution_count": 378,
   "id": "94de37fa",
   "metadata": {},
   "outputs": [
    {
     "name": "stdout",
     "output_type": "stream",
     "text": [
      "Accuracy is :  54.83870967741935\n"
     ]
    }
   ],
   "source": [
    "print(\"Accuracy is : \", accuracy_score(y_test, y_pred)*100)"
   ]
  },
  {
   "cell_type": "markdown",
   "id": "806cc7fc",
   "metadata": {},
   "source": [
    "### Confusion Matrix"
   ]
  },
  {
   "cell_type": "code",
   "execution_count": 380,
   "id": "3d0d8532",
   "metadata": {},
   "outputs": [
    {
     "data": {
      "text/plain": [
       "array([[94,  0,  0,  0, 14],\n",
       "       [ 1,  0,  3, 10, 12],\n",
       "       [10,  0,  6,  5, 32],\n",
       "       [ 7,  0,  6, 33, 17],\n",
       "       [19,  0,  3,  1, 37]], dtype=int64)"
      ]
     },
     "execution_count": 380,
     "metadata": {},
     "output_type": "execute_result"
    }
   ],
   "source": [
    "confusion_matrix(y_test,y_pred)"
   ]
  },
  {
   "cell_type": "markdown",
   "id": "f656d3ec",
   "metadata": {},
   "source": [
    "## 5. Random Forest"
   ]
  },
  {
   "cell_type": "code",
   "execution_count": 383,
   "id": "6279ad0e",
   "metadata": {},
   "outputs": [],
   "source": [
    "from sklearn.ensemble import RandomForestClassifier\n",
    "rf=RandomForestClassifier()\n",
    "#training the model\n",
    "rf.fit(X_train,y_train)\n",
    "#to make predictions\n",
    "y_pred=rf.predict(X_test)"
   ]
  },
  {
   "cell_type": "markdown",
   "id": "8e6b5f37",
   "metadata": {},
   "source": [
    "### Performance Evaluation"
   ]
  },
  {
   "cell_type": "code",
   "execution_count": 385,
   "id": "6d698ad3",
   "metadata": {},
   "outputs": [
    {
     "name": "stdout",
     "output_type": "stream",
     "text": [
      "Accuracy is :  55.16129032258065\n"
     ]
    }
   ],
   "source": [
    "print(\"Accuracy is : \", accuracy_score(y_test, y_pred)*100)"
   ]
  },
  {
   "cell_type": "markdown",
   "id": "9e0981a9",
   "metadata": {},
   "source": [
    "### Confusion Matrix"
   ]
  },
  {
   "cell_type": "code",
   "execution_count": 387,
   "id": "e465a407",
   "metadata": {},
   "outputs": [
    {
     "data": {
      "text/plain": [
       "array([[87,  0,  2,  2, 17],\n",
       "       [ 1,  1,  7,  9,  8],\n",
       "       [10,  3, 20,  7, 13],\n",
       "       [ 6,  7,  7, 31, 12],\n",
       "       [13,  3,  5,  7, 32]], dtype=int64)"
      ]
     },
     "execution_count": 387,
     "metadata": {},
     "output_type": "execute_result"
    }
   ],
   "source": [
    "confusion_matrix(y_test,y_pred)"
   ]
  },
  {
   "cell_type": "markdown",
   "id": "a34a233a",
   "metadata": {},
   "source": [
    "## Feature Importance"
   ]
  },
  {
   "cell_type": "code",
   "execution_count": 389,
   "id": "31801191",
   "metadata": {},
   "outputs": [
    {
     "data": {
      "text/plain": [
       "Effectiveness    43.944626\n",
       "Age              18.461219\n",
       "Condition        12.347150\n",
       "Race             12.298673\n",
       "EaseofUse        10.708491\n",
       "Sex               2.239842\n",
       "dtype: float64"
      ]
     },
     "execution_count": 389,
     "metadata": {},
     "output_type": "execute_result"
    }
   ],
   "source": [
    "pd.Series(rf.feature_importances_,index=X.columns).sort_values(ascending=False)*100"
   ]
  },
  {
   "cell_type": "markdown",
   "id": "aec34670",
   "metadata": {},
   "source": [
    "## Fine tuning of hyper parameters"
   ]
  },
  {
   "cell_type": "code",
   "execution_count": 391,
   "id": "588f9b26",
   "metadata": {},
   "outputs": [
    {
     "data": {
      "text/html": [
       "<style>#sk-container-id-1 {\n",
       "  /* Definition of color scheme common for light and dark mode */\n",
       "  --sklearn-color-text: black;\n",
       "  --sklearn-color-line: gray;\n",
       "  /* Definition of color scheme for unfitted estimators */\n",
       "  --sklearn-color-unfitted-level-0: #fff5e6;\n",
       "  --sklearn-color-unfitted-level-1: #f6e4d2;\n",
       "  --sklearn-color-unfitted-level-2: #ffe0b3;\n",
       "  --sklearn-color-unfitted-level-3: chocolate;\n",
       "  /* Definition of color scheme for fitted estimators */\n",
       "  --sklearn-color-fitted-level-0: #f0f8ff;\n",
       "  --sklearn-color-fitted-level-1: #d4ebff;\n",
       "  --sklearn-color-fitted-level-2: #b3dbfd;\n",
       "  --sklearn-color-fitted-level-3: cornflowerblue;\n",
       "\n",
       "  /* Specific color for light theme */\n",
       "  --sklearn-color-text-on-default-background: var(--sg-text-color, var(--theme-code-foreground, var(--jp-content-font-color1, black)));\n",
       "  --sklearn-color-background: var(--sg-background-color, var(--theme-background, var(--jp-layout-color0, white)));\n",
       "  --sklearn-color-border-box: var(--sg-text-color, var(--theme-code-foreground, var(--jp-content-font-color1, black)));\n",
       "  --sklearn-color-icon: #696969;\n",
       "\n",
       "  @media (prefers-color-scheme: dark) {\n",
       "    /* Redefinition of color scheme for dark theme */\n",
       "    --sklearn-color-text-on-default-background: var(--sg-text-color, var(--theme-code-foreground, var(--jp-content-font-color1, white)));\n",
       "    --sklearn-color-background: var(--sg-background-color, var(--theme-background, var(--jp-layout-color0, #111)));\n",
       "    --sklearn-color-border-box: var(--sg-text-color, var(--theme-code-foreground, var(--jp-content-font-color1, white)));\n",
       "    --sklearn-color-icon: #878787;\n",
       "  }\n",
       "}\n",
       "\n",
       "#sk-container-id-1 {\n",
       "  color: var(--sklearn-color-text);\n",
       "}\n",
       "\n",
       "#sk-container-id-1 pre {\n",
       "  padding: 0;\n",
       "}\n",
       "\n",
       "#sk-container-id-1 input.sk-hidden--visually {\n",
       "  border: 0;\n",
       "  clip: rect(1px 1px 1px 1px);\n",
       "  clip: rect(1px, 1px, 1px, 1px);\n",
       "  height: 1px;\n",
       "  margin: -1px;\n",
       "  overflow: hidden;\n",
       "  padding: 0;\n",
       "  position: absolute;\n",
       "  width: 1px;\n",
       "}\n",
       "\n",
       "#sk-container-id-1 div.sk-dashed-wrapped {\n",
       "  border: 1px dashed var(--sklearn-color-line);\n",
       "  margin: 0 0.4em 0.5em 0.4em;\n",
       "  box-sizing: border-box;\n",
       "  padding-bottom: 0.4em;\n",
       "  background-color: var(--sklearn-color-background);\n",
       "}\n",
       "\n",
       "#sk-container-id-1 div.sk-container {\n",
       "  /* jupyter's `normalize.less` sets `[hidden] { display: none; }`\n",
       "     but bootstrap.min.css set `[hidden] { display: none !important; }`\n",
       "     so we also need the `!important` here to be able to override the\n",
       "     default hidden behavior on the sphinx rendered scikit-learn.org.\n",
       "     See: https://github.com/scikit-learn/scikit-learn/issues/21755 */\n",
       "  display: inline-block !important;\n",
       "  position: relative;\n",
       "}\n",
       "\n",
       "#sk-container-id-1 div.sk-text-repr-fallback {\n",
       "  display: none;\n",
       "}\n",
       "\n",
       "div.sk-parallel-item,\n",
       "div.sk-serial,\n",
       "div.sk-item {\n",
       "  /* draw centered vertical line to link estimators */\n",
       "  background-image: linear-gradient(var(--sklearn-color-text-on-default-background), var(--sklearn-color-text-on-default-background));\n",
       "  background-size: 2px 100%;\n",
       "  background-repeat: no-repeat;\n",
       "  background-position: center center;\n",
       "}\n",
       "\n",
       "/* Parallel-specific style estimator block */\n",
       "\n",
       "#sk-container-id-1 div.sk-parallel-item::after {\n",
       "  content: \"\";\n",
       "  width: 100%;\n",
       "  border-bottom: 2px solid var(--sklearn-color-text-on-default-background);\n",
       "  flex-grow: 1;\n",
       "}\n",
       "\n",
       "#sk-container-id-1 div.sk-parallel {\n",
       "  display: flex;\n",
       "  align-items: stretch;\n",
       "  justify-content: center;\n",
       "  background-color: var(--sklearn-color-background);\n",
       "  position: relative;\n",
       "}\n",
       "\n",
       "#sk-container-id-1 div.sk-parallel-item {\n",
       "  display: flex;\n",
       "  flex-direction: column;\n",
       "}\n",
       "\n",
       "#sk-container-id-1 div.sk-parallel-item:first-child::after {\n",
       "  align-self: flex-end;\n",
       "  width: 50%;\n",
       "}\n",
       "\n",
       "#sk-container-id-1 div.sk-parallel-item:last-child::after {\n",
       "  align-self: flex-start;\n",
       "  width: 50%;\n",
       "}\n",
       "\n",
       "#sk-container-id-1 div.sk-parallel-item:only-child::after {\n",
       "  width: 0;\n",
       "}\n",
       "\n",
       "/* Serial-specific style estimator block */\n",
       "\n",
       "#sk-container-id-1 div.sk-serial {\n",
       "  display: flex;\n",
       "  flex-direction: column;\n",
       "  align-items: center;\n",
       "  background-color: var(--sklearn-color-background);\n",
       "  padding-right: 1em;\n",
       "  padding-left: 1em;\n",
       "}\n",
       "\n",
       "\n",
       "/* Toggleable style: style used for estimator/Pipeline/ColumnTransformer box that is\n",
       "clickable and can be expanded/collapsed.\n",
       "- Pipeline and ColumnTransformer use this feature and define the default style\n",
       "- Estimators will overwrite some part of the style using the `sk-estimator` class\n",
       "*/\n",
       "\n",
       "/* Pipeline and ColumnTransformer style (default) */\n",
       "\n",
       "#sk-container-id-1 div.sk-toggleable {\n",
       "  /* Default theme specific background. It is overwritten whether we have a\n",
       "  specific estimator or a Pipeline/ColumnTransformer */\n",
       "  background-color: var(--sklearn-color-background);\n",
       "}\n",
       "\n",
       "/* Toggleable label */\n",
       "#sk-container-id-1 label.sk-toggleable__label {\n",
       "  cursor: pointer;\n",
       "  display: block;\n",
       "  width: 100%;\n",
       "  margin-bottom: 0;\n",
       "  padding: 0.5em;\n",
       "  box-sizing: border-box;\n",
       "  text-align: center;\n",
       "}\n",
       "\n",
       "#sk-container-id-1 label.sk-toggleable__label-arrow:before {\n",
       "  /* Arrow on the left of the label */\n",
       "  content: \"▸\";\n",
       "  float: left;\n",
       "  margin-right: 0.25em;\n",
       "  color: var(--sklearn-color-icon);\n",
       "}\n",
       "\n",
       "#sk-container-id-1 label.sk-toggleable__label-arrow:hover:before {\n",
       "  color: var(--sklearn-color-text);\n",
       "}\n",
       "\n",
       "/* Toggleable content - dropdown */\n",
       "\n",
       "#sk-container-id-1 div.sk-toggleable__content {\n",
       "  max-height: 0;\n",
       "  max-width: 0;\n",
       "  overflow: hidden;\n",
       "  text-align: left;\n",
       "  /* unfitted */\n",
       "  background-color: var(--sklearn-color-unfitted-level-0);\n",
       "}\n",
       "\n",
       "#sk-container-id-1 div.sk-toggleable__content.fitted {\n",
       "  /* fitted */\n",
       "  background-color: var(--sklearn-color-fitted-level-0);\n",
       "}\n",
       "\n",
       "#sk-container-id-1 div.sk-toggleable__content pre {\n",
       "  margin: 0.2em;\n",
       "  border-radius: 0.25em;\n",
       "  color: var(--sklearn-color-text);\n",
       "  /* unfitted */\n",
       "  background-color: var(--sklearn-color-unfitted-level-0);\n",
       "}\n",
       "\n",
       "#sk-container-id-1 div.sk-toggleable__content.fitted pre {\n",
       "  /* unfitted */\n",
       "  background-color: var(--sklearn-color-fitted-level-0);\n",
       "}\n",
       "\n",
       "#sk-container-id-1 input.sk-toggleable__control:checked~div.sk-toggleable__content {\n",
       "  /* Expand drop-down */\n",
       "  max-height: 200px;\n",
       "  max-width: 100%;\n",
       "  overflow: auto;\n",
       "}\n",
       "\n",
       "#sk-container-id-1 input.sk-toggleable__control:checked~label.sk-toggleable__label-arrow:before {\n",
       "  content: \"▾\";\n",
       "}\n",
       "\n",
       "/* Pipeline/ColumnTransformer-specific style */\n",
       "\n",
       "#sk-container-id-1 div.sk-label input.sk-toggleable__control:checked~label.sk-toggleable__label {\n",
       "  color: var(--sklearn-color-text);\n",
       "  background-color: var(--sklearn-color-unfitted-level-2);\n",
       "}\n",
       "\n",
       "#sk-container-id-1 div.sk-label.fitted input.sk-toggleable__control:checked~label.sk-toggleable__label {\n",
       "  background-color: var(--sklearn-color-fitted-level-2);\n",
       "}\n",
       "\n",
       "/* Estimator-specific style */\n",
       "\n",
       "/* Colorize estimator box */\n",
       "#sk-container-id-1 div.sk-estimator input.sk-toggleable__control:checked~label.sk-toggleable__label {\n",
       "  /* unfitted */\n",
       "  background-color: var(--sklearn-color-unfitted-level-2);\n",
       "}\n",
       "\n",
       "#sk-container-id-1 div.sk-estimator.fitted input.sk-toggleable__control:checked~label.sk-toggleable__label {\n",
       "  /* fitted */\n",
       "  background-color: var(--sklearn-color-fitted-level-2);\n",
       "}\n",
       "\n",
       "#sk-container-id-1 div.sk-label label.sk-toggleable__label,\n",
       "#sk-container-id-1 div.sk-label label {\n",
       "  /* The background is the default theme color */\n",
       "  color: var(--sklearn-color-text-on-default-background);\n",
       "}\n",
       "\n",
       "/* On hover, darken the color of the background */\n",
       "#sk-container-id-1 div.sk-label:hover label.sk-toggleable__label {\n",
       "  color: var(--sklearn-color-text);\n",
       "  background-color: var(--sklearn-color-unfitted-level-2);\n",
       "}\n",
       "\n",
       "/* Label box, darken color on hover, fitted */\n",
       "#sk-container-id-1 div.sk-label.fitted:hover label.sk-toggleable__label.fitted {\n",
       "  color: var(--sklearn-color-text);\n",
       "  background-color: var(--sklearn-color-fitted-level-2);\n",
       "}\n",
       "\n",
       "/* Estimator label */\n",
       "\n",
       "#sk-container-id-1 div.sk-label label {\n",
       "  font-family: monospace;\n",
       "  font-weight: bold;\n",
       "  display: inline-block;\n",
       "  line-height: 1.2em;\n",
       "}\n",
       "\n",
       "#sk-container-id-1 div.sk-label-container {\n",
       "  text-align: center;\n",
       "}\n",
       "\n",
       "/* Estimator-specific */\n",
       "#sk-container-id-1 div.sk-estimator {\n",
       "  font-family: monospace;\n",
       "  border: 1px dotted var(--sklearn-color-border-box);\n",
       "  border-radius: 0.25em;\n",
       "  box-sizing: border-box;\n",
       "  margin-bottom: 0.5em;\n",
       "  /* unfitted */\n",
       "  background-color: var(--sklearn-color-unfitted-level-0);\n",
       "}\n",
       "\n",
       "#sk-container-id-1 div.sk-estimator.fitted {\n",
       "  /* fitted */\n",
       "  background-color: var(--sklearn-color-fitted-level-0);\n",
       "}\n",
       "\n",
       "/* on hover */\n",
       "#sk-container-id-1 div.sk-estimator:hover {\n",
       "  /* unfitted */\n",
       "  background-color: var(--sklearn-color-unfitted-level-2);\n",
       "}\n",
       "\n",
       "#sk-container-id-1 div.sk-estimator.fitted:hover {\n",
       "  /* fitted */\n",
       "  background-color: var(--sklearn-color-fitted-level-2);\n",
       "}\n",
       "\n",
       "/* Specification for estimator info (e.g. \"i\" and \"?\") */\n",
       "\n",
       "/* Common style for \"i\" and \"?\" */\n",
       "\n",
       ".sk-estimator-doc-link,\n",
       "a:link.sk-estimator-doc-link,\n",
       "a:visited.sk-estimator-doc-link {\n",
       "  float: right;\n",
       "  font-size: smaller;\n",
       "  line-height: 1em;\n",
       "  font-family: monospace;\n",
       "  background-color: var(--sklearn-color-background);\n",
       "  border-radius: 1em;\n",
       "  height: 1em;\n",
       "  width: 1em;\n",
       "  text-decoration: none !important;\n",
       "  margin-left: 1ex;\n",
       "  /* unfitted */\n",
       "  border: var(--sklearn-color-unfitted-level-1) 1pt solid;\n",
       "  color: var(--sklearn-color-unfitted-level-1);\n",
       "}\n",
       "\n",
       ".sk-estimator-doc-link.fitted,\n",
       "a:link.sk-estimator-doc-link.fitted,\n",
       "a:visited.sk-estimator-doc-link.fitted {\n",
       "  /* fitted */\n",
       "  border: var(--sklearn-color-fitted-level-1) 1pt solid;\n",
       "  color: var(--sklearn-color-fitted-level-1);\n",
       "}\n",
       "\n",
       "/* On hover */\n",
       "div.sk-estimator:hover .sk-estimator-doc-link:hover,\n",
       ".sk-estimator-doc-link:hover,\n",
       "div.sk-label-container:hover .sk-estimator-doc-link:hover,\n",
       ".sk-estimator-doc-link:hover {\n",
       "  /* unfitted */\n",
       "  background-color: var(--sklearn-color-unfitted-level-3);\n",
       "  color: var(--sklearn-color-background);\n",
       "  text-decoration: none;\n",
       "}\n",
       "\n",
       "div.sk-estimator.fitted:hover .sk-estimator-doc-link.fitted:hover,\n",
       ".sk-estimator-doc-link.fitted:hover,\n",
       "div.sk-label-container:hover .sk-estimator-doc-link.fitted:hover,\n",
       ".sk-estimator-doc-link.fitted:hover {\n",
       "  /* fitted */\n",
       "  background-color: var(--sklearn-color-fitted-level-3);\n",
       "  color: var(--sklearn-color-background);\n",
       "  text-decoration: none;\n",
       "}\n",
       "\n",
       "/* Span, style for the box shown on hovering the info icon */\n",
       ".sk-estimator-doc-link span {\n",
       "  display: none;\n",
       "  z-index: 9999;\n",
       "  position: relative;\n",
       "  font-weight: normal;\n",
       "  right: .2ex;\n",
       "  padding: .5ex;\n",
       "  margin: .5ex;\n",
       "  width: min-content;\n",
       "  min-width: 20ex;\n",
       "  max-width: 50ex;\n",
       "  color: var(--sklearn-color-text);\n",
       "  box-shadow: 2pt 2pt 4pt #999;\n",
       "  /* unfitted */\n",
       "  background: var(--sklearn-color-unfitted-level-0);\n",
       "  border: .5pt solid var(--sklearn-color-unfitted-level-3);\n",
       "}\n",
       "\n",
       ".sk-estimator-doc-link.fitted span {\n",
       "  /* fitted */\n",
       "  background: var(--sklearn-color-fitted-level-0);\n",
       "  border: var(--sklearn-color-fitted-level-3);\n",
       "}\n",
       "\n",
       ".sk-estimator-doc-link:hover span {\n",
       "  display: block;\n",
       "}\n",
       "\n",
       "/* \"?\"-specific style due to the `<a>` HTML tag */\n",
       "\n",
       "#sk-container-id-1 a.estimator_doc_link {\n",
       "  float: right;\n",
       "  font-size: 1rem;\n",
       "  line-height: 1em;\n",
       "  font-family: monospace;\n",
       "  background-color: var(--sklearn-color-background);\n",
       "  border-radius: 1rem;\n",
       "  height: 1rem;\n",
       "  width: 1rem;\n",
       "  text-decoration: none;\n",
       "  /* unfitted */\n",
       "  color: var(--sklearn-color-unfitted-level-1);\n",
       "  border: var(--sklearn-color-unfitted-level-1) 1pt solid;\n",
       "}\n",
       "\n",
       "#sk-container-id-1 a.estimator_doc_link.fitted {\n",
       "  /* fitted */\n",
       "  border: var(--sklearn-color-fitted-level-1) 1pt solid;\n",
       "  color: var(--sklearn-color-fitted-level-1);\n",
       "}\n",
       "\n",
       "/* On hover */\n",
       "#sk-container-id-1 a.estimator_doc_link:hover {\n",
       "  /* unfitted */\n",
       "  background-color: var(--sklearn-color-unfitted-level-3);\n",
       "  color: var(--sklearn-color-background);\n",
       "  text-decoration: none;\n",
       "}\n",
       "\n",
       "#sk-container-id-1 a.estimator_doc_link.fitted:hover {\n",
       "  /* fitted */\n",
       "  background-color: var(--sklearn-color-fitted-level-3);\n",
       "}\n",
       "</style><div id=\"sk-container-id-1\" class=\"sk-top-container\"><div class=\"sk-text-repr-fallback\"><pre>RandomForestClassifier()</pre><b>In a Jupyter environment, please rerun this cell to show the HTML representation or trust the notebook. <br />On GitHub, the HTML representation is unable to render, please try loading this page with nbviewer.org.</b></div><div class=\"sk-container\" hidden><div class=\"sk-item\"><div class=\"sk-estimator fitted sk-toggleable\"><input class=\"sk-toggleable__control sk-hidden--visually\" id=\"sk-estimator-id-1\" type=\"checkbox\" checked><label for=\"sk-estimator-id-1\" class=\"sk-toggleable__label fitted sk-toggleable__label-arrow fitted\">&nbsp;&nbsp;RandomForestClassifier<a class=\"sk-estimator-doc-link fitted\" rel=\"noreferrer\" target=\"_blank\" href=\"https://scikit-learn.org/1.4/modules/generated/sklearn.ensemble.RandomForestClassifier.html\">?<span>Documentation for RandomForestClassifier</span></a><span class=\"sk-estimator-doc-link fitted\">i<span>Fitted</span></span></label><div class=\"sk-toggleable__content fitted\"><pre>RandomForestClassifier()</pre></div> </div></div></div></div>"
      ],
      "text/plain": [
       "RandomForestClassifier()"
      ]
     },
     "execution_count": 391,
     "metadata": {},
     "output_type": "execute_result"
    }
   ],
   "source": [
    "rf.fit(X_train,y_train)"
   ]
  },
  {
   "cell_type": "code",
   "execution_count": 393,
   "id": "564dd7df",
   "metadata": {},
   "outputs": [],
   "source": [
    "# creating another instance of random forest classifier with some changes in hyperparameter\n",
    "rft= RandomForestClassifier(bootstrap=True, n_estimators=1000,max_depth=8,random_state =42,criterion='entropy')"
   ]
  },
  {
   "cell_type": "code",
   "execution_count": 394,
   "id": "9822da44",
   "metadata": {},
   "outputs": [
    {
     "data": {
      "text/html": [
       "<style>#sk-container-id-2 {\n",
       "  /* Definition of color scheme common for light and dark mode */\n",
       "  --sklearn-color-text: black;\n",
       "  --sklearn-color-line: gray;\n",
       "  /* Definition of color scheme for unfitted estimators */\n",
       "  --sklearn-color-unfitted-level-0: #fff5e6;\n",
       "  --sklearn-color-unfitted-level-1: #f6e4d2;\n",
       "  --sklearn-color-unfitted-level-2: #ffe0b3;\n",
       "  --sklearn-color-unfitted-level-3: chocolate;\n",
       "  /* Definition of color scheme for fitted estimators */\n",
       "  --sklearn-color-fitted-level-0: #f0f8ff;\n",
       "  --sklearn-color-fitted-level-1: #d4ebff;\n",
       "  --sklearn-color-fitted-level-2: #b3dbfd;\n",
       "  --sklearn-color-fitted-level-3: cornflowerblue;\n",
       "\n",
       "  /* Specific color for light theme */\n",
       "  --sklearn-color-text-on-default-background: var(--sg-text-color, var(--theme-code-foreground, var(--jp-content-font-color1, black)));\n",
       "  --sklearn-color-background: var(--sg-background-color, var(--theme-background, var(--jp-layout-color0, white)));\n",
       "  --sklearn-color-border-box: var(--sg-text-color, var(--theme-code-foreground, var(--jp-content-font-color1, black)));\n",
       "  --sklearn-color-icon: #696969;\n",
       "\n",
       "  @media (prefers-color-scheme: dark) {\n",
       "    /* Redefinition of color scheme for dark theme */\n",
       "    --sklearn-color-text-on-default-background: var(--sg-text-color, var(--theme-code-foreground, var(--jp-content-font-color1, white)));\n",
       "    --sklearn-color-background: var(--sg-background-color, var(--theme-background, var(--jp-layout-color0, #111)));\n",
       "    --sklearn-color-border-box: var(--sg-text-color, var(--theme-code-foreground, var(--jp-content-font-color1, white)));\n",
       "    --sklearn-color-icon: #878787;\n",
       "  }\n",
       "}\n",
       "\n",
       "#sk-container-id-2 {\n",
       "  color: var(--sklearn-color-text);\n",
       "}\n",
       "\n",
       "#sk-container-id-2 pre {\n",
       "  padding: 0;\n",
       "}\n",
       "\n",
       "#sk-container-id-2 input.sk-hidden--visually {\n",
       "  border: 0;\n",
       "  clip: rect(1px 1px 1px 1px);\n",
       "  clip: rect(1px, 1px, 1px, 1px);\n",
       "  height: 1px;\n",
       "  margin: -1px;\n",
       "  overflow: hidden;\n",
       "  padding: 0;\n",
       "  position: absolute;\n",
       "  width: 1px;\n",
       "}\n",
       "\n",
       "#sk-container-id-2 div.sk-dashed-wrapped {\n",
       "  border: 1px dashed var(--sklearn-color-line);\n",
       "  margin: 0 0.4em 0.5em 0.4em;\n",
       "  box-sizing: border-box;\n",
       "  padding-bottom: 0.4em;\n",
       "  background-color: var(--sklearn-color-background);\n",
       "}\n",
       "\n",
       "#sk-container-id-2 div.sk-container {\n",
       "  /* jupyter's `normalize.less` sets `[hidden] { display: none; }`\n",
       "     but bootstrap.min.css set `[hidden] { display: none !important; }`\n",
       "     so we also need the `!important` here to be able to override the\n",
       "     default hidden behavior on the sphinx rendered scikit-learn.org.\n",
       "     See: https://github.com/scikit-learn/scikit-learn/issues/21755 */\n",
       "  display: inline-block !important;\n",
       "  position: relative;\n",
       "}\n",
       "\n",
       "#sk-container-id-2 div.sk-text-repr-fallback {\n",
       "  display: none;\n",
       "}\n",
       "\n",
       "div.sk-parallel-item,\n",
       "div.sk-serial,\n",
       "div.sk-item {\n",
       "  /* draw centered vertical line to link estimators */\n",
       "  background-image: linear-gradient(var(--sklearn-color-text-on-default-background), var(--sklearn-color-text-on-default-background));\n",
       "  background-size: 2px 100%;\n",
       "  background-repeat: no-repeat;\n",
       "  background-position: center center;\n",
       "}\n",
       "\n",
       "/* Parallel-specific style estimator block */\n",
       "\n",
       "#sk-container-id-2 div.sk-parallel-item::after {\n",
       "  content: \"\";\n",
       "  width: 100%;\n",
       "  border-bottom: 2px solid var(--sklearn-color-text-on-default-background);\n",
       "  flex-grow: 1;\n",
       "}\n",
       "\n",
       "#sk-container-id-2 div.sk-parallel {\n",
       "  display: flex;\n",
       "  align-items: stretch;\n",
       "  justify-content: center;\n",
       "  background-color: var(--sklearn-color-background);\n",
       "  position: relative;\n",
       "}\n",
       "\n",
       "#sk-container-id-2 div.sk-parallel-item {\n",
       "  display: flex;\n",
       "  flex-direction: column;\n",
       "}\n",
       "\n",
       "#sk-container-id-2 div.sk-parallel-item:first-child::after {\n",
       "  align-self: flex-end;\n",
       "  width: 50%;\n",
       "}\n",
       "\n",
       "#sk-container-id-2 div.sk-parallel-item:last-child::after {\n",
       "  align-self: flex-start;\n",
       "  width: 50%;\n",
       "}\n",
       "\n",
       "#sk-container-id-2 div.sk-parallel-item:only-child::after {\n",
       "  width: 0;\n",
       "}\n",
       "\n",
       "/* Serial-specific style estimator block */\n",
       "\n",
       "#sk-container-id-2 div.sk-serial {\n",
       "  display: flex;\n",
       "  flex-direction: column;\n",
       "  align-items: center;\n",
       "  background-color: var(--sklearn-color-background);\n",
       "  padding-right: 1em;\n",
       "  padding-left: 1em;\n",
       "}\n",
       "\n",
       "\n",
       "/* Toggleable style: style used for estimator/Pipeline/ColumnTransformer box that is\n",
       "clickable and can be expanded/collapsed.\n",
       "- Pipeline and ColumnTransformer use this feature and define the default style\n",
       "- Estimators will overwrite some part of the style using the `sk-estimator` class\n",
       "*/\n",
       "\n",
       "/* Pipeline and ColumnTransformer style (default) */\n",
       "\n",
       "#sk-container-id-2 div.sk-toggleable {\n",
       "  /* Default theme specific background. It is overwritten whether we have a\n",
       "  specific estimator or a Pipeline/ColumnTransformer */\n",
       "  background-color: var(--sklearn-color-background);\n",
       "}\n",
       "\n",
       "/* Toggleable label */\n",
       "#sk-container-id-2 label.sk-toggleable__label {\n",
       "  cursor: pointer;\n",
       "  display: block;\n",
       "  width: 100%;\n",
       "  margin-bottom: 0;\n",
       "  padding: 0.5em;\n",
       "  box-sizing: border-box;\n",
       "  text-align: center;\n",
       "}\n",
       "\n",
       "#sk-container-id-2 label.sk-toggleable__label-arrow:before {\n",
       "  /* Arrow on the left of the label */\n",
       "  content: \"▸\";\n",
       "  float: left;\n",
       "  margin-right: 0.25em;\n",
       "  color: var(--sklearn-color-icon);\n",
       "}\n",
       "\n",
       "#sk-container-id-2 label.sk-toggleable__label-arrow:hover:before {\n",
       "  color: var(--sklearn-color-text);\n",
       "}\n",
       "\n",
       "/* Toggleable content - dropdown */\n",
       "\n",
       "#sk-container-id-2 div.sk-toggleable__content {\n",
       "  max-height: 0;\n",
       "  max-width: 0;\n",
       "  overflow: hidden;\n",
       "  text-align: left;\n",
       "  /* unfitted */\n",
       "  background-color: var(--sklearn-color-unfitted-level-0);\n",
       "}\n",
       "\n",
       "#sk-container-id-2 div.sk-toggleable__content.fitted {\n",
       "  /* fitted */\n",
       "  background-color: var(--sklearn-color-fitted-level-0);\n",
       "}\n",
       "\n",
       "#sk-container-id-2 div.sk-toggleable__content pre {\n",
       "  margin: 0.2em;\n",
       "  border-radius: 0.25em;\n",
       "  color: var(--sklearn-color-text);\n",
       "  /* unfitted */\n",
       "  background-color: var(--sklearn-color-unfitted-level-0);\n",
       "}\n",
       "\n",
       "#sk-container-id-2 div.sk-toggleable__content.fitted pre {\n",
       "  /* unfitted */\n",
       "  background-color: var(--sklearn-color-fitted-level-0);\n",
       "}\n",
       "\n",
       "#sk-container-id-2 input.sk-toggleable__control:checked~div.sk-toggleable__content {\n",
       "  /* Expand drop-down */\n",
       "  max-height: 200px;\n",
       "  max-width: 100%;\n",
       "  overflow: auto;\n",
       "}\n",
       "\n",
       "#sk-container-id-2 input.sk-toggleable__control:checked~label.sk-toggleable__label-arrow:before {\n",
       "  content: \"▾\";\n",
       "}\n",
       "\n",
       "/* Pipeline/ColumnTransformer-specific style */\n",
       "\n",
       "#sk-container-id-2 div.sk-label input.sk-toggleable__control:checked~label.sk-toggleable__label {\n",
       "  color: var(--sklearn-color-text);\n",
       "  background-color: var(--sklearn-color-unfitted-level-2);\n",
       "}\n",
       "\n",
       "#sk-container-id-2 div.sk-label.fitted input.sk-toggleable__control:checked~label.sk-toggleable__label {\n",
       "  background-color: var(--sklearn-color-fitted-level-2);\n",
       "}\n",
       "\n",
       "/* Estimator-specific style */\n",
       "\n",
       "/* Colorize estimator box */\n",
       "#sk-container-id-2 div.sk-estimator input.sk-toggleable__control:checked~label.sk-toggleable__label {\n",
       "  /* unfitted */\n",
       "  background-color: var(--sklearn-color-unfitted-level-2);\n",
       "}\n",
       "\n",
       "#sk-container-id-2 div.sk-estimator.fitted input.sk-toggleable__control:checked~label.sk-toggleable__label {\n",
       "  /* fitted */\n",
       "  background-color: var(--sklearn-color-fitted-level-2);\n",
       "}\n",
       "\n",
       "#sk-container-id-2 div.sk-label label.sk-toggleable__label,\n",
       "#sk-container-id-2 div.sk-label label {\n",
       "  /* The background is the default theme color */\n",
       "  color: var(--sklearn-color-text-on-default-background);\n",
       "}\n",
       "\n",
       "/* On hover, darken the color of the background */\n",
       "#sk-container-id-2 div.sk-label:hover label.sk-toggleable__label {\n",
       "  color: var(--sklearn-color-text);\n",
       "  background-color: var(--sklearn-color-unfitted-level-2);\n",
       "}\n",
       "\n",
       "/* Label box, darken color on hover, fitted */\n",
       "#sk-container-id-2 div.sk-label.fitted:hover label.sk-toggleable__label.fitted {\n",
       "  color: var(--sklearn-color-text);\n",
       "  background-color: var(--sklearn-color-fitted-level-2);\n",
       "}\n",
       "\n",
       "/* Estimator label */\n",
       "\n",
       "#sk-container-id-2 div.sk-label label {\n",
       "  font-family: monospace;\n",
       "  font-weight: bold;\n",
       "  display: inline-block;\n",
       "  line-height: 1.2em;\n",
       "}\n",
       "\n",
       "#sk-container-id-2 div.sk-label-container {\n",
       "  text-align: center;\n",
       "}\n",
       "\n",
       "/* Estimator-specific */\n",
       "#sk-container-id-2 div.sk-estimator {\n",
       "  font-family: monospace;\n",
       "  border: 1px dotted var(--sklearn-color-border-box);\n",
       "  border-radius: 0.25em;\n",
       "  box-sizing: border-box;\n",
       "  margin-bottom: 0.5em;\n",
       "  /* unfitted */\n",
       "  background-color: var(--sklearn-color-unfitted-level-0);\n",
       "}\n",
       "\n",
       "#sk-container-id-2 div.sk-estimator.fitted {\n",
       "  /* fitted */\n",
       "  background-color: var(--sklearn-color-fitted-level-0);\n",
       "}\n",
       "\n",
       "/* on hover */\n",
       "#sk-container-id-2 div.sk-estimator:hover {\n",
       "  /* unfitted */\n",
       "  background-color: var(--sklearn-color-unfitted-level-2);\n",
       "}\n",
       "\n",
       "#sk-container-id-2 div.sk-estimator.fitted:hover {\n",
       "  /* fitted */\n",
       "  background-color: var(--sklearn-color-fitted-level-2);\n",
       "}\n",
       "\n",
       "/* Specification for estimator info (e.g. \"i\" and \"?\") */\n",
       "\n",
       "/* Common style for \"i\" and \"?\" */\n",
       "\n",
       ".sk-estimator-doc-link,\n",
       "a:link.sk-estimator-doc-link,\n",
       "a:visited.sk-estimator-doc-link {\n",
       "  float: right;\n",
       "  font-size: smaller;\n",
       "  line-height: 1em;\n",
       "  font-family: monospace;\n",
       "  background-color: var(--sklearn-color-background);\n",
       "  border-radius: 1em;\n",
       "  height: 1em;\n",
       "  width: 1em;\n",
       "  text-decoration: none !important;\n",
       "  margin-left: 1ex;\n",
       "  /* unfitted */\n",
       "  border: var(--sklearn-color-unfitted-level-1) 1pt solid;\n",
       "  color: var(--sklearn-color-unfitted-level-1);\n",
       "}\n",
       "\n",
       ".sk-estimator-doc-link.fitted,\n",
       "a:link.sk-estimator-doc-link.fitted,\n",
       "a:visited.sk-estimator-doc-link.fitted {\n",
       "  /* fitted */\n",
       "  border: var(--sklearn-color-fitted-level-1) 1pt solid;\n",
       "  color: var(--sklearn-color-fitted-level-1);\n",
       "}\n",
       "\n",
       "/* On hover */\n",
       "div.sk-estimator:hover .sk-estimator-doc-link:hover,\n",
       ".sk-estimator-doc-link:hover,\n",
       "div.sk-label-container:hover .sk-estimator-doc-link:hover,\n",
       ".sk-estimator-doc-link:hover {\n",
       "  /* unfitted */\n",
       "  background-color: var(--sklearn-color-unfitted-level-3);\n",
       "  color: var(--sklearn-color-background);\n",
       "  text-decoration: none;\n",
       "}\n",
       "\n",
       "div.sk-estimator.fitted:hover .sk-estimator-doc-link.fitted:hover,\n",
       ".sk-estimator-doc-link.fitted:hover,\n",
       "div.sk-label-container:hover .sk-estimator-doc-link.fitted:hover,\n",
       ".sk-estimator-doc-link.fitted:hover {\n",
       "  /* fitted */\n",
       "  background-color: var(--sklearn-color-fitted-level-3);\n",
       "  color: var(--sklearn-color-background);\n",
       "  text-decoration: none;\n",
       "}\n",
       "\n",
       "/* Span, style for the box shown on hovering the info icon */\n",
       ".sk-estimator-doc-link span {\n",
       "  display: none;\n",
       "  z-index: 9999;\n",
       "  position: relative;\n",
       "  font-weight: normal;\n",
       "  right: .2ex;\n",
       "  padding: .5ex;\n",
       "  margin: .5ex;\n",
       "  width: min-content;\n",
       "  min-width: 20ex;\n",
       "  max-width: 50ex;\n",
       "  color: var(--sklearn-color-text);\n",
       "  box-shadow: 2pt 2pt 4pt #999;\n",
       "  /* unfitted */\n",
       "  background: var(--sklearn-color-unfitted-level-0);\n",
       "  border: .5pt solid var(--sklearn-color-unfitted-level-3);\n",
       "}\n",
       "\n",
       ".sk-estimator-doc-link.fitted span {\n",
       "  /* fitted */\n",
       "  background: var(--sklearn-color-fitted-level-0);\n",
       "  border: var(--sklearn-color-fitted-level-3);\n",
       "}\n",
       "\n",
       ".sk-estimator-doc-link:hover span {\n",
       "  display: block;\n",
       "}\n",
       "\n",
       "/* \"?\"-specific style due to the `<a>` HTML tag */\n",
       "\n",
       "#sk-container-id-2 a.estimator_doc_link {\n",
       "  float: right;\n",
       "  font-size: 1rem;\n",
       "  line-height: 1em;\n",
       "  font-family: monospace;\n",
       "  background-color: var(--sklearn-color-background);\n",
       "  border-radius: 1rem;\n",
       "  height: 1rem;\n",
       "  width: 1rem;\n",
       "  text-decoration: none;\n",
       "  /* unfitted */\n",
       "  color: var(--sklearn-color-unfitted-level-1);\n",
       "  border: var(--sklearn-color-unfitted-level-1) 1pt solid;\n",
       "}\n",
       "\n",
       "#sk-container-id-2 a.estimator_doc_link.fitted {\n",
       "  /* fitted */\n",
       "  border: var(--sklearn-color-fitted-level-1) 1pt solid;\n",
       "  color: var(--sklearn-color-fitted-level-1);\n",
       "}\n",
       "\n",
       "/* On hover */\n",
       "#sk-container-id-2 a.estimator_doc_link:hover {\n",
       "  /* unfitted */\n",
       "  background-color: var(--sklearn-color-unfitted-level-3);\n",
       "  color: var(--sklearn-color-background);\n",
       "  text-decoration: none;\n",
       "}\n",
       "\n",
       "#sk-container-id-2 a.estimator_doc_link.fitted:hover {\n",
       "  /* fitted */\n",
       "  background-color: var(--sklearn-color-fitted-level-3);\n",
       "}\n",
       "</style><div id=\"sk-container-id-2\" class=\"sk-top-container\"><div class=\"sk-text-repr-fallback\"><pre>RandomForestClassifier(criterion=&#x27;entropy&#x27;, max_depth=8, n_estimators=1000,\n",
       "                       random_state=42)</pre><b>In a Jupyter environment, please rerun this cell to show the HTML representation or trust the notebook. <br />On GitHub, the HTML representation is unable to render, please try loading this page with nbviewer.org.</b></div><div class=\"sk-container\" hidden><div class=\"sk-item\"><div class=\"sk-estimator fitted sk-toggleable\"><input class=\"sk-toggleable__control sk-hidden--visually\" id=\"sk-estimator-id-2\" type=\"checkbox\" checked><label for=\"sk-estimator-id-2\" class=\"sk-toggleable__label fitted sk-toggleable__label-arrow fitted\">&nbsp;&nbsp;RandomForestClassifier<a class=\"sk-estimator-doc-link fitted\" rel=\"noreferrer\" target=\"_blank\" href=\"https://scikit-learn.org/1.4/modules/generated/sklearn.ensemble.RandomForestClassifier.html\">?<span>Documentation for RandomForestClassifier</span></a><span class=\"sk-estimator-doc-link fitted\">i<span>Fitted</span></span></label><div class=\"sk-toggleable__content fitted\"><pre>RandomForestClassifier(criterion=&#x27;entropy&#x27;, max_depth=8, n_estimators=1000,\n",
       "                       random_state=42)</pre></div> </div></div></div></div>"
      ],
      "text/plain": [
       "RandomForestClassifier(criterion='entropy', max_depth=8, n_estimators=1000,\n",
       "                       random_state=42)"
      ]
     },
     "execution_count": 394,
     "metadata": {},
     "output_type": "execute_result"
    }
   ],
   "source": [
    "rft.fit(X_train,y_train)"
   ]
  },
  {
   "cell_type": "code",
   "execution_count": 395,
   "id": "11c6d27a",
   "metadata": {},
   "outputs": [],
   "source": [
    "y_pred=rft.predict(X_test)"
   ]
  },
  {
   "cell_type": "code",
   "execution_count": 396,
   "id": "8ab61bd4",
   "metadata": {},
   "outputs": [
    {
     "name": "stdout",
     "output_type": "stream",
     "text": [
      "Accuracy is :  59.03225806451613\n"
     ]
    }
   ],
   "source": [
    "print(\"Accuracy is : \", accuracy_score(y_test, y_pred)*100)"
   ]
  },
  {
   "cell_type": "markdown",
   "id": "83a94fb8",
   "metadata": {},
   "source": [
    "## 6. Gradient Boosting "
   ]
  },
  {
   "cell_type": "code",
   "execution_count": 399,
   "id": "5f122aca",
   "metadata": {},
   "outputs": [],
   "source": [
    "from sklearn.ensemble import GradientBoostingClassifier\n",
    "gb = GradientBoostingClassifier()\n",
    "gb.fit(X_train,y_train)\n",
    "y_pred = gb.predict(X_test)"
   ]
  },
  {
   "cell_type": "markdown",
   "id": "78266de8",
   "metadata": {},
   "source": [
    "### Performance Evaluation"
   ]
  },
  {
   "cell_type": "code",
   "execution_count": 401,
   "id": "57e01109",
   "metadata": {},
   "outputs": [
    {
     "name": "stdout",
     "output_type": "stream",
     "text": [
      "Accuracy is:  57.096774193548384\n"
     ]
    }
   ],
   "source": [
    "print('Accuracy is: ',accuracy_score(y_test,y_pred)*100)"
   ]
  },
  {
   "cell_type": "markdown",
   "id": "4bf42dba",
   "metadata": {},
   "source": [
    "### Confusion Matrix"
   ]
  },
  {
   "cell_type": "code",
   "execution_count": 403,
   "id": "f0e2bb58",
   "metadata": {},
   "outputs": [
    {
     "data": {
      "text/plain": [
       "array([[89,  1,  0,  0, 18],\n",
       "       [ 1,  3,  8,  9,  5],\n",
       "       [ 8,  4, 17,  6, 18],\n",
       "       [ 6,  6, 10, 32,  9],\n",
       "       [12,  1,  6,  5, 36]], dtype=int64)"
      ]
     },
     "execution_count": 403,
     "metadata": {},
     "output_type": "execute_result"
    }
   ],
   "source": [
    "confusion_matrix(y_test,y_pred)"
   ]
  },
  {
   "cell_type": "markdown",
   "id": "18bbd35b",
   "metadata": {},
   "source": [
    "### 7. Extreme Gradient Boosting"
   ]
  },
  {
   "cell_type": "code",
   "execution_count": 406,
   "id": "8c4df6ee",
   "metadata": {},
   "outputs": [],
   "source": [
    "from xgboost import XGBClassifier\n",
    "#creating an instance\n",
    "xgb=XGBClassifier()\n",
    "xgb.fit(X_train,y_train)\n",
    "y_pred= xgb.predict(X_test)"
   ]
  },
  {
   "cell_type": "markdown",
   "id": "d8d78399",
   "metadata": {},
   "source": [
    "### Performance Evaluation"
   ]
  },
  {
   "cell_type": "code",
   "execution_count": 408,
   "id": "de72bdf7",
   "metadata": {},
   "outputs": [
    {
     "name": "stdout",
     "output_type": "stream",
     "text": [
      "Accuracy is:  57.41935483870968\n"
     ]
    }
   ],
   "source": [
    "print('Accuracy is: ',accuracy_score(y_test,y_pred)*100)"
   ]
  },
  {
   "cell_type": "markdown",
   "id": "016d5513",
   "metadata": {},
   "source": [
    "### Confusion Matrix"
   ]
  },
  {
   "cell_type": "code",
   "execution_count": 410,
   "id": "9829a9c5",
   "metadata": {},
   "outputs": [
    {
     "data": {
      "text/plain": [
       "array([[89,  0,  3,  1, 15],\n",
       "       [ 1,  2, 10,  8,  5],\n",
       "       [12,  4, 17,  6, 14],\n",
       "       [ 6,  4,  9, 34, 10],\n",
       "       [12,  3,  3,  6, 36]], dtype=int64)"
      ]
     },
     "execution_count": 410,
     "metadata": {},
     "output_type": "execute_result"
    }
   ],
   "source": [
    "confusion_matrix(y_test,y_pred)"
   ]
  },
  {
   "cell_type": "markdown",
   "id": "1579092f",
   "metadata": {},
   "source": [
    "## Inference\n",
    "\n",
    "Accuracies of classification models:\n",
    "\n",
    "1. Logistic Regression - 55.16%\n",
    "\n",
    "\n",
    "2. KNN Model - 53.22%\n",
    "\n",
    "\n",
    "3. Decision Tree Classifier - 54.51%\n",
    "\n",
    "\n",
    "4. Support Vector Machine:\n",
    "\n",
    "   Linear SVM - 59.03%\n",
    "   \n",
    "   Polynomial SVM -  54.51% \n",
    "   \n",
    "   Radial SVM - 54.83%\n",
    "   \n",
    "                         \n",
    "5. Random Forest - 55.16%\n",
    "\n",
    "\n",
    "     Fine-tuning Random Forest - 59.03%\n",
    "   \n",
    "\n",
    "6. Gradient Boosting - 57.09%\n",
    "\n",
    "\n",
    "7. Extreme Gradient Boosting - 57.41%\n"
   ]
  },
  {
   "cell_type": "markdown",
   "id": "06136ec0",
   "metadata": {},
   "source": [
    "## Recommendations\n",
    "\n",
    "Based on the derived EDAs, the following are recommended with regard to the use of Topamax:\n",
    "    \n",
    "* The drug is safe for use by those up to 24 years (maximum nil side effects)\n",
    "\n",
    "* Females in general are better to use the drug under a physician’s guidance given the high chances of extremely severe side effects.\n",
    "\n"
   ]
  },
  {
   "cell_type": "markdown",
   "id": "cf1fe459",
   "metadata": {},
   "source": [
    "## Conclusion\n",
    "Performed various pre-processing steps and obtained a clean dataset for exploratory data analysis and modeling. Various visualisations were done on the dataset and selected a particular drug Topamax. Maximum users consume this drug for migraine prevention.\n",
    "\n",
    "\n",
    "The best classification model was obtained by a linear support vector machine. On performance evaluation, a maximum accuracy of 59.03% was achieved.\n",
    "\n",
    "\n",
    "By race, Whites topped in the usage of this drug with a higher female ratio. Domination of female users were consistent across age groups above 12 and below 75 years. Also, people in the age groups 35 to 44, 45 to 54 and 25 to 34 accounted for maximum usage of Topamax. Most users found Topamax as highly effective, especially females. Most rated it highly for its ease of use as well. Side effects of the drug proved race neutral. Genderwise, side effects proved extreme in females."
   ]
  }
 ],
 "metadata": {
  "kernelspec": {
   "display_name": "Python 3 (ipykernel)",
   "language": "python",
   "name": "python3"
  },
  "language_info": {
   "codemirror_mode": {
    "name": "ipython",
    "version": 3
   },
   "file_extension": ".py",
   "mimetype": "text/x-python",
   "name": "python",
   "nbconvert_exporter": "python",
   "pygments_lexer": "ipython3",
   "version": "3.12.4"
  }
 },
 "nbformat": 4,
 "nbformat_minor": 5
}
